{
 "cells": [
  {
   "cell_type": "markdown",
   "metadata": {},
   "source": [
    "## Análisis de datos exploratorio"
   ]
  },
  {
   "cell_type": "code",
   "execution_count": 1,
   "metadata": {},
   "outputs": [],
   "source": [
    "import pandas as pd\n",
    "import numpy as np\n",
    "import matplotlib.pyplot as plt\n",
    "import seaborn as sns\n",
    "import pandas_profiling as ppr"
   ]
  },
  {
   "cell_type": "code",
   "execution_count": 2,
   "metadata": {},
   "outputs": [],
   "source": [
    "## se puedan visualizar los gráficos en el notebook\n",
    "%matplotlib inline"
   ]
  },
  {
   "cell_type": "code",
   "execution_count": 3,
   "metadata": {},
   "outputs": [
    {
     "data": {
      "text/html": [
       "<div>\n",
       "<style scoped>\n",
       "    .dataframe tbody tr th:only-of-type {\n",
       "        vertical-align: middle;\n",
       "    }\n",
       "\n",
       "    .dataframe tbody tr th {\n",
       "        vertical-align: top;\n",
       "    }\n",
       "\n",
       "    .dataframe thead th {\n",
       "        text-align: right;\n",
       "    }\n",
       "</style>\n",
       "<table border=\"1\" class=\"dataframe\">\n",
       "  <thead>\n",
       "    <tr style=\"text-align: right;\">\n",
       "      <th></th>\n",
       "      <th>Income</th>\n",
       "      <th>Kidhome</th>\n",
       "      <th>Teenhome</th>\n",
       "      <th>Recency</th>\n",
       "      <th>MntWines</th>\n",
       "      <th>MntFruits</th>\n",
       "      <th>MntMeatProducts</th>\n",
       "      <th>MntFishProducts</th>\n",
       "      <th>MntSweetProducts</th>\n",
       "      <th>MntGoldProds</th>\n",
       "      <th>...</th>\n",
       "      <th>marital_Together</th>\n",
       "      <th>marital_Widow</th>\n",
       "      <th>education_2n Cycle</th>\n",
       "      <th>education_Basic</th>\n",
       "      <th>education_Graduation</th>\n",
       "      <th>education_Master</th>\n",
       "      <th>education_PhD</th>\n",
       "      <th>MntTotal</th>\n",
       "      <th>MntRegularProds</th>\n",
       "      <th>AcceptedCmpOverall</th>\n",
       "    </tr>\n",
       "  </thead>\n",
       "  <tbody>\n",
       "    <tr>\n",
       "      <th>0</th>\n",
       "      <td>58138.0</td>\n",
       "      <td>0</td>\n",
       "      <td>0</td>\n",
       "      <td>58</td>\n",
       "      <td>635</td>\n",
       "      <td>88</td>\n",
       "      <td>546</td>\n",
       "      <td>172</td>\n",
       "      <td>88</td>\n",
       "      <td>88</td>\n",
       "      <td>...</td>\n",
       "      <td>0</td>\n",
       "      <td>0</td>\n",
       "      <td>0</td>\n",
       "      <td>0</td>\n",
       "      <td>1</td>\n",
       "      <td>0</td>\n",
       "      <td>0</td>\n",
       "      <td>1529</td>\n",
       "      <td>1441</td>\n",
       "      <td>0</td>\n",
       "    </tr>\n",
       "    <tr>\n",
       "      <th>1</th>\n",
       "      <td>46344.0</td>\n",
       "      <td>1</td>\n",
       "      <td>1</td>\n",
       "      <td>38</td>\n",
       "      <td>11</td>\n",
       "      <td>1</td>\n",
       "      <td>6</td>\n",
       "      <td>2</td>\n",
       "      <td>1</td>\n",
       "      <td>6</td>\n",
       "      <td>...</td>\n",
       "      <td>0</td>\n",
       "      <td>0</td>\n",
       "      <td>0</td>\n",
       "      <td>0</td>\n",
       "      <td>1</td>\n",
       "      <td>0</td>\n",
       "      <td>0</td>\n",
       "      <td>21</td>\n",
       "      <td>15</td>\n",
       "      <td>0</td>\n",
       "    </tr>\n",
       "    <tr>\n",
       "      <th>2</th>\n",
       "      <td>71613.0</td>\n",
       "      <td>0</td>\n",
       "      <td>0</td>\n",
       "      <td>26</td>\n",
       "      <td>426</td>\n",
       "      <td>49</td>\n",
       "      <td>127</td>\n",
       "      <td>111</td>\n",
       "      <td>21</td>\n",
       "      <td>42</td>\n",
       "      <td>...</td>\n",
       "      <td>1</td>\n",
       "      <td>0</td>\n",
       "      <td>0</td>\n",
       "      <td>0</td>\n",
       "      <td>1</td>\n",
       "      <td>0</td>\n",
       "      <td>0</td>\n",
       "      <td>734</td>\n",
       "      <td>692</td>\n",
       "      <td>0</td>\n",
       "    </tr>\n",
       "    <tr>\n",
       "      <th>3</th>\n",
       "      <td>26646.0</td>\n",
       "      <td>1</td>\n",
       "      <td>0</td>\n",
       "      <td>26</td>\n",
       "      <td>11</td>\n",
       "      <td>4</td>\n",
       "      <td>20</td>\n",
       "      <td>10</td>\n",
       "      <td>3</td>\n",
       "      <td>5</td>\n",
       "      <td>...</td>\n",
       "      <td>1</td>\n",
       "      <td>0</td>\n",
       "      <td>0</td>\n",
       "      <td>0</td>\n",
       "      <td>1</td>\n",
       "      <td>0</td>\n",
       "      <td>0</td>\n",
       "      <td>48</td>\n",
       "      <td>43</td>\n",
       "      <td>0</td>\n",
       "    </tr>\n",
       "    <tr>\n",
       "      <th>4</th>\n",
       "      <td>58293.0</td>\n",
       "      <td>1</td>\n",
       "      <td>0</td>\n",
       "      <td>94</td>\n",
       "      <td>173</td>\n",
       "      <td>43</td>\n",
       "      <td>118</td>\n",
       "      <td>46</td>\n",
       "      <td>27</td>\n",
       "      <td>15</td>\n",
       "      <td>...</td>\n",
       "      <td>0</td>\n",
       "      <td>0</td>\n",
       "      <td>0</td>\n",
       "      <td>0</td>\n",
       "      <td>0</td>\n",
       "      <td>0</td>\n",
       "      <td>1</td>\n",
       "      <td>407</td>\n",
       "      <td>392</td>\n",
       "      <td>0</td>\n",
       "    </tr>\n",
       "  </tbody>\n",
       "</table>\n",
       "<p>5 rows × 39 columns</p>\n",
       "</div>"
      ],
      "text/plain": [
       "    Income  Kidhome  Teenhome  Recency  MntWines  MntFruits  MntMeatProducts  \\\n",
       "0  58138.0        0         0       58       635         88              546   \n",
       "1  46344.0        1         1       38        11          1                6   \n",
       "2  71613.0        0         0       26       426         49              127   \n",
       "3  26646.0        1         0       26        11          4               20   \n",
       "4  58293.0        1         0       94       173         43              118   \n",
       "\n",
       "   MntFishProducts  MntSweetProducts  MntGoldProds  ...  marital_Together  \\\n",
       "0              172                88            88  ...                 0   \n",
       "1                2                 1             6  ...                 0   \n",
       "2              111                21            42  ...                 1   \n",
       "3               10                 3             5  ...                 1   \n",
       "4               46                27            15  ...                 0   \n",
       "\n",
       "   marital_Widow  education_2n Cycle  education_Basic  education_Graduation  \\\n",
       "0              0                   0                0                     1   \n",
       "1              0                   0                0                     1   \n",
       "2              0                   0                0                     1   \n",
       "3              0                   0                0                     1   \n",
       "4              0                   0                0                     0   \n",
       "\n",
       "   education_Master  education_PhD  MntTotal  MntRegularProds  \\\n",
       "0                 0              0      1529             1441   \n",
       "1                 0              0        21               15   \n",
       "2                 0              0       734              692   \n",
       "3                 0              0        48               43   \n",
       "4                 0              1       407              392   \n",
       "\n",
       "   AcceptedCmpOverall  \n",
       "0                   0  \n",
       "1                   0  \n",
       "2                   0  \n",
       "3                   0  \n",
       "4                   0  \n",
       "\n",
       "[5 rows x 39 columns]"
      ]
     },
     "execution_count": 3,
     "metadata": {},
     "output_type": "execute_result"
    }
   ],
   "source": [
    "## abriendo el dataset\n",
    "data = pd.read_csv(\"../data/ifood_df.csv\")\n",
    "data.head()"
   ]
  },
  {
   "cell_type": "code",
   "execution_count": 4,
   "metadata": {},
   "outputs": [
    {
     "name": "stdout",
     "output_type": "stream",
     "text": [
      "Información del dataset\n",
      "Filas:  2205\n",
      "Columnas:  39\n"
     ]
    }
   ],
   "source": [
    "print(\"Información del dataset\")\n",
    "print(\"Filas: \",data.shape[0])\n",
    "print(\"Columnas: \",data.shape[1])"
   ]
  },
  {
   "cell_type": "code",
   "execution_count": 5,
   "metadata": {},
   "outputs": [
    {
     "data": {
      "text/html": [
       "<div>\n",
       "<style scoped>\n",
       "    .dataframe tbody tr th:only-of-type {\n",
       "        vertical-align: middle;\n",
       "    }\n",
       "\n",
       "    .dataframe tbody tr th {\n",
       "        vertical-align: top;\n",
       "    }\n",
       "\n",
       "    .dataframe thead th {\n",
       "        text-align: right;\n",
       "    }\n",
       "</style>\n",
       "<table border=\"1\" class=\"dataframe\">\n",
       "  <thead>\n",
       "    <tr style=\"text-align: right;\">\n",
       "      <th></th>\n",
       "      <th>Income</th>\n",
       "      <th>Kidhome</th>\n",
       "      <th>Teenhome</th>\n",
       "      <th>Recency</th>\n",
       "      <th>MntWines</th>\n",
       "      <th>MntFruits</th>\n",
       "      <th>MntMeatProducts</th>\n",
       "      <th>MntFishProducts</th>\n",
       "      <th>MntSweetProducts</th>\n",
       "      <th>MntGoldProds</th>\n",
       "      <th>...</th>\n",
       "      <th>marital_Together</th>\n",
       "      <th>marital_Widow</th>\n",
       "      <th>education_2n Cycle</th>\n",
       "      <th>education_Basic</th>\n",
       "      <th>education_Graduation</th>\n",
       "      <th>education_Master</th>\n",
       "      <th>education_PhD</th>\n",
       "      <th>MntTotal</th>\n",
       "      <th>MntRegularProds</th>\n",
       "      <th>AcceptedCmpOverall</th>\n",
       "    </tr>\n",
       "  </thead>\n",
       "  <tbody>\n",
       "    <tr>\n",
       "      <th>count</th>\n",
       "      <td>2205.000000</td>\n",
       "      <td>2205.000000</td>\n",
       "      <td>2205.000000</td>\n",
       "      <td>2205.000000</td>\n",
       "      <td>2205.000000</td>\n",
       "      <td>2205.000000</td>\n",
       "      <td>2205.000000</td>\n",
       "      <td>2205.000000</td>\n",
       "      <td>2205.000000</td>\n",
       "      <td>2205.000000</td>\n",
       "      <td>...</td>\n",
       "      <td>2205.000000</td>\n",
       "      <td>2205.000000</td>\n",
       "      <td>2205.000000</td>\n",
       "      <td>2205.000000</td>\n",
       "      <td>2205.000000</td>\n",
       "      <td>2205.000000</td>\n",
       "      <td>2205.000000</td>\n",
       "      <td>2205.000000</td>\n",
       "      <td>2205.000000</td>\n",
       "      <td>2205.00000</td>\n",
       "    </tr>\n",
       "    <tr>\n",
       "      <th>mean</th>\n",
       "      <td>51622.094785</td>\n",
       "      <td>0.442177</td>\n",
       "      <td>0.506576</td>\n",
       "      <td>49.009070</td>\n",
       "      <td>306.164626</td>\n",
       "      <td>26.403175</td>\n",
       "      <td>165.312018</td>\n",
       "      <td>37.756463</td>\n",
       "      <td>27.128345</td>\n",
       "      <td>44.057143</td>\n",
       "      <td>...</td>\n",
       "      <td>0.257596</td>\n",
       "      <td>0.034467</td>\n",
       "      <td>0.089796</td>\n",
       "      <td>0.024490</td>\n",
       "      <td>0.504762</td>\n",
       "      <td>0.165079</td>\n",
       "      <td>0.215873</td>\n",
       "      <td>562.764626</td>\n",
       "      <td>518.707483</td>\n",
       "      <td>0.29932</td>\n",
       "    </tr>\n",
       "    <tr>\n",
       "      <th>std</th>\n",
       "      <td>20713.063826</td>\n",
       "      <td>0.537132</td>\n",
       "      <td>0.544380</td>\n",
       "      <td>28.932111</td>\n",
       "      <td>337.493839</td>\n",
       "      <td>39.784484</td>\n",
       "      <td>217.784507</td>\n",
       "      <td>54.824635</td>\n",
       "      <td>41.130468</td>\n",
       "      <td>51.736211</td>\n",
       "      <td>...</td>\n",
       "      <td>0.437410</td>\n",
       "      <td>0.182467</td>\n",
       "      <td>0.285954</td>\n",
       "      <td>0.154599</td>\n",
       "      <td>0.500091</td>\n",
       "      <td>0.371336</td>\n",
       "      <td>0.411520</td>\n",
       "      <td>575.936911</td>\n",
       "      <td>553.847248</td>\n",
       "      <td>0.68044</td>\n",
       "    </tr>\n",
       "    <tr>\n",
       "      <th>min</th>\n",
       "      <td>1730.000000</td>\n",
       "      <td>0.000000</td>\n",
       "      <td>0.000000</td>\n",
       "      <td>0.000000</td>\n",
       "      <td>0.000000</td>\n",
       "      <td>0.000000</td>\n",
       "      <td>0.000000</td>\n",
       "      <td>0.000000</td>\n",
       "      <td>0.000000</td>\n",
       "      <td>0.000000</td>\n",
       "      <td>...</td>\n",
       "      <td>0.000000</td>\n",
       "      <td>0.000000</td>\n",
       "      <td>0.000000</td>\n",
       "      <td>0.000000</td>\n",
       "      <td>0.000000</td>\n",
       "      <td>0.000000</td>\n",
       "      <td>0.000000</td>\n",
       "      <td>4.000000</td>\n",
       "      <td>-283.000000</td>\n",
       "      <td>0.00000</td>\n",
       "    </tr>\n",
       "    <tr>\n",
       "      <th>25%</th>\n",
       "      <td>35196.000000</td>\n",
       "      <td>0.000000</td>\n",
       "      <td>0.000000</td>\n",
       "      <td>24.000000</td>\n",
       "      <td>24.000000</td>\n",
       "      <td>2.000000</td>\n",
       "      <td>16.000000</td>\n",
       "      <td>3.000000</td>\n",
       "      <td>1.000000</td>\n",
       "      <td>9.000000</td>\n",
       "      <td>...</td>\n",
       "      <td>0.000000</td>\n",
       "      <td>0.000000</td>\n",
       "      <td>0.000000</td>\n",
       "      <td>0.000000</td>\n",
       "      <td>0.000000</td>\n",
       "      <td>0.000000</td>\n",
       "      <td>0.000000</td>\n",
       "      <td>56.000000</td>\n",
       "      <td>42.000000</td>\n",
       "      <td>0.00000</td>\n",
       "    </tr>\n",
       "    <tr>\n",
       "      <th>50%</th>\n",
       "      <td>51287.000000</td>\n",
       "      <td>0.000000</td>\n",
       "      <td>0.000000</td>\n",
       "      <td>49.000000</td>\n",
       "      <td>178.000000</td>\n",
       "      <td>8.000000</td>\n",
       "      <td>68.000000</td>\n",
       "      <td>12.000000</td>\n",
       "      <td>8.000000</td>\n",
       "      <td>25.000000</td>\n",
       "      <td>...</td>\n",
       "      <td>0.000000</td>\n",
       "      <td>0.000000</td>\n",
       "      <td>0.000000</td>\n",
       "      <td>0.000000</td>\n",
       "      <td>1.000000</td>\n",
       "      <td>0.000000</td>\n",
       "      <td>0.000000</td>\n",
       "      <td>343.000000</td>\n",
       "      <td>288.000000</td>\n",
       "      <td>0.00000</td>\n",
       "    </tr>\n",
       "    <tr>\n",
       "      <th>75%</th>\n",
       "      <td>68281.000000</td>\n",
       "      <td>1.000000</td>\n",
       "      <td>1.000000</td>\n",
       "      <td>74.000000</td>\n",
       "      <td>507.000000</td>\n",
       "      <td>33.000000</td>\n",
       "      <td>232.000000</td>\n",
       "      <td>50.000000</td>\n",
       "      <td>34.000000</td>\n",
       "      <td>56.000000</td>\n",
       "      <td>...</td>\n",
       "      <td>1.000000</td>\n",
       "      <td>0.000000</td>\n",
       "      <td>0.000000</td>\n",
       "      <td>0.000000</td>\n",
       "      <td>1.000000</td>\n",
       "      <td>0.000000</td>\n",
       "      <td>0.000000</td>\n",
       "      <td>964.000000</td>\n",
       "      <td>884.000000</td>\n",
       "      <td>0.00000</td>\n",
       "    </tr>\n",
       "    <tr>\n",
       "      <th>max</th>\n",
       "      <td>113734.000000</td>\n",
       "      <td>2.000000</td>\n",
       "      <td>2.000000</td>\n",
       "      <td>99.000000</td>\n",
       "      <td>1493.000000</td>\n",
       "      <td>199.000000</td>\n",
       "      <td>1725.000000</td>\n",
       "      <td>259.000000</td>\n",
       "      <td>262.000000</td>\n",
       "      <td>321.000000</td>\n",
       "      <td>...</td>\n",
       "      <td>1.000000</td>\n",
       "      <td>1.000000</td>\n",
       "      <td>1.000000</td>\n",
       "      <td>1.000000</td>\n",
       "      <td>1.000000</td>\n",
       "      <td>1.000000</td>\n",
       "      <td>1.000000</td>\n",
       "      <td>2491.000000</td>\n",
       "      <td>2458.000000</td>\n",
       "      <td>4.00000</td>\n",
       "    </tr>\n",
       "  </tbody>\n",
       "</table>\n",
       "<p>8 rows × 39 columns</p>\n",
       "</div>"
      ],
      "text/plain": [
       "              Income      Kidhome     Teenhome      Recency     MntWines  \\\n",
       "count    2205.000000  2205.000000  2205.000000  2205.000000  2205.000000   \n",
       "mean    51622.094785     0.442177     0.506576    49.009070   306.164626   \n",
       "std     20713.063826     0.537132     0.544380    28.932111   337.493839   \n",
       "min      1730.000000     0.000000     0.000000     0.000000     0.000000   \n",
       "25%     35196.000000     0.000000     0.000000    24.000000    24.000000   \n",
       "50%     51287.000000     0.000000     0.000000    49.000000   178.000000   \n",
       "75%     68281.000000     1.000000     1.000000    74.000000   507.000000   \n",
       "max    113734.000000     2.000000     2.000000    99.000000  1493.000000   \n",
       "\n",
       "         MntFruits  MntMeatProducts  MntFishProducts  MntSweetProducts  \\\n",
       "count  2205.000000      2205.000000      2205.000000       2205.000000   \n",
       "mean     26.403175       165.312018        37.756463         27.128345   \n",
       "std      39.784484       217.784507        54.824635         41.130468   \n",
       "min       0.000000         0.000000         0.000000          0.000000   \n",
       "25%       2.000000        16.000000         3.000000          1.000000   \n",
       "50%       8.000000        68.000000        12.000000          8.000000   \n",
       "75%      33.000000       232.000000        50.000000         34.000000   \n",
       "max     199.000000      1725.000000       259.000000        262.000000   \n",
       "\n",
       "       MntGoldProds  ...  marital_Together  marital_Widow  education_2n Cycle  \\\n",
       "count   2205.000000  ...       2205.000000    2205.000000         2205.000000   \n",
       "mean      44.057143  ...          0.257596       0.034467            0.089796   \n",
       "std       51.736211  ...          0.437410       0.182467            0.285954   \n",
       "min        0.000000  ...          0.000000       0.000000            0.000000   \n",
       "25%        9.000000  ...          0.000000       0.000000            0.000000   \n",
       "50%       25.000000  ...          0.000000       0.000000            0.000000   \n",
       "75%       56.000000  ...          1.000000       0.000000            0.000000   \n",
       "max      321.000000  ...          1.000000       1.000000            1.000000   \n",
       "\n",
       "       education_Basic  education_Graduation  education_Master  education_PhD  \\\n",
       "count      2205.000000           2205.000000       2205.000000    2205.000000   \n",
       "mean          0.024490              0.504762          0.165079       0.215873   \n",
       "std           0.154599              0.500091          0.371336       0.411520   \n",
       "min           0.000000              0.000000          0.000000       0.000000   \n",
       "25%           0.000000              0.000000          0.000000       0.000000   \n",
       "50%           0.000000              1.000000          0.000000       0.000000   \n",
       "75%           0.000000              1.000000          0.000000       0.000000   \n",
       "max           1.000000              1.000000          1.000000       1.000000   \n",
       "\n",
       "          MntTotal  MntRegularProds  AcceptedCmpOverall  \n",
       "count  2205.000000      2205.000000          2205.00000  \n",
       "mean    562.764626       518.707483             0.29932  \n",
       "std     575.936911       553.847248             0.68044  \n",
       "min       4.000000      -283.000000             0.00000  \n",
       "25%      56.000000        42.000000             0.00000  \n",
       "50%     343.000000       288.000000             0.00000  \n",
       "75%     964.000000       884.000000             0.00000  \n",
       "max    2491.000000      2458.000000             4.00000  \n",
       "\n",
       "[8 rows x 39 columns]"
      ]
     },
     "execution_count": 5,
     "metadata": {},
     "output_type": "execute_result"
    }
   ],
   "source": [
    "## Descripción de las variables\n",
    "## MntRegularProds --> tiene valores negátivos\n",
    "data.describe()"
   ]
  },
  {
   "cell_type": "code",
   "execution_count": 6,
   "metadata": {},
   "outputs": [
    {
     "data": {
      "text/plain": [
       "Index(['AcceptedCmp1', 'AcceptedCmp2', 'AcceptedCmp3', 'AcceptedCmp4',\n",
       "       'AcceptedCmp5', 'AcceptedCmpOverall', 'Age', 'Complain',\n",
       "       'Customer_Days', 'Income', 'Kidhome', 'MntFishProducts', 'MntFruits',\n",
       "       'MntGoldProds', 'MntMeatProducts', 'MntRegularProds',\n",
       "       'MntSweetProducts', 'MntTotal', 'MntWines', 'NumCatalogPurchases',\n",
       "       'NumDealsPurchases', 'NumStorePurchases', 'NumWebPurchases',\n",
       "       'NumWebVisitsMonth', 'Recency', 'Response', 'Teenhome', 'Z_CostContact',\n",
       "       'Z_Revenue', 'education_2n Cycle', 'education_Basic',\n",
       "       'education_Graduation', 'education_Master', 'education_PhD',\n",
       "       'marital_Divorced', 'marital_Married', 'marital_Single',\n",
       "       'marital_Together', 'marital_Widow'],\n",
       "      dtype='object')"
      ]
     },
     "execution_count": 6,
     "metadata": {},
     "output_type": "execute_result"
    }
   ],
   "source": [
    "## Las variable que cuenta el dataset\n",
    "data.columns.sort_values()"
   ]
  },
  {
   "cell_type": "code",
   "execution_count": 7,
   "metadata": {},
   "outputs": [
    {
     "data": {
      "text/plain": [
       "(Index(['Income', 'Kidhome', 'Teenhome', 'Recency', 'MntWines', 'MntFruits',\n",
       "        'MntMeatProducts', 'MntFishProducts', 'MntSweetProducts',\n",
       "        'MntGoldProds', 'NumDealsPurchases', 'NumWebPurchases',\n",
       "        'NumCatalogPurchases', 'NumStorePurchases', 'NumWebVisitsMonth',\n",
       "        'AcceptedCmp3', 'AcceptedCmp4', 'AcceptedCmp5', 'AcceptedCmp1',\n",
       "        'AcceptedCmp2', 'Complain', 'Z_CostContact', 'Z_Revenue', 'Response',\n",
       "        'Age', 'Customer_Days', 'marital_Divorced', 'marital_Married',\n",
       "        'marital_Single', 'marital_Together', 'marital_Widow',\n",
       "        'education_2n Cycle', 'education_Basic', 'education_Graduation',\n",
       "        'education_Master', 'education_PhD', 'MntTotal', 'MntRegularProds',\n",
       "        'AcceptedCmpOverall'],\n",
       "       dtype='object'),\n",
       " array([dtype('float64'), dtype('int64'), dtype('int64'), dtype('int64'),\n",
       "        dtype('int64'), dtype('int64'), dtype('int64'), dtype('int64'),\n",
       "        dtype('int64'), dtype('int64'), dtype('int64'), dtype('int64'),\n",
       "        dtype('int64'), dtype('int64'), dtype('int64'), dtype('int64'),\n",
       "        dtype('int64'), dtype('int64'), dtype('int64'), dtype('int64'),\n",
       "        dtype('int64'), dtype('int64'), dtype('int64'), dtype('int64'),\n",
       "        dtype('int64'), dtype('int64'), dtype('int64'), dtype('int64'),\n",
       "        dtype('int64'), dtype('int64'), dtype('int64'), dtype('int64'),\n",
       "        dtype('int64'), dtype('int64'), dtype('int64'), dtype('int64'),\n",
       "        dtype('int64'), dtype('int64'), dtype('int64')], dtype=object))"
      ]
     },
     "execution_count": 7,
     "metadata": {},
     "output_type": "execute_result"
    }
   ],
   "source": [
    "## Tipo de datos\n",
    "# todas las variables se encuentra en formato de tipo 'int64', excepto el ingreso ('float64')\n",
    "data.dtypes.index, data.dtypes.values"
   ]
  },
  {
   "cell_type": "code",
   "execution_count": 8,
   "metadata": {},
   "outputs": [],
   "source": [
    "## guardando los % de los missing values\n",
    "con_na = (data.isna().sum().array /data.shape[0])*100\n",
    "sin_na = ((data.shape[0] - con_na)/data.shape[0])*100"
   ]
  },
  {
   "cell_type": "code",
   "execution_count": 9,
   "metadata": {},
   "outputs": [
    {
     "data": {
      "image/png": "[encoded data removed]",
      "text/plain": [
       "<Figure size 720x576 with 1 Axes>"
      ]
     },
     "metadata": {},
     "output_type": "display_data"
    }
   ],
   "source": [
    "#creando gráfico de valores ausentes \n",
    "plt.style.use('seaborn-whitegrid')\n",
    "\n",
    "columnas = data.columns.values.tolist()\n",
    "fig, ax = plt.subplots(figsize = (10,8))\n",
    "p1 = ax.barh(columnas,con_na, color = \"#DC143C\" )\n",
    "p2 = ax.barh(columnas,sin_na, color = \"#086A87\" )\n",
    "\n",
    "ax.bar_label(p1, label_type='center',padding = 15,color='r',fmt='%.0f%%', fontsize=12)\n",
    "ax.bar_label(p2, label_type='center', padding = 15,color='w',fmt='%.0f%%', fontsize=12)\n",
    "\n",
    "plt.legend(labels=['% valores ausentes', '% valores presentes'], loc = \"upper left\", ncol = 2)\n",
    "plt.title(\"Plot Mising - % Datos ausentes\" )\n",
    "plt.xticks()\n",
    "plt.show()\n"
   ]
  },
  {
   "cell_type": "code",
   "execution_count": 10,
   "metadata": {},
   "outputs": [
    {
     "name": "stdout",
     "output_type": "stream",
     "text": [
      "Income\n",
      "--------------\n",
      "[58138. 46344. 71613. ... 56981. 69245. 52869.] \n",
      "\n",
      "Kidhome\n",
      "--------------\n",
      "[0 1 2] \n",
      "\n",
      "Teenhome\n",
      "--------------\n",
      "[0 1 2] \n",
      "\n",
      "Recency\n",
      "--------------\n",
      "[58 38 26 94 16 34 32 19 68 59 82 53 23 51 20 91 86 41 42 63  0 69 89  4\n",
      " 96 56 31  8 55 37 76 99  3 88 72 24 92 39 29  2 54 57 30 12 18 75 90  1\n",
      " 40  9 87  5 95 48 70 79 84 44 43 35 15 17 46 27 25 74 85 65 13 83 10 21\n",
      " 61 73 47 36 49 28 64 78 77 81 80 45 14 52 98 93 50 60 11 66 97 62  6 33\n",
      " 22 71 67  7] \n",
      "\n",
      "MntWines\n",
      "--------------\n",
      "[ 635   11  426  173  520  235   76   14   28    6  194  233    3 1006\n",
      "   53   84 1012    4   86    1  867  384  270   36  684    8  112  110\n",
      "   96  482   40  702   55  437  421   13    9  123  826  245  650   12\n",
      "  510  328  984  295  447  712  452  523  546  398   10  688  247  856\n",
      "  496  258  565    2  721 1032  577   64   25  163   17  130  292  350\n",
      "  135   15   27    5  505   51  207   41  386  562  217  144  454  425\n",
      " 1332  527  490  378  547   47  320   34  722  162  450   70  492  120\n",
      "  534  236  220  796    0  962  738  399  614   32  598   73   42  346\n",
      "  888  997  212  536 1349 1001   18  125  277    7   85   81   59 1149\n",
      "  847   29  152  620   35  356  783  466   23  656  519  344  448  265\n",
      "  587  763   22   54 1170   72  613  224  410  239  171 1076  182  824\n",
      "   30  377  155  897  131  297  787  792  231  983  415  901  382  559\n",
      "  789 1218  925  864  960   16  168   45   24  918  138  554  167  177\n",
      "   38  483   77  778   33  625  216   68  196  204   26  304  285  395\n",
      "  248   20   39  777 1241   65  801  513   37   80  525  675  509  154\n",
      "  768  185   44   91  412  731  424   21  909  317  797  456 1103  189\n",
      "  495 1048   78  561  629  269  736  512   19  404  333  833  159  977\n",
      "   57 1043   43  314  571  866  594  140  375  102  919  610   67  416\n",
      "  370  407 1200  583  966  822  604 1285  551  800 1248  515  438   31\n",
      "  357  400   99  208  430  141  507  164  606  116  143  522  161 1239\n",
      "  335  639  563  746  478  451  371  281  213  502  691  504 1396  529\n",
      "  388 1047  815  225  493  127  325  238 1168  284 1288  227 1035  982\n",
      "  179 1379  881 1000  206  619  172  464   63  252 1478  198  458   90\n",
      "  308  557 1492  249  465  129  174  747   98  200 1050  117   56  145\n",
      "  203   46 1060  264  817  526   88  101  389  215  352  390 1181  603\n",
      "  514  387  121  965  707  586 1063  305 1009  315  757  219  111  100\n",
      "  445  418  327  275 1004  187  365  595 1132  372  899  760  260  459\n",
      "   92  273  434  321 1184  537  664  299  749  345  440  670  524  597\n",
      "  294  349 1126  967  432  948  307  283  769  518  709  359  799  895\n",
      "  647  301  180  794  392  107  680  324  229  521  184  183  479  584\n",
      "  627  330 1039  411  623  393  376  642  840  752 1279  860  351  336\n",
      "  191  362  724  605  104  556  408  374  600  243 1308   48  379  889\n",
      "  230  852  205  255  825  316  756  181  151  494  953  770  741  156\n",
      "  812  871  471  819  354 1253  588  480  517  267 1111 1166  261  711\n",
      "   79  115  263   69   97  197  693  186  829  318 1206  729  674 1023\n",
      " 1394  311 1296  218   66  795  244  158  223  157  397 1230  986   61\n",
      "  201  806  380  576  403  463   75  538 1315  347  192  241  631 1099\n",
      "  743  124  530 1215  444  473  288  234  251  652  938  105  574  160\n",
      "  211  391  199  516 1224  508  381   74  146  165  957  176  717 1067\n",
      "  166  714  735  342  658  457  210  441  476  364  863 1156  373  134\n",
      " 1148  108  816 1298   87  964  572  341  221  291  544  309  972  279\n",
      "  132   62  952  618  303   95  790  882  615  133  293  313 1142  489\n",
      "  630  420 1090  737  254  113  462  968   52  545  558  266 1074  771\n",
      "  202  209  779  170  491 1205  774   82  358  139  274  262  641  823\n",
      "  368  488  543  689  280  992  622  329  296  422  703 1302  153  290\n",
      "  443  846  169  460  944  553  751  406 1449 1259  896  931  758  539\n",
      "  750  306  331  811  423   60  910  332  784 1171  431   50  532   71\n",
      "  268  928  733 1252  754  322  739 1083 1016  548  836  109 1459  340\n",
      "  298  980 1003  593  446  726  690  667  621  612  582  940  979  704\n",
      "  861  533 1073  560  136  708  312 1493  178   93  920  653  734  453\n",
      "  531  402  503  369  367  686  941  383 1121  666 1045  128  581  355\n",
      "  175  122 1020  272  637 1017 1324 1193  353  710  256  338 1462  499\n",
      "  913  673   58  879   83  228 1092 1276  226  575   94  908  995  106\n",
      "  820  753  555  240  848  433  713  676  958 1245  835 1486 1115  934\n",
      "  830  728  188  742 1311  890  654  912   89 1013  570  626  611  671\n",
      "  366  302  580  853  428] \n",
      "\n",
      "MntFruits\n",
      "--------------\n",
      "[ 88   1  49   4  43  42  65  10   0  16  61   2  14  22   5  80  17   3\n",
      " 100  12  34   8  76 164  18   6  50  19  37 120   9  51  35  26   7  40\n",
      "  59  36 107 111 105  23  60  46 172  81 106 194 115  44  99  90  48  27\n",
      "  33 133  58  28  21  20  11 162  71  66  30 189 138  29  24  32  86 114\n",
      " 153  64 134 148  47  41  84  74 129  15  98 183 147 104  91 163 152  53\n",
      "  68 137 190  38  70  96  25  13  83  92  73 155  54 151  85 127  63  45\n",
      " 103  69  89 181 112 159 102 123 166 142  79  39  31 178  93  97 168 174\n",
      " 122 199  62  55 101  67 117 108  57 130 161  56 124 126  75 185  72  87\n",
      " 197  82 184 160  77 140 131 132 169 193 149 143 154 144] \n",
      "\n",
      "MntMeatProducts\n",
      "--------------\n",
      "[ 546    6  127   20  118   98  164   56   24   11  480   53   17  115\n",
      "   19   38  498   73 1725   86  102   27   25   30   42  801   10   44\n",
      "    5   96  471  151   14  206  536   29  266   15  317  125  780  550\n",
      "  124  432  482    8   28  538  134   48  367    1  309  159  487  460\n",
      "  291   65   13  925  779   64   68  424   16   37  568   39   26    7\n",
      "  447   92  183  276  690   32  271   31  106  292  311   21  101  812\n",
      "   94  133  951  110   47  189   33  590    3   34   12  921  232  756\n",
      "  132   41  141   18   90   78   57  269   69  387  249   49  240  305\n",
      "  449  119   22  195    2  107  537   45  813   79  553  337  138  113\n",
      "  320  319   59  554  171    4  417  162  540  154  207  204  740    9\n",
      "  137  184  464  757  503  272  179  768  444   52  353   87  215   62\n",
      "   71  398   35  298  499   23   43   40   99  224  396  512  100  149\n",
      "  230  242  565   81  573   80  263   46   93  112  400  561  128  275\n",
      "  218  247  293  570  832  379  255  455  514  410  217  785  177  818\n",
      "   83  160  815  549  142  253   97  786   61  335   63  505   74  221\n",
      "   54  591  282  108  103  716  792  297  349  235  181   82  322  161\n",
      "  364  974   72   60  257  420  413  166  384  193   84  114  109  594\n",
      "   88  389  131  265  356  140  239  324   66  300  408   55  613  670\n",
      "  351  216  153   67  260  403  252  520  761  287  940  259  144  530\n",
      "  188  797  635  168  135  519  592   76  248  169  323  507  572  129\n",
      "  199  732  713  279  250  653  758  104  152  711  213  428  122  194\n",
      "  145  117  123  435  126  838  559  178  388  278  352  201  294  501\n",
      "  368  597  706   77  211  617  341  497  360  345  372  742  689  374\n",
      "  314  375  223  391  898  348  243   91  392  522  186  446  136  212\n",
      "  228  470  256  747  226  804  476  409  156  274  774  431  929  399\n",
      "  845  303  116  350   89  267  500  569  685  354  493  405  873  674\n",
      "  523  890  473  704  466  510  238  606  790   51   58  233  227  234\n",
      "   75  430  407  445  651  708  640  545  288  165  254  172  733  961\n",
      "  130  415  333  534  491  678  382  176  555  334  548  842  158  411\n",
      "  843  369   70  147  494  864  750  395  196  731  483  329  604  425\n",
      "  547  915   85  913  180  280  414  270  121  421  946  672  611  687\n",
      "  622  376  155  717  209  111  231  528  452  459  984  205  167  694\n",
      "  222   50  139  595  601   95  422  295  385  120  170  724  827  377\n",
      "  560  219  441  469  701  465  639  625  315  649  575  373  214  599\n",
      "  143  673  363  850  342  835  936  935  853  558  509  442  751  693\n",
      "  454  462  629  981  586  163  419  241  697  736   36  456  397  602\n",
      "  273  899  816  603  203    0  754  338  304  157  612  208  237  175\n",
      "  281  401  753  185  202  654  567  746  932  735  197  650  264  426\n",
      "  535  332  607  380  968  174  450  359  883  849  614  286  518  749\n",
      "  655  495  860  631  182] \n",
      "\n",
      "MntFishProducts\n",
      "--------------\n",
      "[172   2 111  10  46   0  50   3   1  11 225   6  59 150  30  69  21  39\n",
      "  15  20  34  33 119 160  82 227  37  27 156  12 180 121  16 201   7  58\n",
      " 189  84   4  97 137 110  75  65 185  80  31  23  29 151 123  44  40 173\n",
      "  38  52  13  36  43  73  32   8  19 149 134  86 140 147 224  42  76  47\n",
      " 254  25  67  28 186 218 104 133 220  45  24 205 162  95 101 188  55 166\n",
      " 216  60 219  17  77  78  72 212 129  93  99 102 179  61  62 197 199 120\n",
      " 169 240  63  91 106 146  56 127 136 168  49  54 132  71  64 231  85 202\n",
      "  41 125  26 175 164 177 138 247 159 153  90  51 234  68 210  89 194 250\n",
      " 237 145 167  48 192 130 232 116 184 158  94 259 115 207 112  98 182 141\n",
      " 124 171 193 242 246  35 142 253 258 198 223   5 103 108 181  81 128 208\n",
      " 114 229] \n",
      "\n",
      "MntSweetProducts\n",
      "--------------\n",
      "[ 88   1  21   3  27  42  49 112   5  68  13  12  16  24  38   0  32   6\n",
      "  66   2  22   8   7 178  30  67 167  40 120  18  14 122  82  29  60  37\n",
      "  15 105  65   4 133  61 132  26  98  35  51  20 103   9  72  28  89  41\n",
      "  44  33  11  91  76  17  71 113  19 173  23  87 176 102  48 138  10 163\n",
      " 124  70 172  84 149  73  92 130  25  74 114 141  54 147  45  46  97 118\n",
      " 153 189 107 128  50 134  36 150  78 137  34  95 156  47 194  96 191 192\n",
      "  75  62  58 129  31  57 108 123 185 121 127 125 198  43 115  80 106 101\n",
      " 110  83  64 160 166 136  56 116 182 148 161  69 157  55 143 169  86 146\n",
      "  59 152  77  53  39  93 151  99 144 195  63 175 145 162 187 126  85 109\n",
      " 197 165 174 196  81 139 188 142  94 262 179 100  79 111] \n",
      "\n",
      "MntGoldProds\n",
      "--------------\n",
      "[ 88   6  42   5  15  14  27  23   2  13  16  30  45   4  28 176  39  48\n",
      "   1  19  99  41  10   0  89   3  43  22  35  36 102   7  12 174  50  38\n",
      "  32 241 109 190  40  80 169  73  86   9  18  51  17  76  34 145  75 223\n",
      "  11 111  81  65  79  60  72  33 120 168 172 216  58 130  20 126 116  49\n",
      "   8  91  57 124  26 141 117  92  54  21 192  44  66 182 181 152  77  70\n",
      " 148  25  24  69 146 162 131  74 135 203  52  63 139 122 173 218  93  61\n",
      " 142  29 233 101 157  55 107 159  78 110 125 114  68 191  95  37  64  46\n",
      " 119  90 134 108 153  84  59  31 175  85  71  47 118  83 106 224 165 163\n",
      " 144 147 207 151 154 115  67 242 155 249 183 170  97 227 121 205 112 198\n",
      " 177 133  94  56  82 187 171  98 129  96  53 166 195 231 158 123 200 178\n",
      " 149 132 210 138 262 140 100 246 196 197 199 215 127 161 180  62 128 291\n",
      " 150 232 219 137 185 160 321 143 204 245 229 248 103 247] \n",
      "\n",
      "NumDealsPurchases\n",
      "--------------\n",
      "[ 3  2  1  5  4 15  7  6  9  0  8 10 13 11 12] \n",
      "\n",
      "NumWebPurchases\n",
      "--------------\n",
      "[ 8  1  2  5  6  7  4  3 11  0 10  9 23 27 25] \n",
      "\n",
      "NumCatalogPurchases\n",
      "--------------\n",
      "[10  1  2  0  3  4  6 28  9  5  8  7 11] \n",
      "\n",
      "NumStorePurchases\n",
      "--------------\n",
      "[ 4  2 10  6  7  0  3  8  5 12  9 13 11  1] \n",
      "\n",
      "NumWebVisitsMonth\n",
      "--------------\n",
      "[ 7  5  4  6  8  9 20  2  3  1 10  0 14 19 17 13] \n",
      "\n",
      "AcceptedCmp3\n",
      "--------------\n",
      "[0 1] \n",
      "\n",
      "AcceptedCmp4\n",
      "--------------\n",
      "[0 1] \n",
      "\n",
      "AcceptedCmp5\n",
      "--------------\n",
      "[0 1] \n",
      "\n",
      "AcceptedCmp1\n",
      "--------------\n",
      "[0 1] \n",
      "\n",
      "AcceptedCmp2\n",
      "--------------\n",
      "[0 1] \n",
      "\n",
      "Complain\n",
      "--------------\n",
      "[0 1] \n",
      "\n",
      "Z_CostContact\n",
      "--------------\n",
      "[3] \n",
      "\n",
      "Z_Revenue\n",
      "--------------\n",
      "[11] \n",
      "\n",
      "Response\n",
      "--------------\n",
      "[1 0] \n",
      "\n",
      "Age\n",
      "--------------\n",
      "[63 66 55 36 39 53 49 35 46 70 44 61 68 33 74 40 71 38 41 69 51 31 57 50\n",
      " 47 77 45 24 52 56 43 42 65 54 32 72 62 48 60 37 75 29 58 67 64 28 59 34\n",
      " 30 73 27 26 79 76 25 80] \n",
      "\n",
      "Customer_Days\n",
      "--------------\n",
      "[2822 2272 2471 2298 2320 2452 2752 2576 2547 2267 2385 2786 2741 2711\n",
      " 2826 2617 2762 2849 2698 2712 2328 2627 2702 2557 2553 2378 2197 2573\n",
      " 2767 2653 2463 2339 2459 2297 2672 2585 2633 2429 2160 2756 2560 2757\n",
      " 2207 2846 2181 2541 2746 2612 2221 2277 2519 2819 2655 2542 2364 2563\n",
      " 2208 2261 2434 2606 2815 2628 2609 2219 2716 2830 2784 2457 2828 2530\n",
      " 2520 2283 2481 2507 2191 2318 2257 2195 2743 2603 2369 2533 2500 2250\n",
      " 2594 2567 2211 2360 2437 2671 2728 2398 2755 2163 2723 2451 2315 2654\n",
      " 2512 2386 2284 2592 2593 2180 2209 2431 2635 2478 2516 2200 2495 2777\n",
      " 2595 2464 2626 2778 2768 2835 2167 2225 2273 2721 2787 2515 2449 2414\n",
      " 2472 2522 2760 2334 2583 2387 2382 2228 2510 2309 2245 2814 2719 2196\n",
      " 2164 2433 2317 2173 2730 2490 2650 2817 2554 2341 2206 2442 2687 2249\n",
      " 2159 2361 2417 2763 2506 2362 2571 2816 2614 2262 2791 2683 2580 2248\n",
      " 2461 2751 2238 2235 2699 2818 2619 2771 2726 2292 2625 2569 2233 2622\n",
      " 2366 2427 2344 2403 2492 2372 2840 2183 2564 2695 2445 2404 2804 2783\n",
      " 2780 2774 2549 2562 2171 2742 2670 2631 2162 2781 2534 2260 2304 2243\n",
      " 2667 2662 2279 2232 2511 2675 2696 2540 2343 2765 2324 2834 2638 2691\n",
      " 2692 2263 2419 2236 2808 2275 2587 2321 2353 2269 2494 2843 2299 2666\n",
      " 2693 2518 2521 2393 2575 2660 2598 2450 2611 2694 2523 2729 2753 2642\n",
      " 2847 2363 2477 2390 2172 2710 2336 2769 2713 2371 2423 2798 2258 2707\n",
      " 2836 2629 2748 2734 2227 2754 2531 2839 2705 2539 2415 2827 2215 2596\n",
      " 2425 2811 2799 2634 2409 2179 2189 2779 2615 2681 2380 2294 2651 2640\n",
      " 2213 2601 2244 2589 2375 2306 2532 2349 2454 2470 2350 2486 2422 2544\n",
      " 2348 2582 2657 2837 2613 2194 2801 2338 2439 2311 2591 2274 2842 2618\n",
      " 2421 2853 2201 2210 2773 2340 2838 2401 2812 2527 2313 2802 2732 2373\n",
      " 2851 2706 2833 2758 2368 2504 2559 2411 2600 2469 2312 2476 2796 2731\n",
      " 2845 2397 2658 2443 2170 2590 2536 2293 2484 2347 2737 2485 2332 2367\n",
      " 2251 2241 2301 2394 2644 2489 2537 2528 2395 2448 2491 2673 2514 2599\n",
      " 2246 2231 2803 2447 2202 2770 2412 2652 2444 2678 2212 2473 2505 2724\n",
      " 2497 2578 2509 2270 2342 2550 2684 2805 2820 2717 2381 2175 2577 2474\n",
      " 2357 2291 2854 2335 2410 2345 2703 2568 2436 2392 2354 2766 2337 2413\n",
      " 2498 2407 2351 2203 2792 2467 2555 2254 2240 2268 2220 2161 2604 2379\n",
      " 2775 2570 2856 2377 2314 2420 2850 2616 2185 2848 2639 2572 2271 2446\n",
      " 2310 2428 2645 2217 2664 2630 2574 2821 2460 2558 2358 2727 2462 2352\n",
      " 2535 2190 2689 2402 2643 2356 2685 2608 2396 2623 2188 2669 2579 2659\n",
      " 2259 2487 2736 2496 2326 2797 2408 2759 2193 2276 2333 2177 2169 2739\n",
      " 2359 2325 2316 2621 2524 2679 2383 2566 2597 2680 2483 2543 2503 2556\n",
      " 2641 2795 2663 2782 2305 2166 2406 2290 2391 2479 2832 2230 2242 2701\n",
      " 2761 2682 2282 2226 2493 2418 2738 2218 2735 2475 2700 2216 2223 2186\n",
      " 2405 2256 2648 2441 2688 2346 2747 2852 2581 2388 2517 2502 2776 2561\n",
      " 2831 2327 2295 2281 2229 2525 2586 2624 2465 2858 2365 2665 2744 2647\n",
      " 2806 2545 2456 2237 2529 2289 2708 2764 2501 2308 2466 2430 2178 2307\n",
      " 2823 2800 2857 2733 2214 2790 2278 2204 2725 2844 2285 2264 2440 2772\n",
      " 2416 2656 2829 2296 2300 2825 2749 2661 2855 2841 2740 2222 2584 2745\n",
      " 2174 2252 2637 2824 2234 2224 2526 2552 2426 2286 2602 2438 2499 2165\n",
      " 2329 2620 2322 2184 2255 2704 2807 2646 2794 2605 2247 2697 2374 2488\n",
      " 2718 2182 2565 2480 2355 2789 2455 2508 2677 2303 2435 2709 2302 2690\n",
      " 2168 2468 2280 2607 2239 2176 2370 2636 2253 2720 2809 2551 2714 2399\n",
      " 2482 2785 2715 2330] \n",
      "\n",
      "marital_Divorced\n",
      "--------------\n",
      "[0 1] \n",
      "\n",
      "marital_Married\n",
      "--------------\n",
      "[0 1] \n",
      "\n",
      "marital_Single\n",
      "--------------\n",
      "[1 0] \n",
      "\n",
      "marital_Together\n",
      "--------------\n",
      "[0 1] \n",
      "\n",
      "marital_Widow\n",
      "--------------\n",
      "[0 1] \n",
      "\n",
      "education_2n Cycle\n",
      "--------------\n",
      "[0 1] \n",
      "\n",
      "education_Basic\n",
      "--------------\n",
      "[0 1] \n",
      "\n",
      "education_Graduation\n",
      "--------------\n",
      "[1 0] \n",
      "\n",
      "education_Master\n",
      "--------------\n",
      "[0 1] \n",
      "\n",
      "education_PhD\n",
      "--------------\n",
      "[0 1] \n",
      "\n",
      "MntTotal\n",
      "--------------\n",
      "[1529   21  734   48  407  702  563  146   44   36   45 1072  296   41\n",
      " 1270   92  289 1606   94  268 1729  953  539  345   62  216  121 1672\n",
      "   26  229  117  259 1174  878   63  860 1293   46   19  810   72   42\n",
      " 1281  493 1661   69 1376  497 1767 1053   24  475 1358  606  715  600\n",
      " 1046   11 1236  544 1489 1241  777  642   56   12 1872 2158    9  641\n",
      "  148   53  338 1221  187   28   43  531   61  755  399   50 1058 1039\n",
      " 1059   20  180  845  118  807  890 1734  548  708  479   87 1691  457\n",
      "   51   30  612   70   23  967  387 1707   86  649  405  591  595  256\n",
      " 1482   90   29   34 2057 1003 1259  838  196  828   52   18  179  119\n",
      "  446  447  945 1339  303    8 1673  116   60  394  257  993   71 1809\n",
      " 1207  184  892   54   33   37  491 1566   64 1180  826 1549 1098  496\n",
      " 1203 1096 1182   35   39  272 1612  233 1089  254 1144  393   16 1599\n",
      "  219 1092   96 1037  700  182 1153  150 1011 1736   17 1561   15 1085\n",
      "   22  594 2068  971   25 1446  950 1610 1313 1954 1461  964  185 1118\n",
      "   32 1080  310  821  255 1254  115  865  218   89  763  795  803  871\n",
      "   85  395  856  724 1450  339   40  123 1716   55 1334  787  881  221\n",
      " 1150 1146  536  226 1494   31   75  351  603 1234  589 1157   38  149\n",
      "   65 1138 1412 1552 1500 1148  767  972  827 1350 1029 1166 1265 1622\n",
      " 2092  429  551 1319 1699  952   27   84 1220  269   13  385  846   91\n",
      " 1087 1681  709 1553  154   57 1019  144  442   67  262  486   47  889\n",
      " 1471  363  948 1230 1352 1360  723 1367 2098 1762 1131  836  987  954\n",
      "  719  445  152 1342  835  408  962  306 1995  265 1257  804   83 1288\n",
      " 1726  537  832 1299   14  898  494  438  224  261  729  877  645  191\n",
      " 1958  295 1682  770  656  651 1799  976  725  155 1292 1102  916 1073\n",
      "  671  852  341 1869 2062 1902 1476  300  125 1279 1775  340  460 1114\n",
      "  484  222  304 1032 1919  608 1554  124  492  120  961  225  677 1924\n",
      "   66 1534  758  806  307 1023   10  263  153 1206  223  213 1643  443\n",
      " 2066  382  720 1097  545 1171  228  841  349  389  904  874 1047 1808\n",
      "   95  188 1556  909 1508 1212 1408 1106 1322 1282  342 2105 1517 1042\n",
      "  453 1970 1163   58  348 1024  147  592  913 1038  888  611 1205  485\n",
      "  658  774 1959  422 2074 1320  977  489  858  190  607  970 1211 1605\n",
      "  757  837  547 1364  956  714 1698 1332  876  653  437 1430 1677 1165\n",
      "  313 1078   73  862 1383 1413 1713  917 1214 1387  183 1783 1243  122\n",
      "  392  668 1302  542 1158 1391  615  490  343 1551  706  258  732  894\n",
      " 1565  557 1145 1497  360 1384  694  791 1467  502  712 1791  540 1542\n",
      " 1601 1426  535  532  902  590   59 1012 1879 1140  701  181 1790 1010\n",
      "  663  275  276  386  361 1727  957  157  847 1644 1889  251  506 1233\n",
      "  297  897  662 1577  398  818 1425 1229 1966  923  973 1634 1728  352\n",
      " 1041 1886 1336 1101  903  928 1794  673  796  605 2130  550   93   49\n",
      "  336  965  597 1694   81  614   76  918 1892    5 1184 1871 2304 1194\n",
      " 1738  546  735   88 1493  872  293 1881  451  789 2036  252 1287   78\n",
      "  619   68 1178 1433 1949 1051  176  833 1113  665 2262  942  253  884\n",
      "  955  618 1503  710 1998  354  850  839 1149 1920  397 1835  322 1323\n",
      " 1406  273  736  126  301 1627 1056  887 1974 1301  969  652 1030 1422\n",
      " 1719 1357  920  260  893 1678  391 2429 1208 1000  151 1419  908 1006\n",
      "  674 1084  511  989 1988  748  766  790 1555  145  666    7   79 1492\n",
      " 1502  577 2153  661 1329 1226  982  335 1110  290 2136  669 1641  778\n",
      "  337 1487 1143 1040  650  783  358 1505  309 1473  111 1099  316 1232\n",
      " 1331  769  270 1117  305  762 1469 1460  808 1900  498  911 1061  220\n",
      "  883  344  298 1780  308  713  751  782 1402  571  375  292 1792 2157\n",
      " 1103 1464  459  520  599  538 1429  934 1004 1125 1600  436 1803  350\n",
      " 2491  998 1277  311  991  825 1441 1868 1466    4 1177  896  264 1054\n",
      " 1076  910  560   74  901  754 1798  483 1095  959  156  851 1375 2244\n",
      " 1271  670  390 1645  294  435  193  513  699  556  801 1535  377  728\n",
      " 1052 1480 1758  444  189  765 1550 2051 1372  381 1484 1671  921  588\n",
      "  682  726 1588  900  647  693 2056 1468 1571 1027 2012 1880 1607 1132\n",
      " 1349 1490 1185 1294  733 2188  433  604  403  914 1112  432 1308 1122\n",
      "  346  885  996 1884 1760 1021 1432 1188  721 1262 1541  986 1486  384\n",
      " 1298 1348 1544 1285 1507  907  347  992  659  616 1312 1795 1667  355\n",
      " 1916  704  274 1235  279 1649 1702 1169 1253 1228  775 1400 1028  512\n",
      "  450 1527 1685  730  523  388 1903 2169 1675  747 1784  809 1614 1164\n",
      " 1048 1587  543 1290 1584  886 1664  495 1362  127  912 1475 1300  372\n",
      " 1987 1018  503 1805    6 1931  768 1237 1654 1548 1036 1238 1070  819\n",
      "  703 1914  960  866 1540 1629 1354  440  660 1570 1403  353  448 1094\n",
      " 1217] \n",
      "\n",
      "MntRegularProds\n",
      "--------------\n",
      "[1441   15  692   43  392  688  536  123   42   23   29 1042  282   36\n",
      " 1225   88  261 1430   55  220 1728  934  534  246   49  175  111 1672\n",
      "   22  140  114  216 1152   59  843    9  818 1191   39   16    7  636\n",
      " 1243  479 1629   66 1135  388 1577 1013   19  432 1278  600  546  594\n",
      " 1016    4   11 1198  435 1416 1229  691  623   47 1854 2107    0  590\n",
      "  131    8   33  626   50  141  304 1076  180   24   27  456  532   52\n",
      "   45  947  958 1021  173  780   91  764  811 1648  488  686  407   60\n",
      " 1658  337   21  564  799  215 1491   82  637  347  550  465  233 1482\n",
      "   74   30 2037  953 1133  805   80  779   14  147  433  434  247  869\n",
      " 1297  300   18  134 1117    3 1640 1269   32  367  255   25   94   81\n",
      " 1783 1096   41  177  751   35  374 1551 1078  291   17 1498  926  105\n",
      "  457 1111 1124    5  251   57 1420  225 1077  244  453 1090 1583  153\n",
      " 1049   78 1027  179 1061  212  919 1719  355 1534 1053  583 2048  933\n",
      " 1265  798 1530 1236 1782 1391   38  816  160 1088   31 1059  298   13\n",
      "  797  235   46  749 1343   48  205   40   79  756  633  788  817  646\n",
      "   68  329  782  589 1422  288   28  109 1513 1294  846  672   90  169\n",
      " 1087   77  526  211 1480  201  301   12 1161  548 1031  138 1115  668\n",
      " 1382   20 1462  103 1114  754  819 1257 1029 1144 1253 1574  884  349\n",
      " 2031  554  364  409 1290 1466  914  178 1169   67 1063   10  214  278\n",
      "  687 1001 1624  965  161  631 1508  122   26  998  125  438   37   64\n",
      "  252  482  863 1457  357  823 1218 1326 1246  695 1299 2077 1729 1074\n",
      "  664 1656  302  892  840   34  705  423  112  148  172 1305  358  802\n",
      "  927   53  385  264 1931  260  761  682  107 1288 1709  774 1210  890\n",
      "  739  470  346  268   54  152  256  711  859  555 1824  281 1642  640\n",
      "  630  639  976  704 1139  994  887  989   97  612  154  335 1814  293\n",
      " 2035   98  627 1902 1301  242 1595 1267  372 1655  269  399 1060  475\n",
      "  184  289 1002  163  202 1919  458  210  559 1550 1891 1496  721  723\n",
      "  283  185  981  157  129  239   62 1182  219   51 1419  413 2046 1148\n",
      "  382   71  621 1043  496  101   85 1149  188  800  325  274  767  857\n",
      " 1791   87 1526  855 1429  297 1339 1033 1296  198 1958  213 1310  197\n",
      "  992  307 1932  331  135  587  762  162 1028  408  747  552  394  136\n",
      "  652  620 1844  377 1038  533 2034  910  485  759  110  578  936  666\n",
      "  568  969 1589  577  566    6  771  498 1217  837 1449 1284  725  359\n",
      "  224 1388 1677  995  292 1057  822 1192  872 1085 1329  441 1669 1280\n",
      "  828 1202  867   44 1347  379  124 1697 1122   61  334 1097  430  113\n",
      " 1158 1230  417  351  309 1490  683   73  697  717  541   76 1123 1468\n",
      "  416   63  315  662  722 1437  487  655 1774  503 1586 1370  390  522\n",
      "  221 1259  419  234   56 1749  935  638  167 1727  412  599  996  209\n",
      "  183  371  236  132 1611   84 1760  448 1185  241  653  527 1516  395\n",
      "  814  778  217  226  941 1375 1397 1205  850 1942  870  945 1618  864\n",
      " 1695  237 1720 1256 1089  896 1759  567  781  832  991 1178  901  528\n",
      "  851  494  145  466 1610   69 1108  429 1874 1834 2122 1073 1687  519\n",
      "  665 1493  808  243  452 1861  360  414  719 1878  116  384 1211 1098\n",
      " 1145 1405 1930 1011   58  174 1103 2084  916  240  228 1138  830 1110\n",
      "  755 1356 1528  654 1880  312  733 1203 1821  361 1106 1882  370  674\n",
      " 1808  277 1323  530 1014 1238  120  715  186  117  272 1532    2  944\n",
      " 1788 1935 1289  275  835  373 1000 1385 1605  477 1344  481  584  796\n",
      "  997 1645  344  420 2333 1184  980 1614 1377   93  940  130 1084  323\n",
      "  913 1929  146  100  462  144  707  775  108 1479 1448  932 1475  718\n",
      "  203  513 2027 1730  529  181 1275  923  795 1166  772  308  391 1926\n",
      "  544  102 1546  724  273 1473  886  644 1454  746  250 1367  853  121\n",
      " 1268 -151  316 1064  694  229  227  290 1455  978 1365  576  410  883\n",
      "  979  363  191   89  317 1661  199  106  176  699  708 1376   99  345\n",
      " 1047 1654 1285  785  984  159 1072 1421  389  118 2259  506  579  403\n",
      "  490 1387  127  790  809  974 1091  844 1569  428 1696  320 2458  951\n",
      " 1415 1188  336  553 1318  876  873  743 1444 1244  700   70 1813 1270\n",
      " 1120 1562  245  888  259  952 1066  946  856  547  768  716   86 1245\n",
      "  561 1798  459  143  810  340 1340 2136 1208 1568  730 1010  425  196\n",
      "  474 1320  643  925   65  426 1724  758 1497 2011 1396 1588  841  656\n",
      "  706 1481  720  634 1196  641 1955 1410 1545  987  663 1990 1769  937\n",
      " 1242  511 1476 1067  328   95 1206 2145  504  973  852  294  868  813\n",
      " 1847 -166 1554 1723  899  880 1362  679 1025  831  558  685  151  920\n",
      "  431  406 1231 1295 1514 1247 1193 1478  387  854  538  327  397 1109\n",
      " 1504 1762 1632  760 1763  676  206 1527  271  375 1207 1276 1549  142\n",
      "  539 1622 1147 1226  276  701  439 1044  786  463 2092  437 1510  834\n",
      " 1446   75   96 1636 1345  930 -283 1925  341 1848 2121 1659  807  422\n",
      " 1304  677 1698 1899 1573 1153  897  858  582  591 1509  137 1143 1459\n",
      " 1156  862 1553  696  471  649  249 1432  378  266  726 1151 1683 1224\n",
      " 1968  773 1258  738 1140 1395  376  765  675 1785  904  825 1180  616\n",
      "  741  467 1517 1371  625  286 1009  847] \n",
      "\n",
      "AcceptedCmpOverall\n",
      "--------------\n",
      "[0 1 2 3 4] \n",
      "\n"
     ]
    }
   ],
   "source": [
    "## Valores únicos de las variables\n",
    "columns = data.columns.values.tolist()\n",
    "for i in columns:\n",
    "    print(i)\n",
    "    print(\"-\"*14)\n",
    "    print(data.loc[:,i].unique(), \"\\n\")"
   ]
  },
  {
   "cell_type": "code",
   "execution_count": 11,
   "metadata": {},
   "outputs": [
    {
     "data": {
      "text/plain": [
       "['education_2n Cycle',\n",
       " 'education_Basic',\n",
       " 'education_Graduation',\n",
       " 'education_Master',\n",
       " 'education_PhD']"
      ]
     },
     "execution_count": 11,
     "metadata": {},
     "output_type": "execute_result"
    }
   ],
   "source": [
    "data.loc[:,data.columns.str.startswith(\"education\")].columns.tolist()"
   ]
  },
  {
   "cell_type": "code",
   "execution_count": 12,
   "metadata": {},
   "outputs": [
    {
     "name": "stdout",
     "output_type": "stream",
     "text": [
      "Total de individuos que registran un nivel educativo\n"
     ]
    },
    {
     "data": {
      "text/plain": [
       "2205"
      ]
     },
     "execution_count": 12,
     "metadata": {},
     "output_type": "execute_result"
    }
   ],
   "source": [
    "print(\"Total de individuos que registran un nivel educativo\")\n",
    "data.loc[:,data.columns.str.startswith(\"education\")].sum().sum()"
   ]
  },
  {
   "cell_type": "code",
   "execution_count": 13,
   "metadata": {},
   "outputs": [
    {
     "data": {
      "image/png": "[encoded data removed]",
      "text/plain": [
       "<Figure size 432x432 with 1 Axes>"
      ]
     },
     "metadata": {},
     "output_type": "display_data"
    }
   ],
   "source": [
    "## Analizando el nivel educativo de la persona\n",
    "plt.figure(figsize=(6,6))\n",
    "hbar = data.loc[:,data.columns.str.startswith(\"education\")].sum().sort_values(ascending=True).plot(kind = \"barh\", \n",
    "color = \"#086A87\")\n",
    "\n",
    "for container in hbar.containers:\n",
    "    hbar.bar_label(container)\n",
    "\n",
    "plt.title(\"Nivel Educativo del cliente\")\n",
    "plt.show()\n"
   ]
  },
  {
   "cell_type": "code",
   "execution_count": 14,
   "metadata": {},
   "outputs": [
    {
     "data": {
      "image/png": "[encoded data removed]",
      "text/plain": [
       "<Figure size 432x432 with 1 Axes>"
      ]
     },
     "metadata": {},
     "output_type": "display_data"
    }
   ],
   "source": [
    "# Analizando el estado del cliente\n",
    "plt.figure(figsize=(6,6))\n",
    "hbar = data.loc[:,data.columns.str.startswith(\"marital\")].sum().sort_values(ascending=True).plot(kind = \"barh\", \n",
    "color = \"#086A87\")\n",
    "\n",
    "for container in hbar.containers:\n",
    "    hbar.bar_label(container)\n",
    "\n",
    "plt.title(\"Estado marital del cliente\")\n",
    "plt.show()"
   ]
  },
  {
   "cell_type": "code",
   "execution_count": 15,
   "metadata": {},
   "outputs": [
    {
     "data": {
      "text/html": [
       "<div>\n",
       "<style scoped>\n",
       "    .dataframe tbody tr th:only-of-type {\n",
       "        vertical-align: middle;\n",
       "    }\n",
       "\n",
       "    .dataframe tbody tr th {\n",
       "        vertical-align: top;\n",
       "    }\n",
       "\n",
       "    .dataframe thead th {\n",
       "        text-align: right;\n",
       "    }\n",
       "</style>\n",
       "<table border=\"1\" class=\"dataframe\">\n",
       "  <thead>\n",
       "    <tr style=\"text-align: right;\">\n",
       "      <th></th>\n",
       "      <th>AcceptedCmp3</th>\n",
       "      <th>AcceptedCmp4</th>\n",
       "      <th>AcceptedCmp5</th>\n",
       "      <th>AcceptedCmp1</th>\n",
       "      <th>AcceptedCmp2</th>\n",
       "      <th>AcceptedCmpOverall</th>\n",
       "    </tr>\n",
       "  </thead>\n",
       "  <tbody>\n",
       "    <tr>\n",
       "      <th>0</th>\n",
       "      <td>0</td>\n",
       "      <td>0</td>\n",
       "      <td>0</td>\n",
       "      <td>0</td>\n",
       "      <td>0</td>\n",
       "      <td>0</td>\n",
       "    </tr>\n",
       "    <tr>\n",
       "      <th>1</th>\n",
       "      <td>0</td>\n",
       "      <td>0</td>\n",
       "      <td>0</td>\n",
       "      <td>0</td>\n",
       "      <td>0</td>\n",
       "      <td>0</td>\n",
       "    </tr>\n",
       "    <tr>\n",
       "      <th>2</th>\n",
       "      <td>0</td>\n",
       "      <td>0</td>\n",
       "      <td>0</td>\n",
       "      <td>0</td>\n",
       "      <td>0</td>\n",
       "      <td>0</td>\n",
       "    </tr>\n",
       "    <tr>\n",
       "      <th>3</th>\n",
       "      <td>0</td>\n",
       "      <td>0</td>\n",
       "      <td>0</td>\n",
       "      <td>0</td>\n",
       "      <td>0</td>\n",
       "      <td>0</td>\n",
       "    </tr>\n",
       "    <tr>\n",
       "      <th>4</th>\n",
       "      <td>0</td>\n",
       "      <td>0</td>\n",
       "      <td>0</td>\n",
       "      <td>0</td>\n",
       "      <td>0</td>\n",
       "      <td>0</td>\n",
       "    </tr>\n",
       "  </tbody>\n",
       "</table>\n",
       "</div>"
      ],
      "text/plain": [
       "   AcceptedCmp3  AcceptedCmp4  AcceptedCmp5  AcceptedCmp1  AcceptedCmp2  \\\n",
       "0             0             0             0             0             0   \n",
       "1             0             0             0             0             0   \n",
       "2             0             0             0             0             0   \n",
       "3             0             0             0             0             0   \n",
       "4             0             0             0             0             0   \n",
       "\n",
       "   AcceptedCmpOverall  \n",
       "0                   0  \n",
       "1                   0  \n",
       "2                   0  \n",
       "3                   0  \n",
       "4                   0  "
      ]
     },
     "execution_count": 15,
     "metadata": {},
     "output_type": "execute_result"
    }
   ],
   "source": [
    "# Analizando las ofertas de campañas que acepta el cliente\n",
    "data.loc[:,data.columns.str.startswith(\"Accepted\")].head()"
   ]
  },
  {
   "cell_type": "code",
   "execution_count": 16,
   "metadata": {},
   "outputs": [
    {
     "data": {
      "text/plain": [
       "array([0, 1, 2, 3, 4], dtype=int64)"
      ]
     },
     "execution_count": 16,
     "metadata": {},
     "output_type": "execute_result"
    }
   ],
   "source": [
    "## Entendiendo la variable 'AcceptedCmpOverall'\n",
    "data[\"AcceptedCmpOverall\"].unique()"
   ]
  },
  {
   "cell_type": "code",
   "execution_count": 17,
   "metadata": {},
   "outputs": [
    {
     "data": {
      "text/html": [
       "<div>\n",
       "<style scoped>\n",
       "    .dataframe tbody tr th:only-of-type {\n",
       "        vertical-align: middle;\n",
       "    }\n",
       "\n",
       "    .dataframe tbody tr th {\n",
       "        vertical-align: top;\n",
       "    }\n",
       "\n",
       "    .dataframe thead th {\n",
       "        text-align: right;\n",
       "    }\n",
       "</style>\n",
       "<table border=\"1\" class=\"dataframe\">\n",
       "  <thead>\n",
       "    <tr style=\"text-align: right;\">\n",
       "      <th></th>\n",
       "      <th>AcceptedCmp3</th>\n",
       "      <th>AcceptedCmp4</th>\n",
       "      <th>AcceptedCmp5</th>\n",
       "      <th>AcceptedCmp1</th>\n",
       "      <th>AcceptedCmp2</th>\n",
       "      <th>AcceptedCmpOverall</th>\n",
       "    </tr>\n",
       "  </thead>\n",
       "  <tbody>\n",
       "    <tr>\n",
       "      <th>2138</th>\n",
       "      <td>0</td>\n",
       "      <td>1</td>\n",
       "      <td>1</td>\n",
       "      <td>0</td>\n",
       "      <td>1</td>\n",
       "      <td>3</td>\n",
       "    </tr>\n",
       "    <tr>\n",
       "      <th>2141</th>\n",
       "      <td>0</td>\n",
       "      <td>1</td>\n",
       "      <td>0</td>\n",
       "      <td>1</td>\n",
       "      <td>0</td>\n",
       "      <td>2</td>\n",
       "    </tr>\n",
       "    <tr>\n",
       "      <th>2142</th>\n",
       "      <td>0</td>\n",
       "      <td>0</td>\n",
       "      <td>1</td>\n",
       "      <td>1</td>\n",
       "      <td>0</td>\n",
       "      <td>2</td>\n",
       "    </tr>\n",
       "    <tr>\n",
       "      <th>2160</th>\n",
       "      <td>1</td>\n",
       "      <td>0</td>\n",
       "      <td>0</td>\n",
       "      <td>1</td>\n",
       "      <td>0</td>\n",
       "      <td>2</td>\n",
       "    </tr>\n",
       "    <tr>\n",
       "      <th>2188</th>\n",
       "      <td>0</td>\n",
       "      <td>1</td>\n",
       "      <td>1</td>\n",
       "      <td>0</td>\n",
       "      <td>0</td>\n",
       "      <td>2</td>\n",
       "    </tr>\n",
       "  </tbody>\n",
       "</table>\n",
       "</div>"
      ],
      "text/plain": [
       "      AcceptedCmp3  AcceptedCmp4  AcceptedCmp5  AcceptedCmp1  AcceptedCmp2  \\\n",
       "2138             0             1             1             0             1   \n",
       "2141             0             1             0             1             0   \n",
       "2142             0             0             1             1             0   \n",
       "2160             1             0             0             1             0   \n",
       "2188             0             1             1             0             0   \n",
       "\n",
       "      AcceptedCmpOverall  \n",
       "2138                   3  \n",
       "2141                   2  \n",
       "2142                   2  \n",
       "2160                   2  \n",
       "2188                   2  "
      ]
     },
     "execution_count": 17,
     "metadata": {},
     "output_type": "execute_result"
    }
   ],
   "source": [
    "## el comprador puede aceptar más de una campaña que te ofrece algo.\n",
    "data.loc[:,data.columns.str.startswith(\"Accepted\")][data[\"AcceptedCmpOverall\"] > 1].tail()"
   ]
  },
  {
   "cell_type": "code",
   "execution_count": 18,
   "metadata": {},
   "outputs": [
    {
     "data": {
      "text/plain": [
       "1320"
      ]
     },
     "execution_count": 18,
     "metadata": {},
     "output_type": "execute_result"
    }
   ],
   "source": [
    "## Al convertirse en variables dummy, se ha dejado de lado a las personas que no aceptan ninguna oferta\n",
    "data.loc[:,data.columns.str.startswith(\"Accepted\")].sum().sum()"
   ]
  },
  {
   "cell_type": "code",
   "execution_count": 19,
   "metadata": {},
   "outputs": [],
   "source": [
    " data_aceppted_campain = data.loc[:,data.columns.str.startswith(\"Accepted\")].iloc[:,:-1].copy()"
   ]
  },
  {
   "cell_type": "code",
   "execution_count": 20,
   "metadata": {},
   "outputs": [
    {
     "data": {
      "text/html": [
       "<div>\n",
       "<style scoped>\n",
       "    .dataframe tbody tr th:only-of-type {\n",
       "        vertical-align: middle;\n",
       "    }\n",
       "\n",
       "    .dataframe tbody tr th {\n",
       "        vertical-align: top;\n",
       "    }\n",
       "\n",
       "    .dataframe thead th {\n",
       "        text-align: right;\n",
       "    }\n",
       "</style>\n",
       "<table border=\"1\" class=\"dataframe\">\n",
       "  <thead>\n",
       "    <tr style=\"text-align: right;\">\n",
       "      <th></th>\n",
       "      <th>AcceptedCmp3</th>\n",
       "      <th>AcceptedCmp4</th>\n",
       "      <th>AcceptedCmp5</th>\n",
       "      <th>AcceptedCmp1</th>\n",
       "      <th>AcceptedCmp2</th>\n",
       "      <th>NoAcceptedCmpOverall</th>\n",
       "    </tr>\n",
       "  </thead>\n",
       "  <tbody>\n",
       "    <tr>\n",
       "      <th>2200</th>\n",
       "      <td>0</td>\n",
       "      <td>0</td>\n",
       "      <td>0</td>\n",
       "      <td>0</td>\n",
       "      <td>0</td>\n",
       "      <td>1</td>\n",
       "    </tr>\n",
       "    <tr>\n",
       "      <th>2201</th>\n",
       "      <td>0</td>\n",
       "      <td>0</td>\n",
       "      <td>0</td>\n",
       "      <td>1</td>\n",
       "      <td>0</td>\n",
       "      <td>0</td>\n",
       "    </tr>\n",
       "    <tr>\n",
       "      <th>2202</th>\n",
       "      <td>0</td>\n",
       "      <td>1</td>\n",
       "      <td>0</td>\n",
       "      <td>0</td>\n",
       "      <td>0</td>\n",
       "      <td>0</td>\n",
       "    </tr>\n",
       "    <tr>\n",
       "      <th>2203</th>\n",
       "      <td>0</td>\n",
       "      <td>0</td>\n",
       "      <td>0</td>\n",
       "      <td>0</td>\n",
       "      <td>0</td>\n",
       "      <td>1</td>\n",
       "    </tr>\n",
       "    <tr>\n",
       "      <th>2204</th>\n",
       "      <td>0</td>\n",
       "      <td>0</td>\n",
       "      <td>0</td>\n",
       "      <td>0</td>\n",
       "      <td>0</td>\n",
       "      <td>1</td>\n",
       "    </tr>\n",
       "  </tbody>\n",
       "</table>\n",
       "</div>"
      ],
      "text/plain": [
       "      AcceptedCmp3  AcceptedCmp4  AcceptedCmp5  AcceptedCmp1  AcceptedCmp2  \\\n",
       "2200             0             0             0             0             0   \n",
       "2201             0             0             0             1             0   \n",
       "2202             0             1             0             0             0   \n",
       "2203             0             0             0             0             0   \n",
       "2204             0             0             0             0             0   \n",
       "\n",
       "      NoAcceptedCmpOverall  \n",
       "2200                     1  \n",
       "2201                     0  \n",
       "2202                     0  \n",
       "2203                     1  \n",
       "2204                     1  "
      ]
     },
     "execution_count": 20,
     "metadata": {},
     "output_type": "execute_result"
    }
   ],
   "source": [
    "data_aceppted_campain[\"NoAcceptedCmpOverall\"] = np.where(data[\"AcceptedCmpOverall\"] != 0,0,1)\n",
    "data_aceppted_campain.tail()"
   ]
  },
  {
   "cell_type": "code",
   "execution_count": 21,
   "metadata": {},
   "outputs": [
    {
     "data": {
      "text/plain": [
       "2407"
      ]
     },
     "execution_count": 21,
     "metadata": {},
     "output_type": "execute_result"
    }
   ],
   "source": [
    "## Recordar que un comprador puede aceptar más de una campaña\n",
    "data_aceppted_campain.sum().sum()"
   ]
  },
  {
   "cell_type": "code",
   "execution_count": 22,
   "metadata": {},
   "outputs": [
    {
     "data": {
      "text/plain": [
       "AcceptedCmp3             163\n",
       "AcceptedCmp4             164\n",
       "AcceptedCmp5             161\n",
       "AcceptedCmp1             142\n",
       "AcceptedCmp2              30\n",
       "NoAcceptedCmpOverall    1747\n",
       "dtype: int64"
      ]
     },
     "execution_count": 22,
     "metadata": {},
     "output_type": "execute_result"
    }
   ],
   "source": [
    "data_aceppted_campain.sum()"
   ]
  },
  {
   "cell_type": "code",
   "execution_count": 23,
   "metadata": {},
   "outputs": [
    {
     "data": {
      "image/png": "[encoded data removed]",
      "text/plain": [
       "<Figure size 432x432 with 1 Axes>"
      ]
     },
     "metadata": {},
     "output_type": "display_data"
    },
    {
     "name": "stdout",
     "output_type": "stream",
     "text": [
      "Nota: Un cliente puede aceptar más de  una campaña\n"
     ]
    }
   ],
   "source": [
    "plt.figure(figsize=(6,6))\n",
    "hbar = data_aceppted_campain.sum().sort_values().plot(kind = \"barh\", color = \"#086A87\")\n",
    "\n",
    "for container in hbar.containers:\n",
    "    hbar.bar_label(container)\n",
    "\n",
    "plt.title(\"Clientes que aceptan una campaña\")\n",
    "plt.show()\n",
    "\n",
    "print(\"Nota: Un cliente puede aceptar más de  una campaña\")"
   ]
  },
  {
   "cell_type": "markdown",
   "metadata": {},
   "source": [
    "**Variables continuas**"
   ]
  },
  {
   "cell_type": "code",
   "execution_count": 24,
   "metadata": {},
   "outputs": [
    {
     "data": {
      "text/html": [
       "<div>\n",
       "<style scoped>\n",
       "    .dataframe tbody tr th:only-of-type {\n",
       "        vertical-align: middle;\n",
       "    }\n",
       "\n",
       "    .dataframe tbody tr th {\n",
       "        vertical-align: top;\n",
       "    }\n",
       "\n",
       "    .dataframe thead th {\n",
       "        text-align: right;\n",
       "    }\n",
       "</style>\n",
       "<table border=\"1\" class=\"dataframe\">\n",
       "  <thead>\n",
       "    <tr style=\"text-align: right;\">\n",
       "      <th></th>\n",
       "      <th>NumDealsPurchases</th>\n",
       "      <th>NumWebPurchases</th>\n",
       "      <th>NumCatalogPurchases</th>\n",
       "      <th>NumStorePurchases</th>\n",
       "      <th>NumWebVisitsMonth</th>\n",
       "    </tr>\n",
       "  </thead>\n",
       "  <tbody>\n",
       "    <tr>\n",
       "      <th>0</th>\n",
       "      <td>3</td>\n",
       "      <td>8</td>\n",
       "      <td>10</td>\n",
       "      <td>4</td>\n",
       "      <td>7</td>\n",
       "    </tr>\n",
       "    <tr>\n",
       "      <th>1</th>\n",
       "      <td>2</td>\n",
       "      <td>1</td>\n",
       "      <td>1</td>\n",
       "      <td>2</td>\n",
       "      <td>5</td>\n",
       "    </tr>\n",
       "    <tr>\n",
       "      <th>2</th>\n",
       "      <td>1</td>\n",
       "      <td>8</td>\n",
       "      <td>2</td>\n",
       "      <td>10</td>\n",
       "      <td>4</td>\n",
       "    </tr>\n",
       "    <tr>\n",
       "      <th>3</th>\n",
       "      <td>2</td>\n",
       "      <td>2</td>\n",
       "      <td>0</td>\n",
       "      <td>4</td>\n",
       "      <td>6</td>\n",
       "    </tr>\n",
       "    <tr>\n",
       "      <th>4</th>\n",
       "      <td>5</td>\n",
       "      <td>5</td>\n",
       "      <td>3</td>\n",
       "      <td>6</td>\n",
       "      <td>5</td>\n",
       "    </tr>\n",
       "  </tbody>\n",
       "</table>\n",
       "</div>"
      ],
      "text/plain": [
       "   NumDealsPurchases  NumWebPurchases  NumCatalogPurchases  NumStorePurchases  \\\n",
       "0                  3                8                   10                  4   \n",
       "1                  2                1                    1                  2   \n",
       "2                  1                8                    2                 10   \n",
       "3                  2                2                    0                  4   \n",
       "4                  5                5                    3                  6   \n",
       "\n",
       "   NumWebVisitsMonth  \n",
       "0                  7  \n",
       "1                  5  \n",
       "2                  4  \n",
       "3                  6  \n",
       "4                  5  "
      ]
     },
     "execution_count": 24,
     "metadata": {},
     "output_type": "execute_result"
    }
   ],
   "source": [
    "## Número de compras y visitas al mes\n",
    "data.loc[:, data.columns.str.startswith(\"Num\")].head()"
   ]
  },
  {
   "cell_type": "code",
   "execution_count": 25,
   "metadata": {},
   "outputs": [
    {
     "data": {
      "text/plain": [
       "['NumDealsPurchases',\n",
       " 'NumWebPurchases',\n",
       " 'NumCatalogPurchases',\n",
       " 'NumStorePurchases',\n",
       " 'NumWebVisitsMonth']"
      ]
     },
     "execution_count": 25,
     "metadata": {},
     "output_type": "execute_result"
    }
   ],
   "source": [
    "colum_num = data.loc[:, data.columns.str.startswith(\"Num\")].columns.tolist()\n",
    "colum_num"
   ]
  },
  {
   "cell_type": "code",
   "execution_count": 26,
   "metadata": {},
   "outputs": [
    {
     "data": {
      "text/plain": [
       "Text(0.5, 0.98, 'Boxplot\\n N° de compras y N° de visitas al mes')"
      ]
     },
     "execution_count": 26,
     "metadata": {},
     "output_type": "execute_result"
    },
    {
     "data": {
      "image/png": "[encoded data removed]",
      "text/plain": [
       "<Figure size 864x576 with 5 Axes>"
      ]
     },
     "metadata": {},
     "output_type": "display_data"
    }
   ],
   "source": [
    "fig, axes = plt.subplots(nrows = 2, ncols = 3, figsize = (12,8))\n",
    "\n",
    "axes = axes.flat\n",
    "\n",
    "for i, columns in enumerate(colum_num):\n",
    "    sns.boxplot(data = data,\n",
    "    x = columns,\n",
    "    ax = axes[i])\n",
    "\n",
    "fig.delaxes(axes[5])\n",
    "\n",
    "fig.suptitle(\"Boxplot\\n N° de compras y N° de visitas al mes\", fontsize = 13, fontweight = \"bold\")\n"
   ]
  },
  {
   "cell_type": "code",
   "execution_count": 27,
   "metadata": {},
   "outputs": [
    {
     "data": {
      "text/plain": [
       "(-0.015, 2.5]    1489\n",
       "(2.5, 5.0]        574\n",
       "(5.0, 7.5]         99\n",
       "(7.5, 10.0]        27\n",
       "(10.0, 12.5]        8\n",
       "(12.5, 15.0]        8\n",
       "Name: NumDealsPurchases, dtype: int64"
      ]
     },
     "execution_count": 27,
     "metadata": {},
     "output_type": "execute_result"
    }
   ],
   "source": [
    "pd.cut(data[\"NumDealsPurchases\"], bins = 6).value_counts()"
   ]
  },
  {
   "cell_type": "code",
   "execution_count": 28,
   "metadata": {},
   "outputs": [
    {
     "data": {
      "text/html": [
       "<div>\n",
       "<style scoped>\n",
       "    .dataframe tbody tr th:only-of-type {\n",
       "        vertical-align: middle;\n",
       "    }\n",
       "\n",
       "    .dataframe tbody tr th {\n",
       "        vertical-align: top;\n",
       "    }\n",
       "\n",
       "    .dataframe thead th {\n",
       "        text-align: right;\n",
       "    }\n",
       "</style>\n",
       "<table border=\"1\" class=\"dataframe\">\n",
       "  <thead>\n",
       "    <tr style=\"text-align: right;\">\n",
       "      <th></th>\n",
       "      <th>MntWines</th>\n",
       "      <th>MntFruits</th>\n",
       "      <th>MntMeatProducts</th>\n",
       "      <th>MntFishProducts</th>\n",
       "      <th>MntSweetProducts</th>\n",
       "      <th>MntGoldProds</th>\n",
       "      <th>MntTotal</th>\n",
       "      <th>MntRegularProds</th>\n",
       "    </tr>\n",
       "  </thead>\n",
       "  <tbody>\n",
       "    <tr>\n",
       "      <th>0</th>\n",
       "      <td>635</td>\n",
       "      <td>88</td>\n",
       "      <td>546</td>\n",
       "      <td>172</td>\n",
       "      <td>88</td>\n",
       "      <td>88</td>\n",
       "      <td>1529</td>\n",
       "      <td>1441</td>\n",
       "    </tr>\n",
       "    <tr>\n",
       "      <th>1</th>\n",
       "      <td>11</td>\n",
       "      <td>1</td>\n",
       "      <td>6</td>\n",
       "      <td>2</td>\n",
       "      <td>1</td>\n",
       "      <td>6</td>\n",
       "      <td>21</td>\n",
       "      <td>15</td>\n",
       "    </tr>\n",
       "    <tr>\n",
       "      <th>2</th>\n",
       "      <td>426</td>\n",
       "      <td>49</td>\n",
       "      <td>127</td>\n",
       "      <td>111</td>\n",
       "      <td>21</td>\n",
       "      <td>42</td>\n",
       "      <td>734</td>\n",
       "      <td>692</td>\n",
       "    </tr>\n",
       "    <tr>\n",
       "      <th>3</th>\n",
       "      <td>11</td>\n",
       "      <td>4</td>\n",
       "      <td>20</td>\n",
       "      <td>10</td>\n",
       "      <td>3</td>\n",
       "      <td>5</td>\n",
       "      <td>48</td>\n",
       "      <td>43</td>\n",
       "    </tr>\n",
       "    <tr>\n",
       "      <th>4</th>\n",
       "      <td>173</td>\n",
       "      <td>43</td>\n",
       "      <td>118</td>\n",
       "      <td>46</td>\n",
       "      <td>27</td>\n",
       "      <td>15</td>\n",
       "      <td>407</td>\n",
       "      <td>392</td>\n",
       "    </tr>\n",
       "  </tbody>\n",
       "</table>\n",
       "</div>"
      ],
      "text/plain": [
       "   MntWines  MntFruits  MntMeatProducts  MntFishProducts  MntSweetProducts  \\\n",
       "0       635         88              546              172                88   \n",
       "1        11          1                6                2                 1   \n",
       "2       426         49              127              111                21   \n",
       "3        11          4               20               10                 3   \n",
       "4       173         43              118               46                27   \n",
       "\n",
       "   MntGoldProds  MntTotal  MntRegularProds  \n",
       "0            88      1529             1441  \n",
       "1             6        21               15  \n",
       "2            42       734              692  \n",
       "3             5        48               43  \n",
       "4            15       407              392  "
      ]
     },
     "execution_count": 28,
     "metadata": {},
     "output_type": "execute_result"
    }
   ],
   "source": [
    "## monto gastado de compras por categoría de productos en los dos últimos años\n",
    "\n",
    "data.loc[:, data.columns.str.startswith(\"Mnt\")].head()\n"
   ]
  },
  {
   "cell_type": "code",
   "execution_count": 29,
   "metadata": {},
   "outputs": [
    {
     "name": "stdout",
     "output_type": "stream",
     "text": [
      "¿la relación de mnt_con_gold es igual a mntTotal?\n",
      "False\n",
      "¿la relación de mnt_sin_gold es igual a mntTotal?\n",
      "True\n"
     ]
    }
   ],
   "source": [
    "## la variable 'MntTotal' no está considerando a los productos de oro\n",
    "# la variable \"MntRegularProds\" resta a 'MntTotal' la variable \"MntGoldProds\" (Estaría erroneo la variable)\n",
    "sum_mnt_con_gold = data.loc[:, data.columns.str.startswith(\"Mnt\")].iloc[:,:-2].sum(axis = 1)\n",
    "sum_mnt_sin_gold = data.loc[:, data.columns.str.startswith(\"Mnt\")].iloc[:,:-3].sum(axis = 1)\n",
    "print(\"¿la relación de mnt_con_gold es igual a mntTotal?\")\n",
    "print(all(sum_mnt_con_gold == data[\"MntTotal\"]))\n",
    "print(\"¿la relación de mnt_sin_gold es igual a mntTotal?\")\n",
    "print(all(sum_mnt_sin_gold == data[\"MntTotal\"]))"
   ]
  },
  {
   "cell_type": "code",
   "execution_count": 30,
   "metadata": {},
   "outputs": [
    {
     "data": {
      "text/html": [
       "<div>\n",
       "<style scoped>\n",
       "    .dataframe tbody tr th:only-of-type {\n",
       "        vertical-align: middle;\n",
       "    }\n",
       "\n",
       "    .dataframe tbody tr th {\n",
       "        vertical-align: top;\n",
       "    }\n",
       "\n",
       "    .dataframe thead th {\n",
       "        text-align: right;\n",
       "    }\n",
       "</style>\n",
       "<table border=\"1\" class=\"dataframe\">\n",
       "  <thead>\n",
       "    <tr style=\"text-align: right;\">\n",
       "      <th></th>\n",
       "      <th>MntWines</th>\n",
       "      <th>MntFruits</th>\n",
       "      <th>MntMeatProducts</th>\n",
       "      <th>MntFishProducts</th>\n",
       "      <th>MntSweetProducts</th>\n",
       "      <th>MntGoldProds</th>\n",
       "    </tr>\n",
       "  </thead>\n",
       "  <tbody>\n",
       "    <tr>\n",
       "      <th>0</th>\n",
       "      <td>635</td>\n",
       "      <td>88</td>\n",
       "      <td>546</td>\n",
       "      <td>172</td>\n",
       "      <td>88</td>\n",
       "      <td>88</td>\n",
       "    </tr>\n",
       "    <tr>\n",
       "      <th>1</th>\n",
       "      <td>11</td>\n",
       "      <td>1</td>\n",
       "      <td>6</td>\n",
       "      <td>2</td>\n",
       "      <td>1</td>\n",
       "      <td>6</td>\n",
       "    </tr>\n",
       "    <tr>\n",
       "      <th>2</th>\n",
       "      <td>426</td>\n",
       "      <td>49</td>\n",
       "      <td>127</td>\n",
       "      <td>111</td>\n",
       "      <td>21</td>\n",
       "      <td>42</td>\n",
       "    </tr>\n",
       "    <tr>\n",
       "      <th>3</th>\n",
       "      <td>11</td>\n",
       "      <td>4</td>\n",
       "      <td>20</td>\n",
       "      <td>10</td>\n",
       "      <td>3</td>\n",
       "      <td>5</td>\n",
       "    </tr>\n",
       "    <tr>\n",
       "      <th>4</th>\n",
       "      <td>173</td>\n",
       "      <td>43</td>\n",
       "      <td>118</td>\n",
       "      <td>46</td>\n",
       "      <td>27</td>\n",
       "      <td>15</td>\n",
       "    </tr>\n",
       "  </tbody>\n",
       "</table>\n",
       "</div>"
      ],
      "text/plain": [
       "   MntWines  MntFruits  MntMeatProducts  MntFishProducts  MntSweetProducts  \\\n",
       "0       635         88              546              172                88   \n",
       "1        11          1                6                2                 1   \n",
       "2       426         49              127              111                21   \n",
       "3        11          4               20               10                 3   \n",
       "4       173         43              118               46                27   \n",
       "\n",
       "   MntGoldProds  \n",
       "0            88  \n",
       "1             6  \n",
       "2            42  \n",
       "3             5  \n",
       "4            15  "
      ]
     },
     "execution_count": 30,
     "metadata": {},
     "output_type": "execute_result"
    }
   ],
   "source": [
    "data_spent_product = data.loc[:, data.columns.str.startswith(\"Mnt\")].iloc[:,:-2].copy()\n",
    "data_spent_product.head()"
   ]
  },
  {
   "cell_type": "code",
   "execution_count": 31,
   "metadata": {},
   "outputs": [
    {
     "data": {
      "text/plain": [
       "Text(0.5, 0.98, 'Boxplot\\n Monto gastado por categoría del producto')"
      ]
     },
     "execution_count": 31,
     "metadata": {},
     "output_type": "execute_result"
    },
    {
     "data": {
      "image/png": "[encoded data removed]",
      "text/plain": [
       "<Figure size 864x576 with 6 Axes>"
      ]
     },
     "metadata": {},
     "output_type": "display_data"
    }
   ],
   "source": [
    "fig, axes = plt.subplots(nrows = 2, ncols = 3, figsize = (12,8))\n",
    "\n",
    "axes = axes.flat\n",
    "\n",
    "for i, columns in enumerate(data_spent_product.columns.tolist()):\n",
    "    sns.boxplot(data = data,\n",
    "    x = columns,\n",
    "    ax = axes[i])\n",
    "\n",
    "\n",
    "fig.suptitle(\"Boxplot\\n Monto gastado por categoría del producto\", fontsize = 13, fontweight = \"bold\")"
   ]
  },
  {
   "cell_type": "code",
   "execution_count": 32,
   "metadata": {},
   "outputs": [
    {
     "name": "stdout",
     "output_type": "stream",
     "text": [
      "variable MntGoldProds\n"
     ]
    },
    {
     "data": {
      "text/plain": [
       "(-0.321, 64.2]    1714\n",
       "(64.2, 128.4]      290\n",
       "(128.4, 192.6]     148\n",
       "(192.6, 256.8]      50\n",
       "(256.8, 321.0]       3\n",
       "Name: MntGoldProds, dtype: int64"
      ]
     },
     "execution_count": 32,
     "metadata": {},
     "output_type": "execute_result"
    }
   ],
   "source": [
    "print(\"variable MntGoldProds\")\n",
    "pd.cut(data_spent_product[\"MntGoldProds\"], bins = 5).value_counts()"
   ]
  },
  {
   "cell_type": "code",
   "execution_count": 33,
   "metadata": {},
   "outputs": [
    {
     "name": "stdout",
     "output_type": "stream",
     "text": [
      "variable MntSweetProducts\n"
     ]
    },
    {
     "data": {
      "text/plain": [
       "(-0.321, 64.2]    1714\n",
       "(64.2, 128.4]      290\n",
       "(128.4, 192.6]     148\n",
       "(192.6, 256.8]      50\n",
       "(256.8, 321.0]       3\n",
       "Name: MntGoldProds, dtype: int64"
      ]
     },
     "execution_count": 33,
     "metadata": {},
     "output_type": "execute_result"
    }
   ],
   "source": [
    "print(\"variable MntSweetProducts\")\n",
    "pd.cut(data_spent_product[\"MntGoldProds\"], bins = 5).value_counts()"
   ]
  },
  {
   "cell_type": "code",
   "execution_count": 34,
   "metadata": {},
   "outputs": [
    {
     "name": "stdout",
     "output_type": "stream",
     "text": [
      "variable MntSweetProducts\n"
     ]
    },
    {
     "data": {
      "text/plain": [
       "(-0.199, 39.8]    1723\n",
       "(39.8, 79.6]       237\n",
       "(79.6, 119.4]      128\n",
       "(119.4, 159.2]      73\n",
       "(159.2, 199.0]      44\n",
       "Name: MntFruits, dtype: int64"
      ]
     },
     "execution_count": 34,
     "metadata": {},
     "output_type": "execute_result"
    }
   ],
   "source": [
    "print(\"variable MntSweetProducts\")\n",
    "pd.cut(data_spent_product[\"MntFruits\"], bins = 5).value_counts()"
   ]
  },
  {
   "cell_type": "code",
   "execution_count": 35,
   "metadata": {},
   "outputs": [
    {
     "data": {
      "text/plain": [
       "count    2205.000000\n",
       "mean       51.095692\n",
       "std        11.705801\n",
       "min        24.000000\n",
       "25%        43.000000\n",
       "50%        50.000000\n",
       "75%        61.000000\n",
       "max        80.000000\n",
       "Name: Age, dtype: float64"
      ]
     },
     "execution_count": 35,
     "metadata": {},
     "output_type": "execute_result"
    }
   ],
   "source": [
    "## AGE\n",
    "\n",
    "data[\"Age\"].describe()"
   ]
  },
  {
   "cell_type": "code",
   "execution_count": 36,
   "metadata": {},
   "outputs": [
    {
     "data": {
      "text/plain": [
       "<AxesSubplot:>"
      ]
     },
     "execution_count": 36,
     "metadata": {},
     "output_type": "execute_result"
    },
    {
     "data": {
      "image/png": "[encoded data removed]",
      "text/plain": [
       "<Figure size 432x288 with 1 Axes>"
      ]
     },
     "metadata": {},
     "output_type": "display_data"
    }
   ],
   "source": [
    "pd.cut(data[\"Age\"],bins = 6).value_counts().sort_index().plot(kind = \"bar\")"
   ]
  },
  {
   "cell_type": "code",
   "execution_count": 37,
   "metadata": {},
   "outputs": [],
   "source": [
    "## paras las variables que faltan se realizará el análisis exploratorio con pandas-profile\n",
    "filtro_analisis = ['Complain','Customer_Days', 'Income', 'Kidhome', 'Recency', \n",
    "'Response', 'Teenhome', 'Z_CostContact','Z_Revenue']\n",
    "\n",
    "profile = ppr.ProfileReport(data[filtro_analisis],title = \"Pandas profiling report\", minimal= True)"
   ]
  },
  {
   "cell_type": "code",
   "execution_count": 38,
   "metadata": {},
   "outputs": [],
   "source": [
    "## Guardando el profile en formato html para visualizar en otro medio\n",
    "#profile.to_file(\"report/tb_customer.html\")"
   ]
  },
  {
   "cell_type": "code",
   "execution_count": 39,
   "metadata": {},
   "outputs": [],
   "source": [
    "##  Eliminando las variables no relevantes u erroneas\n",
    "\n",
    "filtro_no_relevante = ['Z_CostContact','Z_Revenue',\"MntTotal\",\"MntRegularProds\"]\n",
    "data_final = data.drop(filtro_no_relevante, axis = 1).copy() "
   ]
  },
  {
   "cell_type": "markdown",
   "metadata": {},
   "source": [
    "### EDA\n",
    "\n",
    "#### **Características del cliente**\n",
    "\n",
    "*Preguntas de exploración*\n",
    "\n",
    "1. ¿Cuantas veces un cliente va a comprar según grupo de edad ?\n",
    "2. ¿Cúal es el monto promedio mensual que gastan las personas que se han quejado?\n",
    "3. ¿Cúal es el porcentaje de clientes que han comprado más del promedio de compra?\n",
    "4. ¿% de clientes que no regresaron a comprar despues de un mes según nivel de educación?\n",
    "5. ¿Monto de gasto promedio de los clientes fieles ? \n",
    "considerar que los clientes fieles son las personas que compran una vez al mes\n",
    "6. ¿cúal es la relación entre la edad y el monto gastado por los clientes según nivel de educación?\n",
    "7. ¿en que medio compran las personas según su ingreso?\n",
    "\n",
    "*hipótesis de nuestras variables*\n",
    "\n",
    "1. Tener por lo menos un hijo en la familia determina que en promedio se compre más productos de tipo dulces que no tener ningún hijo.\n",
    "\n",
    "#### **Campaña Efectividad**\n",
    "\n",
    "*Preguntas de exploración*\n",
    "\n",
    "1. ¿Que categoría de producto se vendió más según las campañas ejecutadas?\n",
    "2. ¿Cúal es el % de usuarios que aceptaron más de una campaña ?\n",
    "3. ¿cuantas campañas en promedio se aceptaron según nivel de ingreso?\n",
    "\n",
    "#### **Producto y medio de compra**\n",
    "\n",
    "*Preguntas de exploración*\n",
    "\n",
    "1. ¿ Cuantas compras en promedio se realizaron según medio de compra?\n",
    "2. ¿Que categoría de producto han gastado más los clientes? se puede realizar por grupos tambien\n",
    "3. ¿Que producto gastan más los clientes que están solteros?"
   ]
  },
  {
   "cell_type": "markdown",
   "metadata": {},
   "source": []
  },
  {
   "cell_type": "markdown",
   "metadata": {},
   "source": [
    "## INICIANDO EL EDA"
   ]
  },
  {
   "cell_type": "markdown",
   "metadata": {},
   "source": [
    "### Caracteristicas del cliente"
   ]
  },
  {
   "cell_type": "markdown",
   "metadata": {},
   "source": [
    "¿Cuantas veces un cliente va a comprar según grupo de edad ?"
   ]
  },
  {
   "cell_type": "code",
   "execution_count": 40,
   "metadata": {},
   "outputs": [
    {
     "data": {
      "text/plain": [
       "count    2205.000000\n",
       "mean       51.095692\n",
       "std        11.705801\n",
       "min        24.000000\n",
       "25%        43.000000\n",
       "50%        50.000000\n",
       "75%        61.000000\n",
       "max        80.000000\n",
       "Name: Age, dtype: float64"
      ]
     },
     "execution_count": 40,
     "metadata": {},
     "output_type": "execute_result"
    }
   ],
   "source": [
    "## Descripción de la variable edad\n",
    "data[\"Age\"].describe()"
   ]
  },
  {
   "cell_type": "code",
   "execution_count": 41,
   "metadata": {},
   "outputs": [
    {
     "data": {
      "text/plain": [
       "Young Adults            61\n",
       "Middle-Aged Adults    1537\n",
       "Old Adults             607\n",
       "Name: Age, dtype: int64"
      ]
     },
     "execution_count": 41,
     "metadata": {},
     "output_type": "execute_result"
    }
   ],
   "source": [
    "## creando los grupos de edad\n",
    "## la grupos de edad están conformado por : \n",
    "## [24-29> -> Young Adults\n",
    "## [30,59> ->Middle-Aged Adults\n",
    "## [60, ~> -> Old Adults\n",
    "## Apoyado en la clasificación del MINSA\n",
    "\n",
    "group_age = [23,30,59,80]\n",
    "\n",
    "pd.cut(data[\"Age\"],\n",
    "group_age, \n",
    "labels = [\"Young Adults\",\"Middle-Aged Adults\",\"Old Adults\"]).value_counts().sort_index()"
   ]
  },
  {
   "cell_type": "code",
   "execution_count": 42,
   "metadata": {},
   "outputs": [],
   "source": [
    "## Almacenando la variable de grupo de edad\n",
    "data_final[\"groupAge\"] = pd.cut(data_final[\"Age\"],\n",
    "group_age, \n",
    "labels = [\"Young Adults\",\"Middle-Aged Adults\",\"Old Adults\"])"
   ]
  },
  {
   "cell_type": "code",
   "execution_count": 43,
   "metadata": {},
   "outputs": [],
   "source": [
    "## Creando la variable número de veces de compra sea de cualquier medio\n",
    "\n",
    "data_final[\"NumPurchases\"] = data_final[[\"NumWebPurchases\",\"NumCatalogPurchases\",\"NumStorePurchases\"]].sum(axis = 1)"
   ]
  },
  {
   "cell_type": "code",
   "execution_count": 44,
   "metadata": {},
   "outputs": [
    {
     "data": {
      "text/html": [
       "<div>\n",
       "<style scoped>\n",
       "    .dataframe tbody tr th:only-of-type {\n",
       "        vertical-align: middle;\n",
       "    }\n",
       "\n",
       "    .dataframe tbody tr th {\n",
       "        vertical-align: top;\n",
       "    }\n",
       "\n",
       "    .dataframe thead th {\n",
       "        text-align: right;\n",
       "    }\n",
       "</style>\n",
       "<table border=\"1\" class=\"dataframe\">\n",
       "  <thead>\n",
       "    <tr style=\"text-align: right;\">\n",
       "      <th></th>\n",
       "      <th>frecuency_purchases</th>\n",
       "    </tr>\n",
       "    <tr>\n",
       "      <th>groupAge</th>\n",
       "      <th></th>\n",
       "    </tr>\n",
       "  </thead>\n",
       "  <tbody>\n",
       "    <tr>\n",
       "      <th>Young Adults</th>\n",
       "      <td>12.950820</td>\n",
       "    </tr>\n",
       "    <tr>\n",
       "      <th>Middle-Aged Adults</th>\n",
       "      <td>11.856213</td>\n",
       "    </tr>\n",
       "    <tr>\n",
       "      <th>Old Adults</th>\n",
       "      <td>14.337727</td>\n",
       "    </tr>\n",
       "  </tbody>\n",
       "</table>\n",
       "</div>"
      ],
      "text/plain": [
       "                    frecuency_purchases\n",
       "groupAge                               \n",
       "Young Adults                  12.950820\n",
       "Middle-Aged Adults            11.856213\n",
       "Old Adults                    14.337727"
      ]
     },
     "execution_count": 44,
     "metadata": {},
     "output_type": "execute_result"
    }
   ],
   "source": [
    "## ¿Cuantas veces un cliente va a comprar según grupo de edad ?\n",
    "\n",
    "data_final.groupby(\"groupAge\").agg( frecuency_purchases = (\"NumPurchases\",\"mean\"))"
   ]
  },
  {
   "cell_type": "code",
   "execution_count": 45,
   "metadata": {},
   "outputs": [
    {
     "data": {
      "text/html": [
       "<style type=\"text/css\">\n",
       "#T_ddc02_row0_col0, #T_ddc02_row1_col1, #T_ddc02_row1_col2 {\n",
       "  background-color: #fff7fb;\n",
       "  color: #000000;\n",
       "}\n",
       "#T_ddc02_row0_col1, #T_ddc02_row2_col0, #T_ddc02_row2_col2 {\n",
       "  background-color: #023858;\n",
       "  color: #f1f1f1;\n",
       "}\n",
       "#T_ddc02_row0_col2 {\n",
       "  background-color: #dbdaeb;\n",
       "  color: #000000;\n",
       "}\n",
       "#T_ddc02_row1_col0 {\n",
       "  background-color: #acc0dd;\n",
       "  color: #000000;\n",
       "}\n",
       "#T_ddc02_row2_col1 {\n",
       "  background-color: #056caa;\n",
       "  color: #f1f1f1;\n",
       "}\n",
       "</style>\n",
       "<table id=\"T_ddc02\">\n",
       "  <thead>\n",
       "    <tr>\n",
       "      <th class=\"blank level0\" >&nbsp;</th>\n",
       "      <th id=\"T_ddc02_level0_col0\" class=\"col_heading level0 col0\" >frecuency_purchases_web</th>\n",
       "      <th id=\"T_ddc02_level0_col1\" class=\"col_heading level0 col1\" >frecuency_purchases_catalog</th>\n",
       "      <th id=\"T_ddc02_level0_col2\" class=\"col_heading level0 col2\" >frecuency_purchases_store</th>\n",
       "    </tr>\n",
       "    <tr>\n",
       "      <th class=\"index_name level0\" >groupAge</th>\n",
       "      <th class=\"blank col0\" >&nbsp;</th>\n",
       "      <th class=\"blank col1\" >&nbsp;</th>\n",
       "      <th class=\"blank col2\" >&nbsp;</th>\n",
       "    </tr>\n",
       "  </thead>\n",
       "  <tbody>\n",
       "    <tr>\n",
       "      <th id=\"T_ddc02_level0_row0\" class=\"row_heading level0 row0\" >Young Adults</th>\n",
       "      <td id=\"T_ddc02_row0_col0\" class=\"data row0 col0\" >3.590164</td>\n",
       "      <td id=\"T_ddc02_row0_col1\" class=\"data row0 col1\" >3.606557</td>\n",
       "      <td id=\"T_ddc02_row0_col2\" class=\"data row0 col2\" >5.754098</td>\n",
       "    </tr>\n",
       "    <tr>\n",
       "      <th id=\"T_ddc02_level0_row1\" class=\"row_heading level0 row1\" >Middle-Aged Adults</th>\n",
       "      <td id=\"T_ddc02_row1_col0\" class=\"data row1 col0\" >3.938842</td>\n",
       "      <td id=\"T_ddc02_row1_col1\" class=\"data row1 col1\" >2.341574</td>\n",
       "      <td id=\"T_ddc02_row1_col2\" class=\"data row1 col2\" >5.575797</td>\n",
       "    </tr>\n",
       "    <tr>\n",
       "      <th id=\"T_ddc02_level0_row2\" class=\"row_heading level0 row2\" >Old Adults</th>\n",
       "      <td id=\"T_ddc02_row2_col0\" class=\"data row2 col0\" >4.561779</td>\n",
       "      <td id=\"T_ddc02_row2_col1\" class=\"data row2 col1\" >3.317957</td>\n",
       "      <td id=\"T_ddc02_row2_col2\" class=\"data row2 col2\" >6.457990</td>\n",
       "    </tr>\n",
       "  </tbody>\n",
       "</table>\n"
      ],
      "text/plain": [
       "<pandas.io.formats.style.Styler at 0x27ffe5a1880>"
      ]
     },
     "execution_count": 45,
     "metadata": {},
     "output_type": "execute_result"
    }
   ],
   "source": [
    "## ¿Cuantas veces un cliente va a comprar según grupo de edad por medio de compra?\n",
    "\n",
    "data_group_age = data_final.groupby(\"groupAge\").agg( \n",
    "    frecuency_purchases_web = (\"NumWebPurchases\",\"mean\"),\n",
    "    frecuency_purchases_catalog = (\"NumCatalogPurchases\",\"mean\"),\n",
    "    frecuency_purchases_store = (\"NumStorePurchases\",\"mean\"),\n",
    "    )\n",
    "data_group_age.style.background_gradient(cmap='PuBu')"
   ]
  },
  {
   "cell_type": "code",
   "execution_count": 46,
   "metadata": {},
   "outputs": [
    {
     "data": {
      "text/html": [
       "<div>\n",
       "<style scoped>\n",
       "    .dataframe tbody tr th:only-of-type {\n",
       "        vertical-align: middle;\n",
       "    }\n",
       "\n",
       "    .dataframe tbody tr th {\n",
       "        vertical-align: top;\n",
       "    }\n",
       "\n",
       "    .dataframe thead th {\n",
       "        text-align: right;\n",
       "    }\n",
       "</style>\n",
       "<table border=\"1\" class=\"dataframe\">\n",
       "  <thead>\n",
       "    <tr style=\"text-align: right;\">\n",
       "      <th></th>\n",
       "      <th>groupAge</th>\n",
       "      <th>type</th>\n",
       "      <th>frecuency purchases</th>\n",
       "    </tr>\n",
       "  </thead>\n",
       "  <tbody>\n",
       "    <tr>\n",
       "      <th>0</th>\n",
       "      <td>Young Adults</td>\n",
       "      <td>frecuency_purchases_web</td>\n",
       "      <td>3.590164</td>\n",
       "    </tr>\n",
       "    <tr>\n",
       "      <th>1</th>\n",
       "      <td>Middle-Aged Adults</td>\n",
       "      <td>frecuency_purchases_web</td>\n",
       "      <td>3.938842</td>\n",
       "    </tr>\n",
       "    <tr>\n",
       "      <th>2</th>\n",
       "      <td>Old Adults</td>\n",
       "      <td>frecuency_purchases_web</td>\n",
       "      <td>4.561779</td>\n",
       "    </tr>\n",
       "    <tr>\n",
       "      <th>3</th>\n",
       "      <td>Young Adults</td>\n",
       "      <td>frecuency_purchases_catalog</td>\n",
       "      <td>3.606557</td>\n",
       "    </tr>\n",
       "    <tr>\n",
       "      <th>4</th>\n",
       "      <td>Middle-Aged Adults</td>\n",
       "      <td>frecuency_purchases_catalog</td>\n",
       "      <td>2.341574</td>\n",
       "    </tr>\n",
       "    <tr>\n",
       "      <th>5</th>\n",
       "      <td>Old Adults</td>\n",
       "      <td>frecuency_purchases_catalog</td>\n",
       "      <td>3.317957</td>\n",
       "    </tr>\n",
       "    <tr>\n",
       "      <th>6</th>\n",
       "      <td>Young Adults</td>\n",
       "      <td>frecuency_purchases_store</td>\n",
       "      <td>5.754098</td>\n",
       "    </tr>\n",
       "    <tr>\n",
       "      <th>7</th>\n",
       "      <td>Middle-Aged Adults</td>\n",
       "      <td>frecuency_purchases_store</td>\n",
       "      <td>5.575797</td>\n",
       "    </tr>\n",
       "    <tr>\n",
       "      <th>8</th>\n",
       "      <td>Old Adults</td>\n",
       "      <td>frecuency_purchases_store</td>\n",
       "      <td>6.457990</td>\n",
       "    </tr>\n",
       "  </tbody>\n",
       "</table>\n",
       "</div>"
      ],
      "text/plain": [
       "             groupAge                         type  frecuency purchases\n",
       "0        Young Adults      frecuency_purchases_web             3.590164\n",
       "1  Middle-Aged Adults      frecuency_purchases_web             3.938842\n",
       "2          Old Adults      frecuency_purchases_web             4.561779\n",
       "3        Young Adults  frecuency_purchases_catalog             3.606557\n",
       "4  Middle-Aged Adults  frecuency_purchases_catalog             2.341574\n",
       "5          Old Adults  frecuency_purchases_catalog             3.317957\n",
       "6        Young Adults    frecuency_purchases_store             5.754098\n",
       "7  Middle-Aged Adults    frecuency_purchases_store             5.575797\n",
       "8          Old Adults    frecuency_purchases_store             6.457990"
      ]
     },
     "execution_count": 46,
     "metadata": {},
     "output_type": "execute_result"
    }
   ],
   "source": [
    "data_group_age_2 =data_group_age.reset_index().melt(id_vars =[\"groupAge\"],\n",
    "var_name='type', value_name='frecuency purchases')\n",
    "data_group_age_2"
   ]
  },
  {
   "cell_type": "code",
   "execution_count": 47,
   "metadata": {},
   "outputs": [
    {
     "data": {
      "text/plain": [
       "<seaborn.axisgrid.FacetGrid at 0x27ffe6728e0>"
      ]
     },
     "execution_count": 47,
     "metadata": {},
     "output_type": "execute_result"
    },
    {
     "data": {
      "image/png": "[encoded data removed]",
      "text/plain": [
       "<Figure size 972x324 with 3 Axes>"
      ]
     },
     "metadata": {},
     "output_type": "display_data"
    }
   ],
   "source": [
    "\n",
    "g = sns.FacetGrid(data_group_age_2, col = \"type\", height= 4.5)\n",
    "g.map(sns.barplot,\"groupAge\", \"frecuency purchases\", color = \"#8B0000\",\n",
    " order = [\"Young Adults\", \"Middle-Aged Adults\", \"Old Adults\"])\n"
   ]
  },
  {
   "cell_type": "markdown",
   "metadata": {},
   "source": [
    "Se puede observar que la frecuencia de compra en adultos mayores es mucho mayor por páginas web y por compras en la tienda física, en comparación con las personas adultas y jovenes."
   ]
  },
  {
   "cell_type": "code",
   "execution_count": 48,
   "metadata": {},
   "outputs": [],
   "source": [
    "# ¿Cúal es el monto promedio mensual que gastan las personas que se han quejado y no se han quejado?\n",
    "\n",
    "data_final[\"MntProducts\"]  = data_final.loc[:,data_final.columns.str.startswith(\"Mnt\")].iloc[:,:-1].sum(axis= 1)"
   ]
  },
  {
   "cell_type": "code",
   "execution_count": 49,
   "metadata": {},
   "outputs": [
    {
     "name": "stdout",
     "output_type": "stream",
     "text": [
      "Monto promedio mensual de gasto de las personas que se han quejado\n",
      "15.183333333333332\n",
      "Monto promedio mensual de gasto de las personas que no se han quejado ninguna vez\n",
      "23.524180015255528\n"
     ]
    }
   ],
   "source": [
    "print(\"Monto promedio mensual de gasto de las personas que se han quejado\")\n",
    "print(data_final[\"MntProducts\"][data_final[\"Complain\"] == 1].mean() / 24)\n",
    "print(\"Monto promedio mensual de gasto de las personas que no se han quejado ninguna vez\")\n",
    "print(data_final[\"MntProducts\"][data_final[\"Complain\"] == 0].mean() / 24)"
   ]
  },
  {
   "cell_type": "code",
   "execution_count": 50,
   "metadata": {},
   "outputs": [
    {
     "data": {
      "text/plain": [
       "<AxesSubplot:xlabel='Complain'>"
      ]
     },
     "execution_count": 50,
     "metadata": {},
     "output_type": "execute_result"
    },
    {
     "data": {
      "image/png": "[encoded data removed]",
      "text/plain": [
       "<Figure size 432x288 with 1 Axes>"
      ]
     },
     "metadata": {},
     "output_type": "display_data"
    }
   ],
   "source": [
    "data_final.groupby(\"Complain\").agg(gasto_promedio = (\"MntProducts\",lambda x : x.mean() / 24)).plot(kind = \"bar\") \n"
   ]
  },
  {
   "cell_type": "markdown",
   "metadata": {},
   "source": [
    "En promedio las personas que se han quejado al menos una vez, tienen un gasto menor mensual, en comparación con las personas que no han hecho ningún reclamo."
   ]
  },
  {
   "cell_type": "code",
   "execution_count": 51,
   "metadata": {},
   "outputs": [
    {
     "data": {
      "text/plain": [
       "40.090702947845806"
      ]
     },
     "execution_count": 51,
     "metadata": {},
     "output_type": "execute_result"
    }
   ],
   "source": [
    "#¿Cúal es el porcentaje de clientes que han comprado más del promedio de compra mensual?\n",
    "(np.where(data_final[\"MntProducts\"] /24 > data_final[\"MntProducts\"].mean() / 24,1,0).sum() / data_final.shape[0]) *100"
   ]
  },
  {
   "cell_type": "markdown",
   "metadata": {},
   "source": [
    "El 40 % de los clientes han comprado más del promedio, es decir, estos clientes son los principales generadores de ingresos de la empresa."
   ]
  },
  {
   "cell_type": "code",
   "execution_count": 52,
   "metadata": {},
   "outputs": [
    {
     "name": "stderr",
     "output_type": "stream",
     "text": [
      "C:\\Users\\jose2\\AppData\\Local\\Temp\\ipykernel_12820\\1516331886.py:3: FutureWarning: In a future version of pandas all arguments of DataFrame.drop except for the argument 'labels' will be keyword-only.\n",
      "  data_final[\"Education\"] = data_final.loc[:,data_final.columns.str.startswith(\"education\")][data_final==1].stack().reset_index().drop(0,1).iloc[:,-1]\n"
     ]
    }
   ],
   "source": [
    "# ¿% de clientes que no regresaron a comprar despues de un mes según nivel de educación?\n",
    "## reverse get - dummies\n",
    "data_final[\"Education\"] = data_final.loc[:,data_final.columns.str.startswith(\"education\")][data_final==1].stack().reset_index().drop(0,1).iloc[:,-1]"
   ]
  },
  {
   "cell_type": "code",
   "execution_count": 53,
   "metadata": {},
   "outputs": [
    {
     "data": {
      "text/plain": [
       "0        True\n",
       "1        True\n",
       "2       False\n",
       "3       False\n",
       "4        True\n",
       "        ...  \n",
       "2200     True\n",
       "2201     True\n",
       "2202     True\n",
       "2203    False\n",
       "2204     True\n",
       "Name: Recency, Length: 2205, dtype: bool"
      ]
     },
     "execution_count": 53,
     "metadata": {},
     "output_type": "execute_result"
    }
   ],
   "source": [
    "data_final.groupby(\"Education\")[\"Recency\"].transform(lambda x: x > 30)"
   ]
  },
  {
   "cell_type": "code",
   "execution_count": 54,
   "metadata": {},
   "outputs": [],
   "source": [
    "data_final[\"compraron_mes\"] = np.where(data_final[\"Recency\"] >30,1,0)"
   ]
  },
  {
   "cell_type": "code",
   "execution_count": 55,
   "metadata": {},
   "outputs": [
    {
     "data": {
      "text/html": [
       "<div>\n",
       "<style scoped>\n",
       "    .dataframe tbody tr th:only-of-type {\n",
       "        vertical-align: middle;\n",
       "    }\n",
       "\n",
       "    .dataframe tbody tr th {\n",
       "        vertical-align: top;\n",
       "    }\n",
       "\n",
       "    .dataframe thead th {\n",
       "        text-align: right;\n",
       "    }\n",
       "</style>\n",
       "<table border=\"1\" class=\"dataframe\">\n",
       "  <thead>\n",
       "    <tr style=\"text-align: right;\">\n",
       "      <th></th>\n",
       "      <th>abandonaron</th>\n",
       "      <th>no_abandonaron</th>\n",
       "    </tr>\n",
       "    <tr>\n",
       "      <th>Education</th>\n",
       "      <th></th>\n",
       "      <th></th>\n",
       "    </tr>\n",
       "  </thead>\n",
       "  <tbody>\n",
       "    <tr>\n",
       "      <th>education_2n Cycle</th>\n",
       "      <td>0.661616</td>\n",
       "      <td>0.338384</td>\n",
       "    </tr>\n",
       "    <tr>\n",
       "      <th>education_Basic</th>\n",
       "      <td>0.722222</td>\n",
       "      <td>0.277778</td>\n",
       "    </tr>\n",
       "    <tr>\n",
       "      <th>education_Graduation</th>\n",
       "      <td>0.681941</td>\n",
       "      <td>0.318059</td>\n",
       "    </tr>\n",
       "    <tr>\n",
       "      <th>education_Master</th>\n",
       "      <td>0.642857</td>\n",
       "      <td>0.357143</td>\n",
       "    </tr>\n",
       "    <tr>\n",
       "      <th>education_PhD</th>\n",
       "      <td>0.689076</td>\n",
       "      <td>0.310924</td>\n",
       "    </tr>\n",
       "  </tbody>\n",
       "</table>\n",
       "</div>"
      ],
      "text/plain": [
       "                      abandonaron  no_abandonaron\n",
       "Education                                        \n",
       "education_2n Cycle       0.661616        0.338384\n",
       "education_Basic          0.722222        0.277778\n",
       "education_Graduation     0.681941        0.318059\n",
       "education_Master         0.642857        0.357143\n",
       "education_PhD            0.689076        0.310924"
      ]
     },
     "execution_count": 55,
     "metadata": {},
     "output_type": "execute_result"
    }
   ],
   "source": [
    "data_final.groupby(\"Education\").agg(abandonaron = (\"compraron_mes\",lambda x: x.sum() /x.shape[0] ),\n",
    "                                    no_abandonaron = (\"compraron_mes\",lambda x: (x.shape[0] - x.sum() )/x.shape[0] ))"
   ]
  },
  {
   "cell_type": "code",
   "execution_count": 56,
   "metadata": {},
   "outputs": [
    {
     "data": {
      "text/html": [
       "<div>\n",
       "<style scoped>\n",
       "    .dataframe tbody tr th:only-of-type {\n",
       "        vertical-align: middle;\n",
       "    }\n",
       "\n",
       "    .dataframe tbody tr th {\n",
       "        vertical-align: top;\n",
       "    }\n",
       "\n",
       "    .dataframe thead th {\n",
       "        text-align: right;\n",
       "    }\n",
       "</style>\n",
       "<table border=\"1\" class=\"dataframe\">\n",
       "  <thead>\n",
       "    <tr style=\"text-align: right;\">\n",
       "      <th>compraron_mes</th>\n",
       "      <th>0</th>\n",
       "      <th>1</th>\n",
       "    </tr>\n",
       "    <tr>\n",
       "      <th>Education</th>\n",
       "      <th></th>\n",
       "      <th></th>\n",
       "    </tr>\n",
       "  </thead>\n",
       "  <tbody>\n",
       "    <tr>\n",
       "      <th>education_2n Cycle</th>\n",
       "      <td>0.338384</td>\n",
       "      <td>0.661616</td>\n",
       "    </tr>\n",
       "    <tr>\n",
       "      <th>education_Basic</th>\n",
       "      <td>0.277778</td>\n",
       "      <td>0.722222</td>\n",
       "    </tr>\n",
       "    <tr>\n",
       "      <th>education_Graduation</th>\n",
       "      <td>0.318059</td>\n",
       "      <td>0.681941</td>\n",
       "    </tr>\n",
       "    <tr>\n",
       "      <th>education_Master</th>\n",
       "      <td>0.357143</td>\n",
       "      <td>0.642857</td>\n",
       "    </tr>\n",
       "    <tr>\n",
       "      <th>education_PhD</th>\n",
       "      <td>0.310924</td>\n",
       "      <td>0.689076</td>\n",
       "    </tr>\n",
       "  </tbody>\n",
       "</table>\n",
       "</div>"
      ],
      "text/plain": [
       "compraron_mes                0         1\n",
       "Education                               \n",
       "education_2n Cycle    0.338384  0.661616\n",
       "education_Basic       0.277778  0.722222\n",
       "education_Graduation  0.318059  0.681941\n",
       "education_Master      0.357143  0.642857\n",
       "education_PhD         0.310924  0.689076"
      ]
     },
     "execution_count": 56,
     "metadata": {},
     "output_type": "execute_result"
    }
   ],
   "source": [
    "pd.crosstab(data_final.Education, data_final[\"compraron_mes\"],normalize='index')"
   ]
  },
  {
   "cell_type": "markdown",
   "metadata": {},
   "source": [
    "el 72% del total de personas con educación básica han dejando de comprar a la tienda hace un mes."
   ]
  },
  {
   "cell_type": "code",
   "execution_count": 58,
   "metadata": {},
   "outputs": [
    {
     "data": {
      "text/plain": [
       "Index(['Income', 'Kidhome', 'Teenhome', 'Recency', 'MntWines', 'MntFruits',\n",
       "       'MntMeatProducts', 'MntFishProducts', 'MntSweetProducts',\n",
       "       'MntGoldProds', 'NumDealsPurchases', 'NumWebPurchases',\n",
       "       'NumCatalogPurchases', 'NumStorePurchases', 'NumWebVisitsMonth',\n",
       "       'AcceptedCmp3', 'AcceptedCmp4', 'AcceptedCmp5', 'AcceptedCmp1',\n",
       "       'AcceptedCmp2', 'Complain', 'Response', 'Age', 'Customer_Days',\n",
       "       'marital_Divorced', 'marital_Married', 'marital_Single',\n",
       "       'marital_Together', 'marital_Widow', 'education_2n Cycle',\n",
       "       'education_Basic', 'education_Graduation', 'education_Master',\n",
       "       'education_PhD', 'AcceptedCmpOverall', 'groupAge', 'NumPurchases',\n",
       "       'MntProducts', 'Education', 'compraron_mes'],\n",
       "      dtype='object')"
      ]
     },
     "execution_count": 58,
     "metadata": {},
     "output_type": "execute_result"
    }
   ],
   "source": [
    "#5. ¿Monto de gasto promedio de los clientes fieles ? \n",
    "#considerar que los clientes fieles son las personas que compran una vez al mes\n",
    "data_final.columns"
   ]
  },
  {
   "cell_type": "code",
   "execution_count": 67,
   "metadata": {},
   "outputs": [
    {
     "data": {
      "text/plain": [
       "<seaborn.axisgrid.FacetGrid at 0x27f80e70af0>"
      ]
     },
     "execution_count": 67,
     "metadata": {},
     "output_type": "execute_result"
    },
    {
     "data": {
      "image/png": "[encoded data removed]",
      "text/plain": [
       "<Figure size 1080x720 with 5 Axes>"
      ]
     },
     "metadata": {},
     "output_type": "display_data"
    }
   ],
   "source": [
    "# 6. ¿cúal es la relación entre la edad y el monto gastado por los clientes según nivel de educación?\n",
    "\n",
    "sns.lmplot(data = data_final, x = \"Age\", y = \"MntProducts\", \n",
    "hue = \"Education\", col = \"Education\",\n",
    "col_wrap = 3,\n",
    "scatter_kws = {\"alpha\" : 0.5} \n",
    ")"
   ]
  },
  {
   "cell_type": "code",
   "execution_count": 74,
   "metadata": {},
   "outputs": [],
   "source": [
    "# 7. ¿en que medio compran más las personas según su ingreso anual?\n",
    "\n",
    "data_final[\"IncomeOrder\"] = pd.cut(data_final[\"Income\"], bins = 4)"
   ]
  },
  {
   "cell_type": "code",
   "execution_count": 82,
   "metadata": {},
   "outputs": [
    {
     "data": {
      "text/html": [
       "<style type=\"text/css\">\n",
       "#T_6ae24_row0_col0, #T_6ae24_row0_col1, #T_6ae24_row0_col2 {\n",
       "  background-color: #fff7fb;\n",
       "  color: #000000;\n",
       "}\n",
       "#T_6ae24_row1_col0 {\n",
       "  background-color: #99b8d8;\n",
       "  color: #000000;\n",
       "}\n",
       "#T_6ae24_row1_col1 {\n",
       "  background-color: #e7e3f0;\n",
       "  color: #000000;\n",
       "}\n",
       "#T_6ae24_row1_col2 {\n",
       "  background-color: #bdc8e1;\n",
       "  color: #000000;\n",
       "}\n",
       "#T_6ae24_row2_col0, #T_6ae24_row3_col2 {\n",
       "  background-color: #034973;\n",
       "  color: #f1f1f1;\n",
       "}\n",
       "#T_6ae24_row2_col1 {\n",
       "  background-color: #0a73b2;\n",
       "  color: #f1f1f1;\n",
       "}\n",
       "#T_6ae24_row2_col2, #T_6ae24_row3_col0, #T_6ae24_row3_col1 {\n",
       "  background-color: #023858;\n",
       "  color: #f1f1f1;\n",
       "}\n",
       "</style>\n",
       "<table id=\"T_6ae24\">\n",
       "  <thead>\n",
       "    <tr>\n",
       "      <th class=\"blank level0\" >&nbsp;</th>\n",
       "      <th id=\"T_6ae24_level0_col0\" class=\"col_heading level0 col0\" >frecuency_purchases_web</th>\n",
       "      <th id=\"T_6ae24_level0_col1\" class=\"col_heading level0 col1\" >frecuency_purchases_catalog</th>\n",
       "      <th id=\"T_6ae24_level0_col2\" class=\"col_heading level0 col2\" >frecuency_purchases_store</th>\n",
       "    </tr>\n",
       "    <tr>\n",
       "      <th class=\"index_name level0\" >IncomeOrder</th>\n",
       "      <th class=\"blank col0\" >&nbsp;</th>\n",
       "      <th class=\"blank col1\" >&nbsp;</th>\n",
       "      <th class=\"blank col2\" >&nbsp;</th>\n",
       "    </tr>\n",
       "  </thead>\n",
       "  <tbody>\n",
       "    <tr>\n",
       "      <th id=\"T_6ae24_level0_row0\" class=\"row_heading level0 row0\" >(1617.996, 29731.0]</th>\n",
       "      <td id=\"T_6ae24_row0_col0\" class=\"data row0 col0\" >1.944904</td>\n",
       "      <td id=\"T_6ae24_row0_col1\" class=\"data row0 col1\" >0.479339</td>\n",
       "      <td id=\"T_6ae24_row0_col2\" class=\"data row0 col2\" >2.831956</td>\n",
       "    </tr>\n",
       "    <tr>\n",
       "      <th id=\"T_6ae24_level0_row1\" class=\"row_heading level0 row1\" >(29731.0, 57732.0]</th>\n",
       "      <td id=\"T_6ae24_row1_col0\" class=\"data row1 col0\" >3.524973</td>\n",
       "      <td id=\"T_6ae24_row1_col1\" class=\"data row1 col1\" >1.328374</td>\n",
       "      <td id=\"T_6ae24_row1_col2\" class=\"data row1 col2\" >4.536663</td>\n",
       "    </tr>\n",
       "    <tr>\n",
       "      <th id=\"T_6ae24_level0_row2\" class=\"row_heading level0 row2\" >(57732.0, 85733.0]</th>\n",
       "      <td id=\"T_6ae24_row2_col0\" class=\"data row2 col0\" >5.548662</td>\n",
       "      <td id=\"T_6ae24_row2_col1\" class=\"data row2 col1\" >4.760341</td>\n",
       "      <td id=\"T_6ae24_row2_col2\" class=\"data row2 col2\" >8.403893</td>\n",
       "    </tr>\n",
       "    <tr>\n",
       "      <th id=\"T_6ae24_level0_row3\" class=\"row_heading level0 row3\" >(85733.0, 113734.0]</th>\n",
       "      <td id=\"T_6ae24_row3_col0\" class=\"data row3 col0\" >5.797468</td>\n",
       "      <td id=\"T_6ae24_row3_col1\" class=\"data row3 col1\" >6.278481</td>\n",
       "      <td id=\"T_6ae24_row3_col2\" class=\"data row3 col2\" >8.050633</td>\n",
       "    </tr>\n",
       "  </tbody>\n",
       "</table>\n"
      ],
      "text/plain": [
       "<pandas.io.formats.style.Styler at 0x27ff05cf400>"
      ]
     },
     "execution_count": 82,
     "metadata": {},
     "output_type": "execute_result"
    }
   ],
   "source": [
    "data_final.groupby([\"IncomeOrder\"]).agg( \n",
    "    frecuency_purchases_web = (\"NumWebPurchases\",\"mean\"),\n",
    "    frecuency_purchases_catalog = (\"NumCatalogPurchases\",\"mean\"),\n",
    "    frecuency_purchases_store = (\"NumStorePurchases\",\"mean\"),\n",
    "    ).style.background_gradient(cmap='PuBu')"
   ]
  },
  {
   "cell_type": "code",
   "execution_count": 268,
   "metadata": {},
   "outputs": [
    {
     "data": {
      "text/plain": [
       "<matplotlib.collections.PathCollection at 0x27f8e3fd7c0>"
      ]
     },
     "execution_count": 268,
     "metadata": {},
     "output_type": "execute_result"
    },
    {
     "data": {
      "image/png": "[encoded data removed]",
      "text/plain": [
       "<Figure size 432x288 with 1 Axes>"
      ]
     },
     "metadata": {},
     "output_type": "display_data"
    }
   ],
   "source": [
    "## ¿a mayor número de hijos pequeños se gasta menos?\n",
    "\n",
    "plt.scatter(x = data_final[\"Kidhome\"], y = data_final[\"MntProducts\"])"
   ]
  },
  {
   "cell_type": "code",
   "execution_count": 290,
   "metadata": {},
   "outputs": [
    {
     "data": {
      "image/png": "[encoded data removed]",
      "text/plain": [
       "<Figure size 864x720 with 6 Axes>"
      ]
     },
     "metadata": {},
     "output_type": "display_data"
    }
   ],
   "source": [
    "fig, axes = plt.subplots(nrows = 2, ncols = 3, figsize = (12,10))\n",
    "axes = axes.flat\n",
    "group_mnt = ['MntWines', 'MntFruits','MntMeatProducts', 'MntFishProducts', 'MntSweetProducts']\n",
    "for i,j in  enumerate(group_mnt):\n",
    "    sns.barplot(x = data_final[\"Kidhome\"], y= data_final[j], estimator = np.mean, ax = axes[i])"
   ]
  },
  {
   "cell_type": "code",
   "execution_count": 291,
   "metadata": {},
   "outputs": [
    {
     "data": {
      "image/png": "[encoded data removed]",
      "text/plain": [
       "<Figure size 864x720 with 6 Axes>"
      ]
     },
     "metadata": {},
     "output_type": "display_data"
    }
   ],
   "source": [
    "fig, axes = plt.subplots(nrows = 2, ncols = 3, figsize = (12,10))\n",
    "axes = axes.flat\n",
    "group_mnt = ['MntWines', 'MntFruits','MntMeatProducts', 'MntFishProducts', 'MntSweetProducts']\n",
    "for i,j in  enumerate(group_mnt):\n",
    "    sns.barplot(x = data_final[\"Teenhome\"], y= data_final[j], estimator = np.mean, ax = axes[i])"
   ]
  },
  {
   "cell_type": "code",
   "execution_count": 273,
   "metadata": {},
   "outputs": [
    {
     "data": {
      "text/html": [
       "<div>\n",
       "<style scoped>\n",
       "    .dataframe tbody tr th:only-of-type {\n",
       "        vertical-align: middle;\n",
       "    }\n",
       "\n",
       "    .dataframe tbody tr th {\n",
       "        vertical-align: top;\n",
       "    }\n",
       "\n",
       "    .dataframe thead th {\n",
       "        text-align: right;\n",
       "    }\n",
       "</style>\n",
       "<table border=\"1\" class=\"dataframe\">\n",
       "  <thead>\n",
       "    <tr style=\"text-align: right;\">\n",
       "      <th></th>\n",
       "      <th>Income</th>\n",
       "      <th>Kidhome</th>\n",
       "      <th>Teenhome</th>\n",
       "      <th>Recency</th>\n",
       "      <th>MntWines</th>\n",
       "      <th>MntFruits</th>\n",
       "      <th>MntMeatProducts</th>\n",
       "      <th>MntFishProducts</th>\n",
       "      <th>MntSweetProducts</th>\n",
       "      <th>MntGoldProds</th>\n",
       "      <th>...</th>\n",
       "      <th>MntProducts</th>\n",
       "      <th>Education</th>\n",
       "      <th>compraron_mes</th>\n",
       "      <th>IncomeOrder</th>\n",
       "      <th>NoAccepterCmpOverall</th>\n",
       "      <th>Accmost1</th>\n",
       "      <th>marital_status</th>\n",
       "      <th>Kidhomemost1</th>\n",
       "      <th>teenhomemost1</th>\n",
       "      <th>AcceptDeal</th>\n",
       "    </tr>\n",
       "  </thead>\n",
       "  <tbody>\n",
       "    <tr>\n",
       "      <th>27</th>\n",
       "      <td>84618.0</td>\n",
       "      <td>0</td>\n",
       "      <td>0</td>\n",
       "      <td>96</td>\n",
       "      <td>684</td>\n",
       "      <td>100</td>\n",
       "      <td>801</td>\n",
       "      <td>21</td>\n",
       "      <td>66</td>\n",
       "      <td>0</td>\n",
       "      <td>...</td>\n",
       "      <td>1672</td>\n",
       "      <td>education_PhD</td>\n",
       "      <td>1</td>\n",
       "      <td>(57732.0, 85733.0]</td>\n",
       "      <td>0</td>\n",
       "      <td>0</td>\n",
       "      <td>marital_Married</td>\n",
       "      <td>0</td>\n",
       "      <td>0</td>\n",
       "      <td>1</td>\n",
       "    </tr>\n",
       "    <tr>\n",
       "      <th>61</th>\n",
       "      <td>32474.0</td>\n",
       "      <td>1</td>\n",
       "      <td>1</td>\n",
       "      <td>0</td>\n",
       "      <td>10</td>\n",
       "      <td>0</td>\n",
       "      <td>1</td>\n",
       "      <td>0</td>\n",
       "      <td>0</td>\n",
       "      <td>0</td>\n",
       "      <td>...</td>\n",
       "      <td>11</td>\n",
       "      <td>education_Graduation</td>\n",
       "      <td>0</td>\n",
       "      <td>(29731.0, 57732.0]</td>\n",
       "      <td>1</td>\n",
       "      <td>0</td>\n",
       "      <td>marital_Together</td>\n",
       "      <td>1</td>\n",
       "      <td>1</td>\n",
       "      <td>1</td>\n",
       "    </tr>\n",
       "    <tr>\n",
       "      <th>85</th>\n",
       "      <td>23626.0</td>\n",
       "      <td>1</td>\n",
       "      <td>0</td>\n",
       "      <td>84</td>\n",
       "      <td>27</td>\n",
       "      <td>2</td>\n",
       "      <td>14</td>\n",
       "      <td>0</td>\n",
       "      <td>0</td>\n",
       "      <td>0</td>\n",
       "      <td>...</td>\n",
       "      <td>43</td>\n",
       "      <td>education_PhD</td>\n",
       "      <td>1</td>\n",
       "      <td>(1617.996, 29731.0]</td>\n",
       "      <td>1</td>\n",
       "      <td>0</td>\n",
       "      <td>marital_Married</td>\n",
       "      <td>1</td>\n",
       "      <td>0</td>\n",
       "      <td>1</td>\n",
       "    </tr>\n",
       "    <tr>\n",
       "      <th>124</th>\n",
       "      <td>62981.0</td>\n",
       "      <td>0</td>\n",
       "      <td>0</td>\n",
       "      <td>21</td>\n",
       "      <td>796</td>\n",
       "      <td>14</td>\n",
       "      <td>590</td>\n",
       "      <td>38</td>\n",
       "      <td>44</td>\n",
       "      <td>0</td>\n",
       "      <td>...</td>\n",
       "      <td>1482</td>\n",
       "      <td>education_PhD</td>\n",
       "      <td>0</td>\n",
       "      <td>(57732.0, 85733.0]</td>\n",
       "      <td>0</td>\n",
       "      <td>0</td>\n",
       "      <td>marital_Together</td>\n",
       "      <td>0</td>\n",
       "      <td>0</td>\n",
       "      <td>1</td>\n",
       "    </tr>\n",
       "    <tr>\n",
       "      <th>146</th>\n",
       "      <td>60199.0</td>\n",
       "      <td>1</td>\n",
       "      <td>2</td>\n",
       "      <td>49</td>\n",
       "      <td>8</td>\n",
       "      <td>1</td>\n",
       "      <td>7</td>\n",
       "      <td>2</td>\n",
       "      <td>0</td>\n",
       "      <td>0</td>\n",
       "      <td>...</td>\n",
       "      <td>18</td>\n",
       "      <td>education_Graduation</td>\n",
       "      <td>1</td>\n",
       "      <td>(57732.0, 85733.0]</td>\n",
       "      <td>1</td>\n",
       "      <td>0</td>\n",
       "      <td>marital_Single</td>\n",
       "      <td>1</td>\n",
       "      <td>1</td>\n",
       "      <td>1</td>\n",
       "    </tr>\n",
       "    <tr>\n",
       "      <th>...</th>\n",
       "      <td>...</td>\n",
       "      <td>...</td>\n",
       "      <td>...</td>\n",
       "      <td>...</td>\n",
       "      <td>...</td>\n",
       "      <td>...</td>\n",
       "      <td>...</td>\n",
       "      <td>...</td>\n",
       "      <td>...</td>\n",
       "      <td>...</td>\n",
       "      <td>...</td>\n",
       "      <td>...</td>\n",
       "      <td>...</td>\n",
       "      <td>...</td>\n",
       "      <td>...</td>\n",
       "      <td>...</td>\n",
       "      <td>...</td>\n",
       "      <td>...</td>\n",
       "      <td>...</td>\n",
       "      <td>...</td>\n",
       "      <td>...</td>\n",
       "    </tr>\n",
       "    <tr>\n",
       "      <th>2099</th>\n",
       "      <td>72309.0</td>\n",
       "      <td>0</td>\n",
       "      <td>0</td>\n",
       "      <td>64</td>\n",
       "      <td>960</td>\n",
       "      <td>0</td>\n",
       "      <td>883</td>\n",
       "      <td>50</td>\n",
       "      <td>38</td>\n",
       "      <td>0</td>\n",
       "      <td>...</td>\n",
       "      <td>1931</td>\n",
       "      <td>education_Master</td>\n",
       "      <td>1</td>\n",
       "      <td>(57732.0, 85733.0]</td>\n",
       "      <td>0</td>\n",
       "      <td>0</td>\n",
       "      <td>marital_Single</td>\n",
       "      <td>0</td>\n",
       "      <td>0</td>\n",
       "      <td>1</td>\n",
       "    </tr>\n",
       "    <tr>\n",
       "      <th>2116</th>\n",
       "      <td>42769.0</td>\n",
       "      <td>0</td>\n",
       "      <td>1</td>\n",
       "      <td>15</td>\n",
       "      <td>71</td>\n",
       "      <td>0</td>\n",
       "      <td>13</td>\n",
       "      <td>3</td>\n",
       "      <td>1</td>\n",
       "      <td>0</td>\n",
       "      <td>...</td>\n",
       "      <td>88</td>\n",
       "      <td>education_PhD</td>\n",
       "      <td>0</td>\n",
       "      <td>(29731.0, 57732.0]</td>\n",
       "      <td>1</td>\n",
       "      <td>0</td>\n",
       "      <td>marital_Married</td>\n",
       "      <td>0</td>\n",
       "      <td>1</td>\n",
       "      <td>1</td>\n",
       "    </tr>\n",
       "    <tr>\n",
       "      <th>2151</th>\n",
       "      <td>53233.0</td>\n",
       "      <td>0</td>\n",
       "      <td>1</td>\n",
       "      <td>18</td>\n",
       "      <td>28</td>\n",
       "      <td>0</td>\n",
       "      <td>9</td>\n",
       "      <td>3</td>\n",
       "      <td>0</td>\n",
       "      <td>0</td>\n",
       "      <td>...</td>\n",
       "      <td>40</td>\n",
       "      <td>education_2n Cycle</td>\n",
       "      <td>0</td>\n",
       "      <td>(29731.0, 57732.0]</td>\n",
       "      <td>1</td>\n",
       "      <td>0</td>\n",
       "      <td>marital_Married</td>\n",
       "      <td>0</td>\n",
       "      <td>1</td>\n",
       "      <td>1</td>\n",
       "    </tr>\n",
       "    <tr>\n",
       "      <th>2159</th>\n",
       "      <td>27469.0</td>\n",
       "      <td>0</td>\n",
       "      <td>0</td>\n",
       "      <td>2</td>\n",
       "      <td>9</td>\n",
       "      <td>1</td>\n",
       "      <td>2</td>\n",
       "      <td>3</td>\n",
       "      <td>2</td>\n",
       "      <td>0</td>\n",
       "      <td>...</td>\n",
       "      <td>17</td>\n",
       "      <td>education_Graduation</td>\n",
       "      <td>0</td>\n",
       "      <td>(1617.996, 29731.0]</td>\n",
       "      <td>1</td>\n",
       "      <td>0</td>\n",
       "      <td>marital_Married</td>\n",
       "      <td>0</td>\n",
       "      <td>0</td>\n",
       "      <td>1</td>\n",
       "    </tr>\n",
       "    <tr>\n",
       "      <th>2179</th>\n",
       "      <td>38054.0</td>\n",
       "      <td>1</td>\n",
       "      <td>1</td>\n",
       "      <td>24</td>\n",
       "      <td>23</td>\n",
       "      <td>2</td>\n",
       "      <td>17</td>\n",
       "      <td>2</td>\n",
       "      <td>1</td>\n",
       "      <td>0</td>\n",
       "      <td>...</td>\n",
       "      <td>45</td>\n",
       "      <td>education_Master</td>\n",
       "      <td>0</td>\n",
       "      <td>(29731.0, 57732.0]</td>\n",
       "      <td>1</td>\n",
       "      <td>0</td>\n",
       "      <td>marital_Divorced</td>\n",
       "      <td>1</td>\n",
       "      <td>1</td>\n",
       "      <td>1</td>\n",
       "    </tr>\n",
       "  </tbody>\n",
       "</table>\n",
       "<p>61 rows × 47 columns</p>\n",
       "</div>"
      ],
      "text/plain": [
       "       Income  Kidhome  Teenhome  Recency  MntWines  MntFruits  \\\n",
       "27    84618.0        0         0       96       684        100   \n",
       "61    32474.0        1         1        0        10          0   \n",
       "85    23626.0        1         0       84        27          2   \n",
       "124   62981.0        0         0       21       796         14   \n",
       "146   60199.0        1         2       49         8          1   \n",
       "...       ...      ...       ...      ...       ...        ...   \n",
       "2099  72309.0        0         0       64       960          0   \n",
       "2116  42769.0        0         1       15        71          0   \n",
       "2151  53233.0        0         1       18        28          0   \n",
       "2159  27469.0        0         0        2         9          1   \n",
       "2179  38054.0        1         1       24        23          2   \n",
       "\n",
       "      MntMeatProducts  MntFishProducts  MntSweetProducts  MntGoldProds  ...  \\\n",
       "27                801               21                66             0  ...   \n",
       "61                  1                0                 0             0  ...   \n",
       "85                 14                0                 0             0  ...   \n",
       "124               590               38                44             0  ...   \n",
       "146                 7                2                 0             0  ...   \n",
       "...               ...              ...               ...           ...  ...   \n",
       "2099              883               50                38             0  ...   \n",
       "2116               13                3                 1             0  ...   \n",
       "2151                9                3                 0             0  ...   \n",
       "2159                2                3                 2             0  ...   \n",
       "2179               17                2                 1             0  ...   \n",
       "\n",
       "      MntProducts             Education  compraron_mes          IncomeOrder  \\\n",
       "27           1672         education_PhD              1   (57732.0, 85733.0]   \n",
       "61             11  education_Graduation              0   (29731.0, 57732.0]   \n",
       "85             43         education_PhD              1  (1617.996, 29731.0]   \n",
       "124          1482         education_PhD              0   (57732.0, 85733.0]   \n",
       "146            18  education_Graduation              1   (57732.0, 85733.0]   \n",
       "...           ...                   ...            ...                  ...   \n",
       "2099         1931      education_Master              1   (57732.0, 85733.0]   \n",
       "2116           88         education_PhD              0   (29731.0, 57732.0]   \n",
       "2151           40    education_2n Cycle              0   (29731.0, 57732.0]   \n",
       "2159           17  education_Graduation              0  (1617.996, 29731.0]   \n",
       "2179           45      education_Master              0   (29731.0, 57732.0]   \n",
       "\n",
       "      NoAccepterCmpOverall  Accmost1    marital_status  Kidhomemost1  \\\n",
       "27                       0         0   marital_Married             0   \n",
       "61                       1         0  marital_Together             1   \n",
       "85                       1         0   marital_Married             1   \n",
       "124                      0         0  marital_Together             0   \n",
       "146                      1         0    marital_Single             1   \n",
       "...                    ...       ...               ...           ...   \n",
       "2099                     0         0    marital_Single             0   \n",
       "2116                     1         0   marital_Married             0   \n",
       "2151                     1         0   marital_Married             0   \n",
       "2159                     1         0   marital_Married             0   \n",
       "2179                     1         0  marital_Divorced             1   \n",
       "\n",
       "      teenhomemost1  AcceptDeal  \n",
       "27                0           1  \n",
       "61                1           1  \n",
       "85                0           1  \n",
       "124               0           1  \n",
       "146               1           1  \n",
       "...             ...         ...  \n",
       "2099              0           1  \n",
       "2116              1           1  \n",
       "2151              1           1  \n",
       "2159              0           1  \n",
       "2179              1           1  \n",
       "\n",
       "[61 rows x 47 columns]"
      ]
     },
     "execution_count": 273,
     "metadata": {},
     "output_type": "execute_result"
    }
   ],
   "source": [
    "np.wheredata_final[data_final[\"MntGoldProds\"] == 0]"
   ]
  },
  {
   "cell_type": "code",
   "execution_count": 269,
   "metadata": {},
   "outputs": [
    {
     "data": {
      "text/plain": [
       "<matplotlib.collections.PathCollection at 0x27f8e3e2790>"
      ]
     },
     "execution_count": 269,
     "metadata": {},
     "output_type": "execute_result"
    },
    {
     "data": {
      "image/png": "[encoded data removed]",
      "text/plain": [
       "<Figure size 432x288 with 1 Axes>"
      ]
     },
     "metadata": {},
     "output_type": "display_data"
    }
   ],
   "source": [
    "## ¿a mayor número de hijos adolecentes  se gasta menos?\n",
    "\n",
    "plt.scatter(x = data_final[\"Teenhome\"], y = data_final[\"MntProducts\"])"
   ]
  },
  {
   "cell_type": "markdown",
   "metadata": {},
   "source": [
    "### Campaña efectividad"
   ]
  },
  {
   "cell_type": "code",
   "execution_count": 86,
   "metadata": {},
   "outputs": [
    {
     "data": {
      "text/html": [
       "<div>\n",
       "<style scoped>\n",
       "    .dataframe tbody tr th:only-of-type {\n",
       "        vertical-align: middle;\n",
       "    }\n",
       "\n",
       "    .dataframe tbody tr th {\n",
       "        vertical-align: top;\n",
       "    }\n",
       "\n",
       "    .dataframe thead th {\n",
       "        text-align: right;\n",
       "    }\n",
       "</style>\n",
       "<table border=\"1\" class=\"dataframe\">\n",
       "  <thead>\n",
       "    <tr style=\"text-align: right;\">\n",
       "      <th></th>\n",
       "      <th>AcceptedCmp3</th>\n",
       "      <th>AcceptedCmp4</th>\n",
       "      <th>AcceptedCmp5</th>\n",
       "      <th>AcceptedCmp1</th>\n",
       "      <th>AcceptedCmp2</th>\n",
       "      <th>AcceptedCmpOverall</th>\n",
       "    </tr>\n",
       "  </thead>\n",
       "  <tbody>\n",
       "    <tr>\n",
       "      <th>0</th>\n",
       "      <td>0</td>\n",
       "      <td>0</td>\n",
       "      <td>0</td>\n",
       "      <td>0</td>\n",
       "      <td>0</td>\n",
       "      <td>0</td>\n",
       "    </tr>\n",
       "    <tr>\n",
       "      <th>1</th>\n",
       "      <td>0</td>\n",
       "      <td>0</td>\n",
       "      <td>0</td>\n",
       "      <td>0</td>\n",
       "      <td>0</td>\n",
       "      <td>0</td>\n",
       "    </tr>\n",
       "    <tr>\n",
       "      <th>2</th>\n",
       "      <td>0</td>\n",
       "      <td>0</td>\n",
       "      <td>0</td>\n",
       "      <td>0</td>\n",
       "      <td>0</td>\n",
       "      <td>0</td>\n",
       "    </tr>\n",
       "    <tr>\n",
       "      <th>3</th>\n",
       "      <td>0</td>\n",
       "      <td>0</td>\n",
       "      <td>0</td>\n",
       "      <td>0</td>\n",
       "      <td>0</td>\n",
       "      <td>0</td>\n",
       "    </tr>\n",
       "    <tr>\n",
       "      <th>4</th>\n",
       "      <td>0</td>\n",
       "      <td>0</td>\n",
       "      <td>0</td>\n",
       "      <td>0</td>\n",
       "      <td>0</td>\n",
       "      <td>0</td>\n",
       "    </tr>\n",
       "    <tr>\n",
       "      <th>...</th>\n",
       "      <td>...</td>\n",
       "      <td>...</td>\n",
       "      <td>...</td>\n",
       "      <td>...</td>\n",
       "      <td>...</td>\n",
       "      <td>...</td>\n",
       "    </tr>\n",
       "    <tr>\n",
       "      <th>2200</th>\n",
       "      <td>0</td>\n",
       "      <td>0</td>\n",
       "      <td>0</td>\n",
       "      <td>0</td>\n",
       "      <td>0</td>\n",
       "      <td>0</td>\n",
       "    </tr>\n",
       "    <tr>\n",
       "      <th>2201</th>\n",
       "      <td>0</td>\n",
       "      <td>0</td>\n",
       "      <td>0</td>\n",
       "      <td>1</td>\n",
       "      <td>0</td>\n",
       "      <td>1</td>\n",
       "    </tr>\n",
       "    <tr>\n",
       "      <th>2202</th>\n",
       "      <td>0</td>\n",
       "      <td>1</td>\n",
       "      <td>0</td>\n",
       "      <td>0</td>\n",
       "      <td>0</td>\n",
       "      <td>1</td>\n",
       "    </tr>\n",
       "    <tr>\n",
       "      <th>2203</th>\n",
       "      <td>0</td>\n",
       "      <td>0</td>\n",
       "      <td>0</td>\n",
       "      <td>0</td>\n",
       "      <td>0</td>\n",
       "      <td>0</td>\n",
       "    </tr>\n",
       "    <tr>\n",
       "      <th>2204</th>\n",
       "      <td>0</td>\n",
       "      <td>0</td>\n",
       "      <td>0</td>\n",
       "      <td>0</td>\n",
       "      <td>0</td>\n",
       "      <td>0</td>\n",
       "    </tr>\n",
       "  </tbody>\n",
       "</table>\n",
       "<p>2205 rows × 6 columns</p>\n",
       "</div>"
      ],
      "text/plain": [
       "      AcceptedCmp3  AcceptedCmp4  AcceptedCmp5  AcceptedCmp1  AcceptedCmp2  \\\n",
       "0                0             0             0             0             0   \n",
       "1                0             0             0             0             0   \n",
       "2                0             0             0             0             0   \n",
       "3                0             0             0             0             0   \n",
       "4                0             0             0             0             0   \n",
       "...            ...           ...           ...           ...           ...   \n",
       "2200             0             0             0             0             0   \n",
       "2201             0             0             0             1             0   \n",
       "2202             0             1             0             0             0   \n",
       "2203             0             0             0             0             0   \n",
       "2204             0             0             0             0             0   \n",
       "\n",
       "      AcceptedCmpOverall  \n",
       "0                      0  \n",
       "1                      0  \n",
       "2                      0  \n",
       "3                      0  \n",
       "4                      0  \n",
       "...                  ...  \n",
       "2200                   0  \n",
       "2201                   1  \n",
       "2202                   1  \n",
       "2203                   0  \n",
       "2204                   0  \n",
       "\n",
       "[2205 rows x 6 columns]"
      ]
     },
     "execution_count": 86,
     "metadata": {},
     "output_type": "execute_result"
    }
   ],
   "source": [
    "## 1. ¿Que categoría de producto se vendió más según las campañas ejecutadas?\n",
    "data_final.loc[:,data_final.columns.str.startswith(\"Accepted\")]"
   ]
  },
  {
   "cell_type": "code",
   "execution_count": 116,
   "metadata": {},
   "outputs": [],
   "source": [
    "data_final[\"NoAccepterCmpOverall\"] = np.where(data_final[\"AcceptedCmpOverall\"]== 0, 1,0)"
   ]
  },
  {
   "cell_type": "code",
   "execution_count": 94,
   "metadata": {},
   "outputs": [
    {
     "data": {
      "text/plain": [
       "AcceptedCmp2     30\n",
       "AcceptedCmp1    142\n",
       "AcceptedCmp5    161\n",
       "AcceptedCmp3    163\n",
       "AcceptedCmp4    164\n",
       "dtype: int64"
      ]
     },
     "execution_count": 94,
     "metadata": {},
     "output_type": "execute_result"
    }
   ],
   "source": [
    "## ¿Cuantas personas aceptaron la campaña piloto según las distintas campañas creadas anteriormente?\n",
    "data_final.loc[:,data_final.columns.str.startswith(\"Accepted\")].iloc[:,:-1].sum().sort_values()"
   ]
  },
  {
   "cell_type": "code",
   "execution_count": 146,
   "metadata": {},
   "outputs": [
    {
     "data": {
      "image/png": "[encoded data removed]",
      "text/plain": [
       "<Figure size 864x720 with 5 Axes>"
      ]
     },
     "metadata": {},
     "output_type": "display_data"
    }
   ],
   "source": [
    "## ¿Cuantas personas aceptaron la campaña piloto según las distintas campañas creadas anteriormente?\n",
    "fig, axes = plt.subplots(nrows = 2, ncols = 3, figsize = (12,10))\n",
    "axes = axes.flat\n",
    "for i,j in enumerate(['AcceptedCmp1','AcceptedCmp2','AcceptedCmp3','AcceptedCmp4','AcceptedCmp5']):\n",
    "    data_final[data_final[j] == 1].groupby(\"Response\").size().plot(kind = \"bar\", ax = axes[i])\n",
    "    axes[i].set_title(\"Accepted Campaing Pilot\\nvalues of who \" + j)\n",
    "fig.delaxes(axes[5])\n"
   ]
  },
  {
   "cell_type": "code",
   "execution_count": 148,
   "metadata": {},
   "outputs": [],
   "source": [
    "## ¿Cuantas personas aceptaron la campaña piloto  de las personas que aceptaron más de una campaña anteriormente?\n",
    "data_final[\"Accmost1\"] = np.where(data_final[\"AcceptedCmpOverall\"] > 1,1,0)"
   ]
  },
  {
   "cell_type": "code",
   "execution_count": 159,
   "metadata": {},
   "outputs": [
    {
     "data": {
      "text/plain": [
       "6.167800453514739"
      ]
     },
     "execution_count": 159,
     "metadata": {},
     "output_type": "execute_result"
    }
   ],
   "source": [
    "## ¿Cúal es el % de usuarios que aceptaron más de una campaña ?\n",
    "(data_final[\"Accmost1\"].sum() / data_final.shape[0])*100"
   ]
  },
  {
   "cell_type": "code",
   "execution_count": 161,
   "metadata": {},
   "outputs": [
    {
     "data": {
      "text/plain": [
       "136"
      ]
     },
     "execution_count": 161,
     "metadata": {},
     "output_type": "execute_result"
    }
   ],
   "source": [
    "data_final[\"Accmost1\"].sum() "
   ]
  },
  {
   "cell_type": "code",
   "execution_count": 156,
   "metadata": {},
   "outputs": [
    {
     "data": {
      "image/png": "[encoded data removed]",
      "text/plain": [
       "<Figure size 432x288 with 1 Axes>"
      ]
     },
     "metadata": {},
     "output_type": "display_data"
    }
   ],
   "source": [
    "## ¿Cuantas personas aceptaron la campaña piloto  de las personas que aceptaron más de una campaña anteriormente?\n",
    "bar_acc = data_final[data_final[\"Accmost1\"] == 1 ].groupby(\"Response\").size().plot(kind = \"bar\")\n",
    "for container in bar_acc.containers:\n",
    "    bar_acc.bar_label(container)\n",
    "plt.title(\"Personas  que aceptaron más de una campaña anteriormente\\n y que aceptaron la campaña piloto\")\n",
    "plt.show()"
   ]
  },
  {
   "cell_type": "code",
   "execution_count": 166,
   "metadata": {},
   "outputs": [
    {
     "name": "stdout",
     "output_type": "stream",
     "text": [
      "% de personas que aceptaron la campaña piloto de las personas que aceptaron más de una campaña anteriormente\n"
     ]
    },
    {
     "data": {
      "text/plain": [
       "Response\n",
       "0    36.029412\n",
       "1    63.970588\n",
       "dtype: float64"
      ]
     },
     "execution_count": 166,
     "metadata": {},
     "output_type": "execute_result"
    }
   ],
   "source": [
    "print(\"% de personas que aceptaron la campaña piloto de las personas que aceptaron más de una campaña anteriormente\")\n",
    "(data_final[data_final[\"Accmost1\"] == 1 ].groupby(\"Response\").size() /data_final[data_final[\"Accmost1\"] == 1 ].groupby(\"Response\").size().sum())*100"
   ]
  },
  {
   "cell_type": "code",
   "execution_count": 168,
   "metadata": {},
   "outputs": [
    {
     "name": "stdout",
     "output_type": "stream",
     "text": [
      "% de personas que aceptaron la campaña piloto de las personas que  no aceptaron ninguna campaña anteriormente\n"
     ]
    },
    {
     "data": {
      "text/plain": [
       "Response\n",
       "0    88.110198\n",
       "1    11.889802\n",
       "dtype: float64"
      ]
     },
     "execution_count": 168,
     "metadata": {},
     "output_type": "execute_result"
    }
   ],
   "source": [
    "print(\"% de personas que aceptaron la campaña piloto de las personas que  no aceptaron ninguna campaña anteriormente\")\n",
    "(data_final[data_final[\"Accmost1\"] == 0 ].groupby(\"Response\").size() /data_final[data_final[\"Accmost1\"] == 0 ].groupby(\"Response\").size().sum())*100"
   ]
  },
  {
   "cell_type": "code",
   "execution_count": 179,
   "metadata": {},
   "outputs": [
    {
     "data": {
      "image/png": "[encoded data removed]",
      "text/plain": [
       "<Figure size 432x288 with 1 Axes>"
      ]
     },
     "metadata": {},
     "output_type": "display_data"
    }
   ],
   "source": [
    "## Niveles de ingresos\n",
    "sns.boxplot(x = \"IncomeOrder\", y = \"MntProducts\",data = data_final)\n",
    "plt.show()"
   ]
  },
  {
   "cell_type": "code",
   "execution_count": 181,
   "metadata": {},
   "outputs": [
    {
     "data": {
      "text/plain": [
       "<AxesSubplot:>"
      ]
     },
     "execution_count": 181,
     "metadata": {},
     "output_type": "execute_result"
    },
    {
     "data": {
      "image/png": "[encoded data removed]",
      "text/plain": [
       "<Figure size 432x288 with 1 Axes>"
      ]
     },
     "metadata": {},
     "output_type": "display_data"
    }
   ],
   "source": [
    "sns.boxplot(data = data_final['Income'])"
   ]
  },
  {
   "cell_type": "markdown",
   "metadata": {},
   "source": [
    "Los ingresos están concetrando entre 40000 a 60000 UM "
   ]
  },
  {
   "cell_type": "code",
   "execution_count": 177,
   "metadata": {},
   "outputs": [
    {
     "data": {
      "text/html": [
       "<style type=\"text/css\">\n",
       "#T_4177d_row0_col0, #T_4177d_row0_col1, #T_4177d_row0_col3, #T_4177d_row0_col4, #T_4177d_row3_col2 {\n",
       "  background-color: #fff7fb;\n",
       "  color: #000000;\n",
       "}\n",
       "#T_4177d_row0_col2 {\n",
       "  background-color: #d7d6e9;\n",
       "  color: #000000;\n",
       "}\n",
       "#T_4177d_row1_col0 {\n",
       "  background-color: #f5eef6;\n",
       "  color: #000000;\n",
       "}\n",
       "#T_4177d_row1_col1 {\n",
       "  background-color: #2685bb;\n",
       "  color: #f1f1f1;\n",
       "}\n",
       "#T_4177d_row1_col2, #T_4177d_row2_col0, #T_4177d_row2_col1, #T_4177d_row2_col3, #T_4177d_row2_col4 {\n",
       "  background-color: #023858;\n",
       "  color: #f1f1f1;\n",
       "}\n",
       "#T_4177d_row1_col3 {\n",
       "  background-color: #84b0d3;\n",
       "  color: #f1f1f1;\n",
       "}\n",
       "#T_4177d_row1_col4 {\n",
       "  background-color: #fef6fa;\n",
       "  color: #000000;\n",
       "}\n",
       "#T_4177d_row2_col2 {\n",
       "  background-color: #79abd0;\n",
       "  color: #f1f1f1;\n",
       "}\n",
       "#T_4177d_row3_col0 {\n",
       "  background-color: #afc1dd;\n",
       "  color: #000000;\n",
       "}\n",
       "#T_4177d_row3_col1 {\n",
       "  background-color: #b4c4df;\n",
       "  color: #000000;\n",
       "}\n",
       "#T_4177d_row3_col3 {\n",
       "  background-color: #d0d1e6;\n",
       "  color: #000000;\n",
       "}\n",
       "#T_4177d_row3_col4 {\n",
       "  background-color: #81aed2;\n",
       "  color: #f1f1f1;\n",
       "}\n",
       "</style>\n",
       "<table id=\"T_4177d\">\n",
       "  <thead>\n",
       "    <tr>\n",
       "      <th class=\"blank level0\" >&nbsp;</th>\n",
       "      <th id=\"T_4177d_level0_col0\" class=\"col_heading level0 col0\" >AcceptedCmp1</th>\n",
       "      <th id=\"T_4177d_level0_col1\" class=\"col_heading level0 col1\" >AcceptedCmp2</th>\n",
       "      <th id=\"T_4177d_level0_col2\" class=\"col_heading level0 col2\" >AcceptedCmp3</th>\n",
       "      <th id=\"T_4177d_level0_col3\" class=\"col_heading level0 col3\" >AcceptedCmp4</th>\n",
       "      <th id=\"T_4177d_level0_col4\" class=\"col_heading level0 col4\" >AcceptedCmp5</th>\n",
       "    </tr>\n",
       "    <tr>\n",
       "      <th class=\"index_name level0\" >IncomeOrder</th>\n",
       "      <th class=\"blank col0\" >&nbsp;</th>\n",
       "      <th class=\"blank col1\" >&nbsp;</th>\n",
       "      <th class=\"blank col2\" >&nbsp;</th>\n",
       "      <th class=\"blank col3\" >&nbsp;</th>\n",
       "      <th class=\"blank col4\" >&nbsp;</th>\n",
       "    </tr>\n",
       "  </thead>\n",
       "  <tbody>\n",
       "    <tr>\n",
       "      <th id=\"T_4177d_level0_row0\" class=\"row_heading level0 row0\" >(1617.996, 29731.0]</th>\n",
       "      <td id=\"T_4177d_row0_col0\" class=\"data row0 col0\" >0</td>\n",
       "      <td id=\"T_4177d_row0_col1\" class=\"data row0 col1\" >0</td>\n",
       "      <td id=\"T_4177d_row0_col2\" class=\"data row0 col2\" >26</td>\n",
       "      <td id=\"T_4177d_row0_col3\" class=\"data row0 col3\" >0</td>\n",
       "      <td id=\"T_4177d_row0_col4\" class=\"data row0 col4\" >0</td>\n",
       "    </tr>\n",
       "    <tr>\n",
       "      <th id=\"T_4177d_level0_row1\" class=\"row_heading level0 row1\" >(29731.0, 57732.0]</th>\n",
       "      <td id=\"T_4177d_row1_col0\" class=\"data row1 col0\" >7</td>\n",
       "      <td id=\"T_4177d_row1_col1\" class=\"data row1 col1\" >10</td>\n",
       "      <td id=\"T_4177d_row1_col2\" class=\"data row1 col2\" >82</td>\n",
       "      <td id=\"T_4177d_row1_col3\" class=\"data row1 col3\" >44</td>\n",
       "      <td id=\"T_4177d_row1_col4\" class=\"data row1 col4\" >1</td>\n",
       "    </tr>\n",
       "    <tr>\n",
       "      <th id=\"T_4177d_level0_row2\" class=\"row_heading level0 row2\" >(57732.0, 85733.0]</th>\n",
       "      <td id=\"T_4177d_row2_col0\" class=\"data row2 col0\" >100</td>\n",
       "      <td id=\"T_4177d_row2_col1\" class=\"data row2 col1\" >15</td>\n",
       "      <td id=\"T_4177d_row2_col2\" class=\"data row2 col2\" >45</td>\n",
       "      <td id=\"T_4177d_row2_col3\" class=\"data row2 col3\" >96</td>\n",
       "      <td id=\"T_4177d_row2_col4\" class=\"data row2 col4\" >109</td>\n",
       "    </tr>\n",
       "    <tr>\n",
       "      <th id=\"T_4177d_level0_row3\" class=\"row_heading level0 row3\" >(85733.0, 113734.0]</th>\n",
       "      <td id=\"T_4177d_row3_col0\" class=\"data row3 col0\" >35</td>\n",
       "      <td id=\"T_4177d_row3_col1\" class=\"data row3 col1\" >5</td>\n",
       "      <td id=\"T_4177d_row3_col2\" class=\"data row3 col2\" >10</td>\n",
       "      <td id=\"T_4177d_row3_col3\" class=\"data row3 col3\" >24</td>\n",
       "      <td id=\"T_4177d_row3_col4\" class=\"data row3 col4\" >51</td>\n",
       "    </tr>\n",
       "  </tbody>\n",
       "</table>\n"
      ],
      "text/plain": [
       "<pandas.io.formats.style.Styler at 0x27f97fbe9d0>"
      ]
     },
     "execution_count": 177,
     "metadata": {},
     "output_type": "execute_result"
    }
   ],
   "source": [
    "## 3. ¿cuantas campañas en promedio se aceptaron según nivel de ingreso?\n",
    "data_final.groupby(\"IncomeOrder\").agg(AcceptedCmp1 = ('AcceptedCmp1',\"sum\"),\n",
    "AcceptedCmp2 = ('AcceptedCmp2',\"sum\"),\n",
    "AcceptedCmp3 = ('AcceptedCmp3',\"sum\"),\n",
    "AcceptedCmp4 = ('AcceptedCmp4',\"sum\"),\n",
    "AcceptedCmp5 = ('AcceptedCmp5',\"sum\")\n",
    ").sort_index().style.background_gradient(cmap='PuBu')"
   ]
  },
  {
   "cell_type": "markdown",
   "metadata": {},
   "source": [
    "Las personas con ingresos medios altos son las personas que más dispuestos a aceptar una oferta de una campaña de IFood."
   ]
  },
  {
   "cell_type": "code",
   "execution_count": 184,
   "metadata": {},
   "outputs": [
    {
     "data": {
      "text/plain": [
       "IncomeOrder          Response\n",
       "(1617.996, 29731.0]  0           324\n",
       "                     1            39\n",
       "(29731.0, 57732.0]   0           830\n",
       "                     1           111\n",
       "(57732.0, 85733.0]   0           681\n",
       "                     1           141\n",
       "(85733.0, 113734.0]  0            37\n",
       "                     1            42\n",
       "dtype: int64"
      ]
     },
     "execution_count": 184,
     "metadata": {},
     "output_type": "execute_result"
    }
   ],
   "source": [
    "## ¿cuantas aceptaron la campaña piloto según nivel de ingreso?\n",
    "data_final.groupby([\"IncomeOrder\",\"Response\"]).size()"
   ]
  },
  {
   "cell_type": "code",
   "execution_count": 186,
   "metadata": {},
   "outputs": [
    {
     "data": {
      "text/html": [
       "<div>\n",
       "<style scoped>\n",
       "    .dataframe tbody tr th:only-of-type {\n",
       "        vertical-align: middle;\n",
       "    }\n",
       "\n",
       "    .dataframe tbody tr th {\n",
       "        vertical-align: top;\n",
       "    }\n",
       "\n",
       "    .dataframe thead th {\n",
       "        text-align: right;\n",
       "    }\n",
       "</style>\n",
       "<table border=\"1\" class=\"dataframe\">\n",
       "  <thead>\n",
       "    <tr style=\"text-align: right;\">\n",
       "      <th>Response</th>\n",
       "      <th>0</th>\n",
       "      <th>1</th>\n",
       "    </tr>\n",
       "    <tr>\n",
       "      <th>IncomeOrder</th>\n",
       "      <th></th>\n",
       "      <th></th>\n",
       "    </tr>\n",
       "  </thead>\n",
       "  <tbody>\n",
       "    <tr>\n",
       "      <th>(1617.996, 29731.0]</th>\n",
       "      <td>0.892562</td>\n",
       "      <td>0.107438</td>\n",
       "    </tr>\n",
       "    <tr>\n",
       "      <th>(29731.0, 57732.0]</th>\n",
       "      <td>0.882040</td>\n",
       "      <td>0.117960</td>\n",
       "    </tr>\n",
       "    <tr>\n",
       "      <th>(57732.0, 85733.0]</th>\n",
       "      <td>0.828467</td>\n",
       "      <td>0.171533</td>\n",
       "    </tr>\n",
       "    <tr>\n",
       "      <th>(85733.0, 113734.0]</th>\n",
       "      <td>0.468354</td>\n",
       "      <td>0.531646</td>\n",
       "    </tr>\n",
       "  </tbody>\n",
       "</table>\n",
       "</div>"
      ],
      "text/plain": [
       "Response                    0         1\n",
       "IncomeOrder                            \n",
       "(1617.996, 29731.0]  0.892562  0.107438\n",
       "(29731.0, 57732.0]   0.882040  0.117960\n",
       "(57732.0, 85733.0]   0.828467  0.171533\n",
       "(85733.0, 113734.0]  0.468354  0.531646"
      ]
     },
     "execution_count": 186,
     "metadata": {},
     "output_type": "execute_result"
    }
   ],
   "source": [
    "pd.crosstab(data_final[\"IncomeOrder\"],data_final[\"Response\"], normalize='index')"
   ]
  },
  {
   "cell_type": "code",
   "execution_count": 207,
   "metadata": {},
   "outputs": [
    {
     "data": {
      "text/html": [
       "<style type=\"text/css\">\n",
       "#T_8c240_row0_col0, #T_8c240_row10_col1 {\n",
       "  background-color: #fdf5fa;\n",
       "  color: #000000;\n",
       "}\n",
       "#T_8c240_row0_col1, #T_8c240_row10_col0, #T_8c240_row11_col0, #T_8c240_row11_col1, #T_8c240_row12_col0, #T_8c240_row12_col1, #T_8c240_row13_col0, #T_8c240_row13_col1, #T_8c240_row14_col0, #T_8c240_row14_col1, #T_8c240_row15_col1 {\n",
       "  background-color: #fff7fb;\n",
       "  color: #000000;\n",
       "}\n",
       "#T_8c240_row1_col0 {\n",
       "  background-color: #b1c2de;\n",
       "  color: #000000;\n",
       "}\n",
       "#T_8c240_row1_col1, #T_8c240_row9_col1 {\n",
       "  background-color: #6fa7ce;\n",
       "  color: #f1f1f1;\n",
       "}\n",
       "#T_8c240_row2_col0 {\n",
       "  background-color: #80aed2;\n",
       "  color: #f1f1f1;\n",
       "}\n",
       "#T_8c240_row2_col1 {\n",
       "  background-color: #187cb6;\n",
       "  color: #f1f1f1;\n",
       "}\n",
       "#T_8c240_row3_col0 {\n",
       "  background-color: #76aad0;\n",
       "  color: #f1f1f1;\n",
       "}\n",
       "#T_8c240_row3_col1 {\n",
       "  background-color: #4c99c5;\n",
       "  color: #f1f1f1;\n",
       "}\n",
       "#T_8c240_row4_col0 {\n",
       "  background-color: #5a9ec9;\n",
       "  color: #f1f1f1;\n",
       "}\n",
       "#T_8c240_row4_col1 {\n",
       "  background-color: #86b0d3;\n",
       "  color: #000000;\n",
       "}\n",
       "#T_8c240_row5_col0 {\n",
       "  background-color: #0872b1;\n",
       "  color: #f1f1f1;\n",
       "}\n",
       "#T_8c240_row5_col1 {\n",
       "  background-color: #8cb3d5;\n",
       "  color: #000000;\n",
       "}\n",
       "#T_8c240_row6_col0 {\n",
       "  background-color: #046198;\n",
       "  color: #f1f1f1;\n",
       "}\n",
       "#T_8c240_row6_col1 {\n",
       "  background-color: #046096;\n",
       "  color: #f1f1f1;\n",
       "}\n",
       "#T_8c240_row7_col0, #T_8c240_row8_col1 {\n",
       "  background-color: #023858;\n",
       "  color: #f1f1f1;\n",
       "}\n",
       "#T_8c240_row7_col1 {\n",
       "  background-color: #0569a4;\n",
       "  color: #f1f1f1;\n",
       "}\n",
       "#T_8c240_row8_col0 {\n",
       "  background-color: #04629a;\n",
       "  color: #f1f1f1;\n",
       "}\n",
       "#T_8c240_row9_col0 {\n",
       "  background-color: #e6e2ef;\n",
       "  color: #000000;\n",
       "}\n",
       "#T_8c240_row15_col0 {\n",
       "  background-color: #fef6fb;\n",
       "  color: #000000;\n",
       "}\n",
       "</style>\n",
       "<table id=\"T_8c240\">\n",
       "  <thead>\n",
       "    <tr>\n",
       "      <th class=\"index_name level0\" >Response</th>\n",
       "      <th id=\"T_8c240_level0_col0\" class=\"col_heading level0 col0\" >0</th>\n",
       "      <th id=\"T_8c240_level0_col1\" class=\"col_heading level0 col1\" >1</th>\n",
       "    </tr>\n",
       "    <tr>\n",
       "      <th class=\"index_name level0\" >NumWebVisitsMonth</th>\n",
       "      <th class=\"blank col0\" >&nbsp;</th>\n",
       "      <th class=\"blank col1\" >&nbsp;</th>\n",
       "    </tr>\n",
       "  </thead>\n",
       "  <tbody>\n",
       "    <tr>\n",
       "      <th id=\"T_8c240_level0_row0\" class=\"row_heading level0 row0\" >0</th>\n",
       "      <td id=\"T_8c240_row0_col0\" class=\"data row0 col0\" >0.003205</td>\n",
       "      <td id=\"T_8c240_row0_col1\" class=\"data row0 col1\" >0.000000</td>\n",
       "    </tr>\n",
       "    <tr>\n",
       "      <th id=\"T_8c240_level0_row1\" class=\"row_heading level0 row1\" >1</th>\n",
       "      <td id=\"T_8c240_row1_col0\" class=\"data row1 col0\" >0.062500</td>\n",
       "      <td id=\"T_8c240_row1_col1\" class=\"data row1 col1\" >0.087087</td>\n",
       "    </tr>\n",
       "    <tr>\n",
       "      <th id=\"T_8c240_level0_row2\" class=\"row_heading level0 row2\" >2</th>\n",
       "      <td id=\"T_8c240_row2_col0\" class=\"data row2 col0\" >0.086004</td>\n",
       "      <td id=\"T_8c240_row2_col1\" class=\"data row2 col1\" >0.120120</td>\n",
       "    </tr>\n",
       "    <tr>\n",
       "      <th id=\"T_8c240_level0_row3\" class=\"row_heading level0 row3\" >3</th>\n",
       "      <td id=\"T_8c240_row3_col0\" class=\"data row3 col0\" >0.090812</td>\n",
       "      <td id=\"T_8c240_row3_col1\" class=\"data row3 col1\" >0.099099</td>\n",
       "    </tr>\n",
       "    <tr>\n",
       "      <th id=\"T_8c240_level0_row4\" class=\"row_heading level0 row4\" >4</th>\n",
       "      <td id=\"T_8c240_row4_col0\" class=\"data row4 col0\" >0.101496</td>\n",
       "      <td id=\"T_8c240_row4_col1\" class=\"data row4 col1\" >0.078078</td>\n",
       "    </tr>\n",
       "    <tr>\n",
       "      <th id=\"T_8c240_level0_row5\" class=\"row_heading level0 row5\" >5</th>\n",
       "      <td id=\"T_8c240_row5_col0\" class=\"data row5 col0\" >0.135150</td>\n",
       "      <td id=\"T_8c240_row5_col1\" class=\"data row5 col1\" >0.075075</td>\n",
       "    </tr>\n",
       "    <tr>\n",
       "      <th id=\"T_8c240_level0_row6\" class=\"row_heading level0 row6\" >6</th>\n",
       "      <td id=\"T_8c240_row6_col0\" class=\"data row6 col0\" >0.152778</td>\n",
       "      <td id=\"T_8c240_row6_col1\" class=\"data row6 col1\" >0.144144</td>\n",
       "    </tr>\n",
       "    <tr>\n",
       "      <th id=\"T_8c240_level0_row7\" class=\"row_heading level0 row7\" >7</th>\n",
       "      <td id=\"T_8c240_row7_col0\" class=\"data row7 col0\" >0.182692</td>\n",
       "      <td id=\"T_8c240_row7_col1\" class=\"data row7 col1\" >0.135135</td>\n",
       "    </tr>\n",
       "    <tr>\n",
       "      <th id=\"T_8c240_level0_row8\" class=\"row_heading level0 row8\" >8</th>\n",
       "      <td id=\"T_8c240_row8_col0\" class=\"data row8 col0\" >0.151175</td>\n",
       "      <td id=\"T_8c240_row8_col1\" class=\"data row8 col1\" >0.171171</td>\n",
       "    </tr>\n",
       "    <tr>\n",
       "      <th id=\"T_8c240_level0_row9\" class=\"row_heading level0 row9\" >9</th>\n",
       "      <td id=\"T_8c240_row9_col0\" class=\"data row9 col0\" >0.028312</td>\n",
       "      <td id=\"T_8c240_row9_col1\" class=\"data row9 col1\" >0.087087</td>\n",
       "    </tr>\n",
       "    <tr>\n",
       "      <th id=\"T_8c240_level0_row10\" class=\"row_heading level0 row10\" >10</th>\n",
       "      <td id=\"T_8c240_row10_col0\" class=\"data row10 col0\" >0.001068</td>\n",
       "      <td id=\"T_8c240_row10_col1\" class=\"data row10 col1\" >0.003003</td>\n",
       "    </tr>\n",
       "    <tr>\n",
       "      <th id=\"T_8c240_level0_row11\" class=\"row_heading level0 row11\" >13</th>\n",
       "      <td id=\"T_8c240_row11_col0\" class=\"data row11 col0\" >0.000534</td>\n",
       "      <td id=\"T_8c240_row11_col1\" class=\"data row11 col1\" >0.000000</td>\n",
       "    </tr>\n",
       "    <tr>\n",
       "      <th id=\"T_8c240_level0_row12\" class=\"row_heading level0 row12\" >14</th>\n",
       "      <td id=\"T_8c240_row12_col0\" class=\"data row12 col0\" >0.001068</td>\n",
       "      <td id=\"T_8c240_row12_col1\" class=\"data row12 col1\" >0.000000</td>\n",
       "    </tr>\n",
       "    <tr>\n",
       "      <th id=\"T_8c240_level0_row13\" class=\"row_heading level0 row13\" >17</th>\n",
       "      <td id=\"T_8c240_row13_col0\" class=\"data row13 col0\" >0.000534</td>\n",
       "      <td id=\"T_8c240_row13_col1\" class=\"data row13 col1\" >0.000000</td>\n",
       "    </tr>\n",
       "    <tr>\n",
       "      <th id=\"T_8c240_level0_row14\" class=\"row_heading level0 row14\" >19</th>\n",
       "      <td id=\"T_8c240_row14_col0\" class=\"data row14 col0\" >0.001068</td>\n",
       "      <td id=\"T_8c240_row14_col1\" class=\"data row14 col1\" >0.000000</td>\n",
       "    </tr>\n",
       "    <tr>\n",
       "      <th id=\"T_8c240_level0_row15\" class=\"row_heading level0 row15\" >20</th>\n",
       "      <td id=\"T_8c240_row15_col0\" class=\"data row15 col0\" >0.001603</td>\n",
       "      <td id=\"T_8c240_row15_col1\" class=\"data row15 col1\" >0.000000</td>\n",
       "    </tr>\n",
       "  </tbody>\n",
       "</table>\n"
      ],
      "text/plain": [
       "<pandas.io.formats.style.Styler at 0x27f940a2160>"
      ]
     },
     "execution_count": 207,
     "metadata": {},
     "output_type": "execute_result"
    }
   ],
   "source": [
    "## ¿% de personas que aceptaron la prueba piloto por número de visitas al mes ?\n",
    "pd.crosstab(data_final[\"NumWebVisitsMonth\"], data_final[\"Response\"],normalize= \"columns\").style.background_gradient(cmap='PuBu')"
   ]
  },
  {
   "cell_type": "code",
   "execution_count": 228,
   "metadata": {},
   "outputs": [
    {
     "name": "stderr",
     "output_type": "stream",
     "text": [
      "C:\\Users\\jose2\\AppData\\Local\\Temp\\ipykernel_12820\\2675786476.py:1: FutureWarning: In a future version of pandas all arguments of DataFrame.drop except for the argument 'labels' will be keyword-only.\n",
      "  data_final[\"marital_status\"] = data_final.loc[:,data_final.columns.str.startswith(\"marital\")][data_final==1].stack().reset_index().drop(0,1).iloc[:,-1]\n"
     ]
    }
   ],
   "source": [
    "data_final[\"marital_status\"] = data_final.loc[:,data_final.columns.str.startswith(\"marital\")][data_final==1].stack().reset_index().drop(0,1).iloc[:,-1]"
   ]
  },
  {
   "cell_type": "code",
   "execution_count": 231,
   "metadata": {},
   "outputs": [
    {
     "data": {
      "text/html": [
       "<div>\n",
       "<style scoped>\n",
       "    .dataframe tbody tr th:only-of-type {\n",
       "        vertical-align: middle;\n",
       "    }\n",
       "\n",
       "    .dataframe tbody tr th {\n",
       "        vertical-align: top;\n",
       "    }\n",
       "\n",
       "    .dataframe thead th {\n",
       "        text-align: right;\n",
       "    }\n",
       "</style>\n",
       "<table border=\"1\" class=\"dataframe\">\n",
       "  <thead>\n",
       "    <tr style=\"text-align: right;\">\n",
       "      <th>Response</th>\n",
       "      <th>0</th>\n",
       "      <th>1</th>\n",
       "    </tr>\n",
       "    <tr>\n",
       "      <th>marital_status</th>\n",
       "      <th></th>\n",
       "      <th></th>\n",
       "    </tr>\n",
       "  </thead>\n",
       "  <tbody>\n",
       "    <tr>\n",
       "      <th>marital_Divorced</th>\n",
       "      <td>0.097222</td>\n",
       "      <td>0.144144</td>\n",
       "    </tr>\n",
       "    <tr>\n",
       "      <th>marital_Married</th>\n",
       "      <td>0.403846</td>\n",
       "      <td>0.294294</td>\n",
       "    </tr>\n",
       "    <tr>\n",
       "      <th>marital_Single</th>\n",
       "      <td>0.196581</td>\n",
       "      <td>0.327327</td>\n",
       "    </tr>\n",
       "    <tr>\n",
       "      <th>marital_Together</th>\n",
       "      <td>0.271368</td>\n",
       "      <td>0.180180</td>\n",
       "    </tr>\n",
       "    <tr>\n",
       "      <th>marital_Widow</th>\n",
       "      <td>0.030983</td>\n",
       "      <td>0.054054</td>\n",
       "    </tr>\n",
       "  </tbody>\n",
       "</table>\n",
       "</div>"
      ],
      "text/plain": [
       "Response                 0         1\n",
       "marital_status                      \n",
       "marital_Divorced  0.097222  0.144144\n",
       "marital_Married   0.403846  0.294294\n",
       "marital_Single    0.196581  0.327327\n",
       "marital_Together  0.271368  0.180180\n",
       "marital_Widow     0.030983  0.054054"
      ]
     },
     "execution_count": 231,
     "metadata": {},
     "output_type": "execute_result"
    }
   ],
   "source": [
    "## ¿Qué situación civil estaban las personas que aceptaron la campaña piloto ?\n",
    "pd.crosstab(data_final[\"marital_status\"], data_final[\"Response\"], normalize= \"columns\")"
   ]
  },
  {
   "cell_type": "code",
   "execution_count": 235,
   "metadata": {},
   "outputs": [],
   "source": [
    "## ¿% de personas que tiene un 1 o más hijos menores en su familia y que aceptaron las campañas pilotos ?\n",
    "\n",
    "data_final[\"Kidhomemost1\"] = np.where(data_final[\"Kidhome\"] >= 1,1,0)"
   ]
  },
  {
   "cell_type": "code",
   "execution_count": 236,
   "metadata": {},
   "outputs": [
    {
     "name": "stdout",
     "output_type": "stream",
     "text": [
      "% de personas que aceptaron la campaña piloto que tiene por lo menos un hijo menor en la casa\n"
     ]
    },
    {
     "data": {
      "text/plain": [
       "Response\n",
       "0    87.944026\n",
       "1    12.055974\n",
       "dtype: float64"
      ]
     },
     "execution_count": 236,
     "metadata": {},
     "output_type": "execute_result"
    }
   ],
   "source": [
    "print(\"% de personas que aceptaron la campaña piloto que tiene por lo menos un hijo menor en la casa\")\n",
    "(data_final[data_final[\"Kidhomemost1\"] == 1 ].groupby(\"Response\").size() /data_final[data_final[\"Kidhomemost1\"] == 1 ].groupby(\"Response\").size().sum())*100"
   ]
  },
  {
   "cell_type": "code",
   "execution_count": 238,
   "metadata": {},
   "outputs": [
    {
     "name": "stdout",
     "output_type": "stream",
     "text": [
      "% de personas que aceptaron la campaña piloto y que no tienen un hijo menor en la casa\n"
     ]
    },
    {
     "data": {
      "text/plain": [
       "Response\n",
       "0    82.680251\n",
       "1    17.319749\n",
       "dtype: float64"
      ]
     },
     "execution_count": 238,
     "metadata": {},
     "output_type": "execute_result"
    }
   ],
   "source": [
    "print(\"% de personas que aceptaron la campaña piloto y que no tienen un hijo menor en la casa\")\n",
    "(data_final[data_final[\"Kidhomemost1\"] == 0 ].groupby(\"Response\").size() /data_final[data_final[\"Kidhomemost1\"] == 0 ].groupby(\"Response\").size().sum())*100"
   ]
  },
  {
   "cell_type": "code",
   "execution_count": 242,
   "metadata": {},
   "outputs": [
    {
     "data": {
      "text/html": [
       "<div>\n",
       "<style scoped>\n",
       "    .dataframe tbody tr th:only-of-type {\n",
       "        vertical-align: middle;\n",
       "    }\n",
       "\n",
       "    .dataframe tbody tr th {\n",
       "        vertical-align: top;\n",
       "    }\n",
       "\n",
       "    .dataframe thead th {\n",
       "        text-align: right;\n",
       "    }\n",
       "</style>\n",
       "<table border=\"1\" class=\"dataframe\">\n",
       "  <thead>\n",
       "    <tr style=\"text-align: right;\">\n",
       "      <th>Response</th>\n",
       "      <th>0</th>\n",
       "      <th>1</th>\n",
       "    </tr>\n",
       "    <tr>\n",
       "      <th>Kidhomemost1</th>\n",
       "      <th></th>\n",
       "      <th></th>\n",
       "    </tr>\n",
       "  </thead>\n",
       "  <tbody>\n",
       "    <tr>\n",
       "      <th>0</th>\n",
       "      <td>0.563568</td>\n",
       "      <td>0.663664</td>\n",
       "    </tr>\n",
       "    <tr>\n",
       "      <th>1</th>\n",
       "      <td>0.436432</td>\n",
       "      <td>0.336336</td>\n",
       "    </tr>\n",
       "  </tbody>\n",
       "</table>\n",
       "</div>"
      ],
      "text/plain": [
       "Response             0         1\n",
       "Kidhomemost1                    \n",
       "0             0.563568  0.663664\n",
       "1             0.436432  0.336336"
      ]
     },
     "execution_count": 242,
     "metadata": {},
     "output_type": "execute_result"
    }
   ],
   "source": [
    "pd.crosstab(data_final[\"Kidhomemost1\"],data_final[\"Response\"],normalize= \"columns\")"
   ]
  },
  {
   "cell_type": "code",
   "execution_count": 243,
   "metadata": {},
   "outputs": [],
   "source": [
    "data_final[\"teenhomemost1\"] = np.where(data_final[\"Teenhome\"] >= 1,1,0)"
   ]
  },
  {
   "cell_type": "code",
   "execution_count": 244,
   "metadata": {},
   "outputs": [
    {
     "data": {
      "text/html": [
       "<div>\n",
       "<style scoped>\n",
       "    .dataframe tbody tr th:only-of-type {\n",
       "        vertical-align: middle;\n",
       "    }\n",
       "\n",
       "    .dataframe tbody tr th {\n",
       "        vertical-align: top;\n",
       "    }\n",
       "\n",
       "    .dataframe thead th {\n",
       "        text-align: right;\n",
       "    }\n",
       "</style>\n",
       "<table border=\"1\" class=\"dataframe\">\n",
       "  <thead>\n",
       "    <tr style=\"text-align: right;\">\n",
       "      <th>Response</th>\n",
       "      <th>0</th>\n",
       "      <th>1</th>\n",
       "    </tr>\n",
       "    <tr>\n",
       "      <th>teenhomemost1</th>\n",
       "      <th></th>\n",
       "      <th></th>\n",
       "    </tr>\n",
       "  </thead>\n",
       "  <tbody>\n",
       "    <tr>\n",
       "      <th>0</th>\n",
       "      <td>0.482372</td>\n",
       "      <td>0.708709</td>\n",
       "    </tr>\n",
       "    <tr>\n",
       "      <th>1</th>\n",
       "      <td>0.517628</td>\n",
       "      <td>0.291291</td>\n",
       "    </tr>\n",
       "  </tbody>\n",
       "</table>\n",
       "</div>"
      ],
      "text/plain": [
       "Response              0         1\n",
       "teenhomemost1                    \n",
       "0              0.482372  0.708709\n",
       "1              0.517628  0.291291"
      ]
     },
     "execution_count": 244,
     "metadata": {},
     "output_type": "execute_result"
    }
   ],
   "source": [
    "pd.crosstab(data_final[\"teenhomemost1\"],data_final[\"Response\"],normalize= \"columns\")"
   ]
  },
  {
   "cell_type": "code",
   "execution_count": 265,
   "metadata": {},
   "outputs": [],
   "source": [
    "## personas que han hecho compras con descuento al menos una vez\n",
    "data_final[\"AcceptDeal\"] = np.where(data_final[\"NumDealsPurchases\"] != 0,1,0)"
   ]
  },
  {
   "cell_type": "code",
   "execution_count": 266,
   "metadata": {},
   "outputs": [
    {
     "data": {
      "text/html": [
       "<div>\n",
       "<style scoped>\n",
       "    .dataframe tbody tr th:only-of-type {\n",
       "        vertical-align: middle;\n",
       "    }\n",
       "\n",
       "    .dataframe tbody tr th {\n",
       "        vertical-align: top;\n",
       "    }\n",
       "\n",
       "    .dataframe thead th {\n",
       "        text-align: right;\n",
       "    }\n",
       "</style>\n",
       "<table border=\"1\" class=\"dataframe\">\n",
       "  <thead>\n",
       "    <tr style=\"text-align: right;\">\n",
       "      <th>Response</th>\n",
       "      <th>0</th>\n",
       "      <th>1</th>\n",
       "    </tr>\n",
       "    <tr>\n",
       "      <th>AcceptDeal</th>\n",
       "      <th></th>\n",
       "      <th></th>\n",
       "    </tr>\n",
       "  </thead>\n",
       "  <tbody>\n",
       "    <tr>\n",
       "      <th>0</th>\n",
       "      <td>23</td>\n",
       "      <td>16</td>\n",
       "    </tr>\n",
       "    <tr>\n",
       "      <th>1</th>\n",
       "      <td>1849</td>\n",
       "      <td>317</td>\n",
       "    </tr>\n",
       "  </tbody>\n",
       "</table>\n",
       "</div>"
      ],
      "text/plain": [
       "Response       0    1\n",
       "AcceptDeal           \n",
       "0             23   16\n",
       "1           1849  317"
      ]
     },
     "execution_count": 266,
     "metadata": {},
     "output_type": "execute_result"
    }
   ],
   "source": [
    "pd.crosstab(data_final[\"AcceptDeal\"],data_final[\"Response\"])"
   ]
  },
  {
   "cell_type": "markdown",
   "metadata": {},
   "source": [
    "### Producto y medio de compra"
   ]
  },
  {
   "cell_type": "code",
   "execution_count": 251,
   "metadata": {},
   "outputs": [
    {
     "data": {
      "text/plain": [
       "<AxesSubplot:>"
      ]
     },
     "execution_count": 251,
     "metadata": {},
     "output_type": "execute_result"
    },
    {
     "data": {
      "image/png": "[encoded data removed]",
      "text/plain": [
       "<Figure size 432x288 with 1 Axes>"
      ]
     },
     "metadata": {},
     "output_type": "display_data"
    }
   ],
   "source": [
    "## ¿ Cuantas compras en promedio se realizaron según medio de compra?\n",
    "data_final.loc[:,[\"NumWebPurchases\",\"NumCatalogPurchases\",\"NumStorePurchases\"]].mean().sort_values().plot(kind = \"barh\")"
   ]
  },
  {
   "cell_type": "code",
   "execution_count": 257,
   "metadata": {},
   "outputs": [
    {
     "data": {
      "text/plain": [
       "<AxesSubplot:>"
      ]
     },
     "execution_count": 257,
     "metadata": {},
     "output_type": "execute_result"
    },
    {
     "data": {
      "image/png": "[encoded data removed]",
      "text/plain": [
       "<Figure size 432x288 with 1 Axes>"
      ]
     },
     "metadata": {},
     "output_type": "display_data"
    }
   ],
   "source": [
    "# ¿Que categoría de producto han gastado más los clientes? se puede realizar por grupos tambien\n",
    "data_final.loc[:,[\"MntWines\",\"MntFruits\",\"MntMeatProducts\",\"MntFishProducts\",\"MntSweetProducts\",\"MntGoldProds\"]].mean().sort_values().plot(kind = \"barh\")"
   ]
  },
  {
   "cell_type": "code",
   "execution_count": 263,
   "metadata": {},
   "outputs": [
    {
     "data": {
      "text/html": [
       "<div>\n",
       "<style scoped>\n",
       "    .dataframe tbody tr th:only-of-type {\n",
       "        vertical-align: middle;\n",
       "    }\n",
       "\n",
       "    .dataframe tbody tr th {\n",
       "        vertical-align: top;\n",
       "    }\n",
       "\n",
       "    .dataframe thead th {\n",
       "        text-align: right;\n",
       "    }\n",
       "</style>\n",
       "<table border=\"1\" class=\"dataframe\">\n",
       "  <thead>\n",
       "    <tr style=\"text-align: right;\">\n",
       "      <th></th>\n",
       "      <th>MntWines</th>\n",
       "      <th>MntFruits</th>\n",
       "      <th>MntMeatProducts</th>\n",
       "      <th>MntFishProducts</th>\n",
       "      <th>MntSweetProducts</th>\n",
       "      <th>MntGoldProds</th>\n",
       "    </tr>\n",
       "    <tr>\n",
       "      <th>marital_status</th>\n",
       "      <th></th>\n",
       "      <th></th>\n",
       "      <th></th>\n",
       "      <th></th>\n",
       "      <th></th>\n",
       "      <th></th>\n",
       "    </tr>\n",
       "  </thead>\n",
       "  <tbody>\n",
       "    <tr>\n",
       "      <th>marital_Divorced</th>\n",
       "      <td>13.650000</td>\n",
       "      <td>1.151449</td>\n",
       "      <td>6.311413</td>\n",
       "      <td>1.471377</td>\n",
       "      <td>1.126268</td>\n",
       "      <td>1.940761</td>\n",
       "    </tr>\n",
       "    <tr>\n",
       "      <th>marital_Married</th>\n",
       "      <td>12.534104</td>\n",
       "      <td>1.071526</td>\n",
       "      <td>6.571136</td>\n",
       "      <td>1.482045</td>\n",
       "      <td>1.118267</td>\n",
       "      <td>1.791228</td>\n",
       "    </tr>\n",
       "    <tr>\n",
       "      <th>marital_Single</th>\n",
       "      <td>12.152166</td>\n",
       "      <td>1.137928</td>\n",
       "      <td>7.674965</td>\n",
       "      <td>1.633211</td>\n",
       "      <td>1.121506</td>\n",
       "      <td>1.831586</td>\n",
       "    </tr>\n",
       "    <tr>\n",
       "      <th>marital_Together</th>\n",
       "      <td>12.898034</td>\n",
       "      <td>1.060153</td>\n",
       "      <td>6.825411</td>\n",
       "      <td>1.633289</td>\n",
       "      <td>1.097711</td>\n",
       "      <td>1.797755</td>\n",
       "    </tr>\n",
       "    <tr>\n",
       "      <th>marital_Widow</th>\n",
       "      <td>15.297149</td>\n",
       "      <td>1.327851</td>\n",
       "      <td>7.722039</td>\n",
       "      <td>2.079496</td>\n",
       "      <td>1.577851</td>\n",
       "      <td>2.327303</td>\n",
       "    </tr>\n",
       "  </tbody>\n",
       "</table>\n",
       "</div>"
      ],
      "text/plain": [
       "                   MntWines  MntFruits  MntMeatProducts  MntFishProducts  \\\n",
       "marital_status                                                             \n",
       "marital_Divorced  13.650000   1.151449         6.311413         1.471377   \n",
       "marital_Married   12.534104   1.071526         6.571136         1.482045   \n",
       "marital_Single    12.152166   1.137928         7.674965         1.633211   \n",
       "marital_Together  12.898034   1.060153         6.825411         1.633289   \n",
       "marital_Widow     15.297149   1.327851         7.722039         2.079496   \n",
       "\n",
       "                  MntSweetProducts  MntGoldProds  \n",
       "marital_status                                    \n",
       "marital_Divorced          1.126268      1.940761  \n",
       "marital_Married           1.118267      1.791228  \n",
       "marital_Single            1.121506      1.831586  \n",
       "marital_Together          1.097711      1.797755  \n",
       "marital_Widow             1.577851      2.327303  "
      ]
     },
     "execution_count": 263,
     "metadata": {},
     "output_type": "execute_result"
    }
   ],
   "source": [
    "## ¿Qué producto gastan más los clientes según estado civil?\n",
    "data_final.groupby(\"marital_status\").mean()[[\"MntWines\",\"MntFruits\",\"MntMeatProducts\",\"MntFishProducts\",\"MntSweetProducts\",\"MntGoldProds\"]] /24"
   ]
  },
  {
   "cell_type": "code",
   "execution_count": 262,
   "metadata": {},
   "outputs": [
    {
     "data": {
      "text/plain": [
       "marital_status\n",
       "marital_Divorced    230\n",
       "marital_Married     854\n",
       "marital_Single      477\n",
       "marital_Together    568\n",
       "marital_Widow        76\n",
       "dtype: int64"
      ]
     },
     "execution_count": 262,
     "metadata": {},
     "output_type": "execute_result"
    }
   ],
   "source": [
    "data_final.groupby(\"marital_status\").size()"
   ]
  }
 ],
 "metadata": {
  "interpreter": {
   "hash": "dfc40ba28b2ff7fa46e5ba7bc3d49c45b2df11cdb94262ee2d3aaaad8550d1db"
  },
  "kernelspec": {
   "display_name": "Python 3.8.5 ('proyectoAnalytics-env')",
   "language": "python",
   "name": "python3"
  },
  "language_info": {
   "codemirror_mode": {
    "name": "ipython",
    "version": 3
   },
   "file_extension": ".py",
   "mimetype": "text/x-python",
   "name": "python",
   "nbconvert_exporter": "python",
   "pygments_lexer": "ipython3",
   "version": "3.8.5"
  },
  "orig_nbformat": 4
 },
 "nbformat": 4,
 "nbformat_minor": 2
}
